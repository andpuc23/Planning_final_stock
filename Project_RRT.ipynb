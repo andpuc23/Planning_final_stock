{
 "cells": [
  {
   "cell_type": "code",
   "execution_count": 1,
   "id": "f4407fdd",
   "metadata": {},
   "outputs": [],
   "source": [
    "import sys\n",
    "sys.path.append('Planning_final_stock/utils/')\n",
    "sys.path.append('Planning_final_stock/')"
   ]
  },
  {
   "cell_type": "markdown",
   "id": "f83e0148",
   "metadata": {},
   "source": [
    "## Attempt of normal code"
   ]
  },
  {
   "cell_type": "code",
   "execution_count": 2,
   "id": "d94d964a",
   "metadata": {},
   "outputs": [
    {
     "name": "stderr",
     "output_type": "stream",
     "text": [
      "C:\\Users\\User\\anaconda3\\lib\\site-packages\\numpy\\_distributor_init.py:30: UserWarning: loaded more than 1 DLL from .libs:\n",
      "C:\\Users\\User\\anaconda3\\lib\\site-packages\\numpy\\.libs\\libopenblas.4SP5SUA7CBGXUEOC35YP2ASOICYYEQZZ.gfortran-win_amd64.dll\n",
      "C:\\Users\\User\\anaconda3\\lib\\site-packages\\numpy\\.libs\\libopenblas.gk7gx5keq4f6uyo3p26ulgbqyhgqo7j4.gfortran-win_amd64.dll\n",
      "C:\\Users\\User\\anaconda3\\lib\\site-packages\\numpy\\.libs\\libopenblas.WCDJNK7YVMPZQ2ME2ZZHJJRJ3JIKNDB7.gfortran-win_amd64.dll\n",
      "  warnings.warn(\"loaded more than 1 DLL from .libs:\"\n"
     ]
    }
   ],
   "source": [
    "from utils.prepare_data import prepare_short_data, prepare_full_data\n",
    "from environment import Environment\n",
    "from datetime import timedelta\n",
    "from models.base_model import Base_model\n",
    "from matplotlib import pyplot as plt\n",
    "\n",
    "import warnings\n",
    "warnings.filterwarnings('ignore')\n",
    "\n",
    "import numpy as np\n",
    "import random"
   ]
  },
  {
   "cell_type": "code",
   "execution_count": 3,
   "id": "4215a6b3",
   "metadata": {},
   "outputs": [],
   "source": [
    "df = prepare_full_data('Planning_final_stock/data/Data_RU.xlsx')\n",
    "env = Environment(data=df, stock_name='AFKS', initial_money=5000)"
   ]
  },
  {
   "cell_type": "code",
   "execution_count": 4,
   "id": "e8e99f0f",
   "metadata": {},
   "outputs": [
    {
     "data": {
      "text/html": [
       "<div>\n",
       "<style scoped>\n",
       "    .dataframe tbody tr th:only-of-type {\n",
       "        vertical-align: middle;\n",
       "    }\n",
       "\n",
       "    .dataframe tbody tr th {\n",
       "        vertical-align: top;\n",
       "    }\n",
       "\n",
       "    .dataframe thead th {\n",
       "        text-align: right;\n",
       "    }\n",
       "</style>\n",
       "<table border=\"1\" class=\"dataframe\">\n",
       "  <thead>\n",
       "    <tr style=\"text-align: right;\">\n",
       "      <th></th>\n",
       "      <th>AFKS_close</th>\n",
       "      <th>AFLT_close</th>\n",
       "      <th>AGRO_close</th>\n",
       "      <th>AKRN_close</th>\n",
       "      <th>ALRS_close</th>\n",
       "      <th>AMEZ_close</th>\n",
       "      <th>APTK_close</th>\n",
       "      <th>AQUA_close</th>\n",
       "      <th>BANEP_close</th>\n",
       "      <th>BELU_close</th>\n",
       "      <th>...</th>\n",
       "      <th>VSMO_D3</th>\n",
       "      <th>VSMO_D4</th>\n",
       "      <th>VTBR_D1</th>\n",
       "      <th>VTBR_D2</th>\n",
       "      <th>VTBR_D3</th>\n",
       "      <th>VTBR_D4</th>\n",
       "      <th>YNDX_D1</th>\n",
       "      <th>YNDX_D2</th>\n",
       "      <th>YNDX_D3</th>\n",
       "      <th>YNDX_D4</th>\n",
       "    </tr>\n",
       "  </thead>\n",
       "  <tbody>\n",
       "    <tr>\n",
       "      <th>1</th>\n",
       "      <td>12.350</td>\n",
       "      <td>140.4</td>\n",
       "      <td>570.0</td>\n",
       "      <td>3930.0</td>\n",
       "      <td>75.81</td>\n",
       "      <td>4.82</td>\n",
       "      <td>8.65</td>\n",
       "      <td>140.5</td>\n",
       "      <td>1357.0</td>\n",
       "      <td>651.0</td>\n",
       "      <td>...</td>\n",
       "      <td>0.004135</td>\n",
       "      <td>0.000000</td>\n",
       "      <td>-0.054346</td>\n",
       "      <td>0.045848</td>\n",
       "      <td>0.045848</td>\n",
       "      <td>0.002330</td>\n",
       "      <td>-0.029828</td>\n",
       "      <td>0.012767</td>\n",
       "      <td>0.015894</td>\n",
       "      <td>0.002089</td>\n",
       "    </tr>\n",
       "    <tr>\n",
       "      <th>2</th>\n",
       "      <td>12.385</td>\n",
       "      <td>148.9</td>\n",
       "      <td>565.0</td>\n",
       "      <td>3994.0</td>\n",
       "      <td>77.00</td>\n",
       "      <td>4.75</td>\n",
       "      <td>8.59</td>\n",
       "      <td>152.0</td>\n",
       "      <td>1364.5</td>\n",
       "      <td>649.0</td>\n",
       "      <td>...</td>\n",
       "      <td>0.018746</td>\n",
       "      <td>0.000000</td>\n",
       "      <td>-0.013944</td>\n",
       "      <td>0.011111</td>\n",
       "      <td>0.015556</td>\n",
       "      <td>0.007941</td>\n",
       "      <td>0.000257</td>\n",
       "      <td>0.018013</td>\n",
       "      <td>0.021616</td>\n",
       "      <td>0.000000</td>\n",
       "    </tr>\n",
       "    <tr>\n",
       "      <th>3</th>\n",
       "      <td>12.390</td>\n",
       "      <td>147.3</td>\n",
       "      <td>562.5</td>\n",
       "      <td>3985.0</td>\n",
       "      <td>76.90</td>\n",
       "      <td>4.77</td>\n",
       "      <td>8.59</td>\n",
       "      <td>155.0</td>\n",
       "      <td>1368.5</td>\n",
       "      <td>NaN</td>\n",
       "      <td>...</td>\n",
       "      <td>0.013986</td>\n",
       "      <td>0.000583</td>\n",
       "      <td>-0.010236</td>\n",
       "      <td>-0.001591</td>\n",
       "      <td>0.000000</td>\n",
       "      <td>0.015552</td>\n",
       "      <td>0.001528</td>\n",
       "      <td>-0.011953</td>\n",
       "      <td>0.000000</td>\n",
       "      <td>0.023425</td>\n",
       "    </tr>\n",
       "    <tr>\n",
       "      <th>4</th>\n",
       "      <td>12.715</td>\n",
       "      <td>150.5</td>\n",
       "      <td>566.5</td>\n",
       "      <td>3982.0</td>\n",
       "      <td>76.79</td>\n",
       "      <td>4.80</td>\n",
       "      <td>8.50</td>\n",
       "      <td>162.0</td>\n",
       "      <td>1390.0</td>\n",
       "      <td>635.0</td>\n",
       "      <td>...</td>\n",
       "      <td>0.005764</td>\n",
       "      <td>0.003470</td>\n",
       "      <td>-0.002376</td>\n",
       "      <td>0.008137</td>\n",
       "      <td>0.029371</td>\n",
       "      <td>0.001391</td>\n",
       "      <td>-0.007353</td>\n",
       "      <td>0.002810</td>\n",
       "      <td>0.012516</td>\n",
       "      <td>0.001791</td>\n",
       "    </tr>\n",
       "    <tr>\n",
       "      <th>5</th>\n",
       "      <td>12.700</td>\n",
       "      <td>149.3</td>\n",
       "      <td>570.0</td>\n",
       "      <td>3995.0</td>\n",
       "      <td>76.70</td>\n",
       "      <td>4.88</td>\n",
       "      <td>8.40</td>\n",
       "      <td>160.0</td>\n",
       "      <td>1444.0</td>\n",
       "      <td>636.0</td>\n",
       "      <td>...</td>\n",
       "      <td>0.004028</td>\n",
       "      <td>0.001729</td>\n",
       "      <td>0.009901</td>\n",
       "      <td>-0.009608</td>\n",
       "      <td>0.005882</td>\n",
       "      <td>0.011905</td>\n",
       "      <td>0.000000</td>\n",
       "      <td>0.004585</td>\n",
       "      <td>0.008660</td>\n",
       "      <td>0.016309</td>\n",
       "    </tr>\n",
       "  </tbody>\n",
       "</table>\n",
       "<p>5 rows × 893 columns</p>\n",
       "</div>"
      ],
      "text/plain": [
       "   AFKS_close  AFLT_close  AGRO_close  AKRN_close  ALRS_close  AMEZ_close  \\\n",
       "1      12.350       140.4       570.0      3930.0       75.81        4.82   \n",
       "2      12.385       148.9       565.0      3994.0       77.00        4.75   \n",
       "3      12.390       147.3       562.5      3985.0       76.90        4.77   \n",
       "4      12.715       150.5       566.5      3982.0       76.79        4.80   \n",
       "5      12.700       149.3       570.0      3995.0       76.70        4.88   \n",
       "\n",
       "   APTK_close  AQUA_close  BANEP_close  BELU_close  ...   VSMO_D3   VSMO_D4  \\\n",
       "1        8.65       140.5       1357.0       651.0  ...  0.004135  0.000000   \n",
       "2        8.59       152.0       1364.5       649.0  ...  0.018746  0.000000   \n",
       "3        8.59       155.0       1368.5         NaN  ...  0.013986  0.000583   \n",
       "4        8.50       162.0       1390.0       635.0  ...  0.005764  0.003470   \n",
       "5        8.40       160.0       1444.0       636.0  ...  0.004028  0.001729   \n",
       "\n",
       "    VTBR_D1   VTBR_D2   VTBR_D3   VTBR_D4   YNDX_D1   YNDX_D2   YNDX_D3  \\\n",
       "1 -0.054346  0.045848  0.045848  0.002330 -0.029828  0.012767  0.015894   \n",
       "2 -0.013944  0.011111  0.015556  0.007941  0.000257  0.018013  0.021616   \n",
       "3 -0.010236 -0.001591  0.000000  0.015552  0.001528 -0.011953  0.000000   \n",
       "4 -0.002376  0.008137  0.029371  0.001391 -0.007353  0.002810  0.012516   \n",
       "5  0.009901 -0.009608  0.005882  0.011905  0.000000  0.004585  0.008660   \n",
       "\n",
       "    YNDX_D4  \n",
       "1  0.002089  \n",
       "2  0.000000  \n",
       "3  0.023425  \n",
       "4  0.001791  \n",
       "5  0.016309  \n",
       "\n",
       "[5 rows x 893 columns]"
      ]
     },
     "execution_count": 4,
     "metadata": {},
     "output_type": "execute_result"
    }
   ],
   "source": [
    "df.head()"
   ]
  },
  {
   "cell_type": "code",
   "execution_count": 5,
   "id": "b41d9374",
   "metadata": {},
   "outputs": [
    {
     "name": "stdout",
     "output_type": "stream",
     "text": [
      "2018-01-03 00:00:00\n"
     ]
    }
   ],
   "source": [
    "start_date = env.first_date()\n",
    "print(start_date)"
   ]
  },
  {
   "cell_type": "code",
   "execution_count": 6,
   "id": "43d481df",
   "metadata": {},
   "outputs": [
    {
     "name": "stdout",
     "output_type": "stream",
     "text": [
      "1209\n"
     ]
    }
   ],
   "source": [
    "day_count = env.data.shape[0]\n",
    "print(day_count)"
   ]
  },
  {
   "cell_type": "code",
   "execution_count": 50,
   "id": "83bd8bdd",
   "metadata": {},
   "outputs": [
    {
     "name": "stdout",
     "output_type": "stream",
     "text": [
      "tensor([ 3.0000e+00,  1.2385e+01,  1.2465e+01,  1.2240e+01,  1.2365e+01,\n",
      "         1.4880e+07, -2.0178e-03,  1.6175e-03,  8.0873e-03,  1.0212e-02,\n",
      "         4.0000e+00,  1.2390e+01,  1.2420e+01,  1.2220e+01,  1.2385e+01,\n",
      "         1.1072e+07, -2.5954e-02,  4.0371e-04,  2.8260e-03,  1.3502e-02,\n",
      "         1.0000e+00,  1.2715e+01,  1.2840e+01,  1.2505e+01,  1.2545e+01,\n",
      "         3.0906e+07, -1.2205e-02,  1.3551e-02,  2.3515e-02,  3.1987e-03,\n",
      "         2.0000e+00,  1.2700e+01,  1.2835e+01,  1.2520e+01,  1.2785e+01,\n",
      "         1.1774e+07,  6.6929e-03, -6.6484e-03,  3.9108e-03,  2.1166e-02,\n",
      "         3.0000e+00,  1.2700e+01,  1.2765e+01,  1.2400e+01,  1.2695e+01,\n",
      "         1.5998e+07,  3.5573e-03,  3.9386e-04,  5.5140e-03,  2.3790e-02,\n",
      "         4.0000e+00,  1.2650e+01,  1.2730e+01,  1.2520e+01,  1.2615e+01,\n",
      "         1.3498e+07, -1.0976e-02,  2.7745e-03,  9.1161e-03,  7.5879e-03,\n",
      "         0.0000e+00,  1.2755e+01,  1.2795e+01,  1.2605e+01,  1.2770e+01,\n",
      "         1.2795e+07,  9.4862e-03, -1.1746e-03,  1.9577e-03,  1.3090e-02,\n",
      "         1.0000e+00,  1.2650e+01,  1.2825e+01,  1.2605e+01,  1.2760e+01,\n",
      "         2.8991e+07,  3.9339e-03, -8.6207e-03,  5.0940e-03,  1.2297e-02,\n",
      "         2.0000e+00,  1.2710e+01,  1.2710e+01,  1.2470e+01,  1.2670e+01,\n",
      "         2.0610e+07, -3.9448e-04,  3.1571e-03,  3.1571e-03,  1.6038e-02,\n",
      "         3.0000e+00,  1.2675e+01,  1.2770e+01,  1.2530e+01,  1.2680e+01,\n",
      "         2.5342e+07,  1.4400e-02, -3.9432e-04,  7.0978e-03,  1.1971e-02,\n",
      "         3.3400e+04,  0.0000e+00])\n",
      "102\n"
     ]
    }
   ],
   "source": [
    "env.init_money = 334000\n",
    "env.money = [33400]\n",
    "#print(env.init_money)\n",
    "print(env.observation_tensor(11))\n",
    "print(len(env.observation_tensor(11)))\n",
    "#print(env.observation(11))"
   ]
  },
  {
   "cell_type": "code",
   "execution_count": 4,
   "id": "b12aa572",
   "metadata": {},
   "outputs": [],
   "source": [
    "import numpy as np\n",
    "\n",
    "class Base_model:\n",
    "    def __init__(self):\n",
    "        pass\n",
    "    \n",
    "    def fit(self, data):\n",
    "        pass\n",
    "    \n",
    "    def predict(self, data):\n",
    "        return np.random.randint(-1, 2, 1)"
   ]
  },
  {
   "cell_type": "code",
   "execution_count": 5,
   "id": "85b76b5a",
   "metadata": {},
   "outputs": [],
   "source": [
    "from tqdm import tqdm"
   ]
  },
  {
   "cell_type": "code",
   "execution_count": 31,
   "id": "b19f3aac",
   "metadata": {},
   "outputs": [],
   "source": [
    "class Random_trees:\n",
    "    def __init__(self):\n",
    "        pass\n",
    "    \n",
    "    def fit(self, stocks_dict, cur_money_stocks, cur_history, cur_index, N_points = 100, tree_depth = 3):\n",
    "        #stock_history = {action: history}\n",
    "        #sample 100 random, build tree for each point fot next tree_depth days. \n",
    "        L = len(stocks_dict) #number of stocks\n",
    "        possible_points = L*(cur_index+1-10)\n",
    "        N_points = min(N_points, possible_points)\n",
    "        \n",
    "        stocks_range = np.arange(L)\n",
    "        time_range = np.arange(10,cur_index+1)\n",
    "        pairs = np.dstack(np.meshgrid(stocks_range, time_range)).reshape(-1,2)\n",
    "        # now select a random set of N_points of those pairs, which are unique\n",
    "        pairs[np.random.choice(np.arange(pairs.shape[0]), size=N_points, replace=False)]\n",
    "        \n",
    "        init_money, init_stocks = cur_money_stocks\n",
    "        Points_statistics = {}  #{(a,t): (probs, correlation)}\n",
    "        for (a,t) in tqdm(pairs):\n",
    "            print(a, t, 'aaaaaaaaaaaaaaaa')\n",
    "            stock_env = stocks_dict[list(stocks_dict.keys())[a]] #history of action number a\n",
    "\n",
    "            #reinitialize starting point\n",
    "            stock_env.init_money = init_money\n",
    "            stock_env.money = [init_money]\n",
    "            stock_env.stocks = [init_stocks]\n",
    "            \n",
    "            #print(init_money, 'init money')\n",
    "            #print(stock_env.money)\n",
    "\n",
    "            point = stock_env.observation_tensor(t)\n",
    "\n",
    "            #play a (gay)me for tree_depth days\n",
    "            probs = self.little_tree_BFS(stock_env, point, t, stock_env.money, stock_env.stocks, tree_depth)\n",
    "\n",
    "            corr = numpy.corrcoeff(point[:-2], cur_history)\n",
    "            Points_statistics[(a,t)] ={(probs, corr)}\n",
    "        return Points_statistics\n",
    "    \n",
    "    def little_tree_BFS(self, env, root, global_start_ind, money_init, stock_init, tree_depth = 3):\n",
    "        Q = []\n",
    "        Parent_table = {}\n",
    "        Visited_probs = {} #defaultdict(float) #probabilities\n",
    "        Goals = []\n",
    "        reward_init = 0\n",
    "        lvl_init = 0\n",
    "        \n",
    "        Q.append((root, money_init, stock_init, lvl_init, reward_init))\n",
    "        Visited_probs[(root, tuple(money_init), tuple(stock_init), lvl_init, reward_init)] = (0, 0) #(prob, num_children)\n",
    "        #while lvl<tree_depth+1: #\n",
    "        while (Q!=[]):\n",
    "            prev_state, prev_money, prev_stock,  prev_state_lvl, prev_reward = Q[0] #root\n",
    "            #Children[(prev_state, prev_money, prev_stock,  prev_state_lvl, prev_reward)] = []\n",
    "            Q = Q[1:] #drop considered node from queue\n",
    "            \n",
    "            \n",
    "            actions = env.get_possible_actions_custom(global_start_ind+prev_state_lvl, prev_state_lvl)\n",
    "            for a in actions:\n",
    "                #do step: a.k.a reset money and stocks according to parent\n",
    "                \n",
    "                env.money = prev_money\n",
    "                env.stocks = prev_stock\n",
    "                \n",
    "                env.transition(prev_state_lvl, a) #resets env.money and env.stock\n",
    "                next_reward = prev_reward+env.reward(global_start_ind+prev_state_lvl, a)\n",
    "                \n",
    "                next_state_lvl = prev_state_lvl+1 \n",
    "                next_state = env.observation_tensor(global_start_ind+next_state_lvl)\n",
    "                \n",
    "                print(next_state_lvl, '-------------lvl-------------')\n",
    "                print(a, '============action ')\n",
    "                print(env.money, 'money')\n",
    "                print(env.stocks, 'stocks')\n",
    "                #print(env.money)\n",
    "                #print(env.stocks)\n",
    "                assert next_state_lvl+1 == len(env.money) == len(env.stocks)\n",
    "                \n",
    "                prev_prob = next_prob = 0 #until we got the end of the path we can't say the probability\n",
    "                \n",
    "                Parent_table[(next_state, tuple(env.money), tuple(env.stocks), next_state_lvl, next_reward)]=(prev_state, prev_state_lvl, prev_money, prev_stock, prev_reward)\n",
    "                Visited_probs[(next_state, tuple(env.money), tuple(env.stocks), next_state_lvl, next_reward)] = 0 \n",
    "                #Children[(prev_state, prev_state_lvl, prev_money, prev_stock, prev_reward)].append(((next_state, env.money, env.stocks, next_lvl, next_reward),next_prob))\n",
    "    \n",
    "                if next_state_lvl< tree_depth:\n",
    "                    Q.append((next_state, env.money, env.stocks, next_state_lvl, next_reward))\n",
    "                else:\n",
    "                    Goals.append((next_state, env.money, env.stocks, next_state_lvl, next_reward))\n",
    "                \n",
    "        #reward normalization\n",
    "        cum_reward = 0\n",
    "        #for g in Goals:\n",
    "            #Visited_probs[g]=(g[4]/1)\n",
    "            #cum_rew += g[4]\n",
    "\n",
    "        #update and backprop probabilities:\n",
    "        #for g in Goals:\n",
    "            #g[5] = g[4]/cum_rew\n",
    "        New_goals = Goals\n",
    "        while New_goals!=[]:\n",
    "            g = New_goals[0]\n",
    "            if g==(root, money_init, stock_init, lvl_init, reward_init):\n",
    "                break\n",
    "            par = Parent_table[g]\n",
    "            g_reward_avg = Visited_probs[g][0]/Visited_probs[g][1] #cum_reward/num_children\n",
    "            Visited_probs[par]+=(g_reward_avg,1)\n",
    "            New_goals = New_goals[1:] \n",
    "            if par not in New_goals:\n",
    "                New_goals.append(par)\n",
    "        #find probabilities for children of root\n",
    "        probs = []\n",
    "        for a in (1, 0, -1):\n",
    "            #root, money_init, stock_init, lvl_init, reward_init\n",
    "            env.money = money_init\n",
    "            env.stocks = stocks_init\n",
    "            env.transition(root, a) #resets env.money and env.stock\n",
    "            next_state = env.observation_tensor(global_start_ind+1)\n",
    "            next_reward = prev_reward+env.reward(global_start_ind+prev_state_lvl, a)\n",
    "            \n",
    "            if (next_state, env.money, env.stocks, next_lvl, next_reward) in Visited_probs:\n",
    "                probs.append(Visited[(next_state, env.money, env.stocks, next_lvl, next_reward)][0]/Visited[(next_state, env.money, env.stocks, next_lvl, next_reward)][1])\n",
    "            else:\n",
    "                probs.append(0)\n",
    "        probs = np.array[probs]\n",
    "        sum_ = np.sum(probs)\n",
    "        if sum_ == 0:\n",
    "            sum_ = 1\n",
    "        probs = probs/sum_\n",
    "        assert np.sum(probs)<=1\n",
    "        return probs\n",
    "\n",
    "    def predict(self, data, ind, stocks_dict):\n",
    "        cur_money_stocks = data[-2:]\n",
    "        cur_history = data[:-2]\n",
    "        cur_index = ind\n",
    "        \n",
    "        statistics = self.fit(stocks_dict, cur_money_stocks, cur_history, cur_index)\n",
    "        cum_probs = np.array([0,0,0])\n",
    "        for i in range(len(statistics)):\n",
    "            probs_cur, corr_cur = statistics(list(statics.keys())[i]) \n",
    "            cum_probs+=corr_cur*probs_cur\n",
    "        assert cum_probs/np.sum(cum_probs)<=1\n",
    "        return cum_probs/np.sum(cum_probs)"
   ]
  },
  {
   "cell_type": "code",
   "execution_count": 7,
   "id": "7d9284d6",
   "metadata": {},
   "outputs": [
    {
     "name": "stdout",
     "output_type": "stream",
     "text": [
      "3\n"
     ]
    }
   ],
   "source": [
    "stocks_names = ['AMEZ', 'AQUA', 'VTBR']\n",
    "env_dict ={}\n",
    "for name in stocks_names:\n",
    "    env_dict[name]=Environment(data=df, stock_name=name, initial_money=1000)\n",
    "    \n",
    "print(len(env_dict))"
   ]
  },
  {
   "cell_type": "code",
   "execution_count": 32,
   "id": "7aa42e17",
   "metadata": {},
   "outputs": [
    {
     "name": "stderr",
     "output_type": "stream",
     "text": [
      "  0%|                                                                                            | 0/3 [00:00<?, ?it/s]"
     ]
    },
    {
     "name": "stdout",
     "output_type": "stream",
     "text": [
      "0 10 aaaaaaaaaaaaaaaa\n",
      "1 -------------lvl-------------\n",
      "-1 ============action \n",
      "[tensor(1000.), tensor(1004.8200)] money\n",
      "[tensor(0.), tensor(-1.)] stocks\n",
      "1 -------------lvl-------------\n",
      "0 ============action \n",
      "[tensor(1000.), tensor(1004.8200), tensor(1004.8200)] money\n",
      "[tensor(0.), tensor(-1.), tensor(-1.)] stocks\n"
     ]
    },
    {
     "name": "stderr",
     "output_type": "stream",
     "text": [
      "\n"
     ]
    },
    {
     "ename": "AssertionError",
     "evalue": "",
     "output_type": "error",
     "traceback": [
      "\u001b[1;31m---------------------------------------------------------------------------\u001b[0m",
      "\u001b[1;31mAssertionError\u001b[0m                            Traceback (most recent call last)",
      "Input \u001b[1;32mIn [32]\u001b[0m, in \u001b[0;36m<module>\u001b[1;34m\u001b[0m\n\u001b[0;32m      8\u001b[0m \u001b[38;5;28;01mfor\u001b[39;00m i \u001b[38;5;129;01min\u001b[39;00m \u001b[38;5;28mrange\u001b[39m(\u001b[38;5;241m10\u001b[39m, \u001b[38;5;241m10\u001b[39m\u001b[38;5;241m+\u001b[39mday_count):\n\u001b[0;32m      9\u001b[0m     obs \u001b[38;5;241m=\u001b[39m env\u001b[38;5;241m.\u001b[39mobservation_tensor(i)\n\u001b[1;32m---> 10\u001b[0m     action \u001b[38;5;241m=\u001b[39m \u001b[43mmodel\u001b[49m\u001b[38;5;241;43m.\u001b[39;49m\u001b[43mpredict\u001b[49m\u001b[43m(\u001b[49m\u001b[43mobs\u001b[49m\u001b[43m,\u001b[49m\u001b[43m \u001b[49m\u001b[43mi\u001b[49m\u001b[43m,\u001b[49m\u001b[43m \u001b[49m\u001b[43mstocks_dict\u001b[49m\u001b[43m)\u001b[49m\n\u001b[0;32m     11\u001b[0m     env\u001b[38;5;241m.\u001b[39mtransition(action, i)\n\u001b[0;32m     12\u001b[0m     \u001b[38;5;28;01mif\u001b[39;00m i \u001b[38;5;241m%\u001b[39m \u001b[38;5;241m1\u001b[39m \u001b[38;5;241m==\u001b[39m \u001b[38;5;241m0\u001b[39m:\n",
      "Input \u001b[1;32mIn [31]\u001b[0m, in \u001b[0;36mRandom_trees.predict\u001b[1;34m(self, data, ind, stocks_dict)\u001b[0m\n\u001b[0;32m    134\u001b[0m cur_history \u001b[38;5;241m=\u001b[39m data[:\u001b[38;5;241m-\u001b[39m\u001b[38;5;241m2\u001b[39m]\n\u001b[0;32m    135\u001b[0m cur_index \u001b[38;5;241m=\u001b[39m ind\n\u001b[1;32m--> 137\u001b[0m statistics \u001b[38;5;241m=\u001b[39m \u001b[38;5;28;43mself\u001b[39;49m\u001b[38;5;241;43m.\u001b[39;49m\u001b[43mfit\u001b[49m\u001b[43m(\u001b[49m\u001b[43mstocks_dict\u001b[49m\u001b[43m,\u001b[49m\u001b[43m \u001b[49m\u001b[43mcur_money_stocks\u001b[49m\u001b[43m,\u001b[49m\u001b[43m \u001b[49m\u001b[43mcur_history\u001b[49m\u001b[43m,\u001b[49m\u001b[43m \u001b[49m\u001b[43mcur_index\u001b[49m\u001b[43m)\u001b[49m\n\u001b[0;32m    138\u001b[0m cum_probs \u001b[38;5;241m=\u001b[39m np\u001b[38;5;241m.\u001b[39marray([\u001b[38;5;241m0\u001b[39m,\u001b[38;5;241m0\u001b[39m,\u001b[38;5;241m0\u001b[39m])\n\u001b[0;32m    139\u001b[0m \u001b[38;5;28;01mfor\u001b[39;00m i \u001b[38;5;129;01min\u001b[39;00m \u001b[38;5;28mrange\u001b[39m(\u001b[38;5;28mlen\u001b[39m(statistics)):\n",
      "Input \u001b[1;32mIn [31]\u001b[0m, in \u001b[0;36mRandom_trees.fit\u001b[1;34m(self, stocks_dict, cur_money_stocks, cur_history, cur_index, N_points, tree_depth)\u001b[0m\n\u001b[0;32m     32\u001b[0m point \u001b[38;5;241m=\u001b[39m stock_env\u001b[38;5;241m.\u001b[39mobservation_tensor(t)\n\u001b[0;32m     34\u001b[0m \u001b[38;5;66;03m#play a (gay)me for tree_depth days\u001b[39;00m\n\u001b[1;32m---> 35\u001b[0m probs \u001b[38;5;241m=\u001b[39m \u001b[38;5;28;43mself\u001b[39;49m\u001b[38;5;241;43m.\u001b[39;49m\u001b[43mlittle_tree_BFS\u001b[49m\u001b[43m(\u001b[49m\u001b[43mstock_env\u001b[49m\u001b[43m,\u001b[49m\u001b[43m \u001b[49m\u001b[43mpoint\u001b[49m\u001b[43m,\u001b[49m\u001b[43m \u001b[49m\u001b[43mt\u001b[49m\u001b[43m,\u001b[49m\u001b[43m \u001b[49m\u001b[43mstock_env\u001b[49m\u001b[38;5;241;43m.\u001b[39;49m\u001b[43mmoney\u001b[49m\u001b[43m,\u001b[49m\u001b[43m \u001b[49m\u001b[43mstock_env\u001b[49m\u001b[38;5;241;43m.\u001b[39;49m\u001b[43mstocks\u001b[49m\u001b[43m,\u001b[49m\u001b[43m \u001b[49m\u001b[43mtree_depth\u001b[49m\u001b[43m)\u001b[49m\n\u001b[0;32m     37\u001b[0m corr \u001b[38;5;241m=\u001b[39m numpy\u001b[38;5;241m.\u001b[39mcorrcoeff(point[:\u001b[38;5;241m-\u001b[39m\u001b[38;5;241m2\u001b[39m], cur_history)\n\u001b[0;32m     38\u001b[0m Points_statistics[(a,t)] \u001b[38;5;241m=\u001b[39m{(probs, corr)}\n",
      "Input \u001b[1;32mIn [31]\u001b[0m, in \u001b[0;36mRandom_trees.little_tree_BFS\u001b[1;34m(self, env, root, global_start_ind, money_init, stock_init, tree_depth)\u001b[0m\n\u001b[0;32m     74\u001b[0m \u001b[38;5;28mprint\u001b[39m(env\u001b[38;5;241m.\u001b[39mstocks, \u001b[38;5;124m'\u001b[39m\u001b[38;5;124mstocks\u001b[39m\u001b[38;5;124m'\u001b[39m)\n\u001b[0;32m     75\u001b[0m \u001b[38;5;66;03m#print(env.money)\u001b[39;00m\n\u001b[0;32m     76\u001b[0m \u001b[38;5;66;03m#print(env.stocks)\u001b[39;00m\n\u001b[1;32m---> 77\u001b[0m \u001b[38;5;28;01massert\u001b[39;00m next_state_lvl\u001b[38;5;241m+\u001b[39m\u001b[38;5;241m1\u001b[39m \u001b[38;5;241m==\u001b[39m \u001b[38;5;28mlen\u001b[39m(env\u001b[38;5;241m.\u001b[39mmoney) \u001b[38;5;241m==\u001b[39m \u001b[38;5;28mlen\u001b[39m(env\u001b[38;5;241m.\u001b[39mstocks)\n\u001b[0;32m     79\u001b[0m prev_prob \u001b[38;5;241m=\u001b[39m next_prob \u001b[38;5;241m=\u001b[39m \u001b[38;5;241m0\u001b[39m \u001b[38;5;66;03m#until we got the end of the path we can't say the probability\u001b[39;00m\n\u001b[0;32m     81\u001b[0m Parent_table[(next_state, \u001b[38;5;28mtuple\u001b[39m(env\u001b[38;5;241m.\u001b[39mmoney), \u001b[38;5;28mtuple\u001b[39m(env\u001b[38;5;241m.\u001b[39mstocks), next_state_lvl, next_reward)]\u001b[38;5;241m=\u001b[39m(prev_state, prev_state_lvl, prev_money, prev_stock, prev_reward)\n",
      "\u001b[1;31mAssertionError\u001b[0m: "
     ]
    }
   ],
   "source": [
    "test_stock_name = 'BELU'\n",
    "env = Environment(data=df, stock_name=test_stock_name, initial_money=1000)\n",
    "env.reset()\n",
    "day_count = 10\n",
    "stocks_dict = env_dict\n",
    "\n",
    "model = Random_trees()\n",
    "for i in range(10, 10+day_count):\n",
    "    obs = env.observation_tensor(i)\n",
    "    action = model.predict(obs, i, stocks_dict)\n",
    "    env.transition(action, i)\n",
    "    if i % 1 == 0:\n",
    "        print(i)"
   ]
  },
  {
   "cell_type": "code",
   "execution_count": 49,
   "id": "269ee1ec",
   "metadata": {},
   "outputs": [
    {
     "data": {
      "text/plain": [
       "'AMEZ'"
      ]
     },
     "execution_count": 49,
     "metadata": {},
     "output_type": "execute_result"
    }
   ],
   "source": [
    "list(env_dict.keys())[0]"
   ]
  },
  {
   "cell_type": "code",
   "execution_count": 34,
   "id": "1d9e070d",
   "metadata": {},
   "outputs": [
    {
     "name": "stdout",
     "output_type": "stream",
     "text": [
      "[0, 1, 2]\n"
     ]
    },
    {
     "ename": "TypeError",
     "evalue": "'int' object is not iterable",
     "output_type": "error",
     "traceback": [
      "\u001b[1;31m---------------------------------------------------------------------------\u001b[0m",
      "\u001b[1;31mTypeError\u001b[0m                                 Traceback (most recent call last)",
      "Input \u001b[1;32mIn [34]\u001b[0m, in \u001b[0;36m<module>\u001b[1;34m\u001b[0m\n\u001b[0;32m      1\u001b[0m L \u001b[38;5;241m=\u001b[39m \u001b[38;5;28mlen\u001b[39m(stocks_names)\n\u001b[0;32m      2\u001b[0m \u001b[38;5;28mprint\u001b[39m([i \u001b[38;5;28;01mfor\u001b[39;00m i \u001b[38;5;129;01min\u001b[39;00m \u001b[38;5;28mrange\u001b[39m(L)],)\n\u001b[1;32m----> 3\u001b[0m \u001b[38;5;28mprint\u001b[39m(\u001b[43mrandom\u001b[49m\u001b[38;5;241;43m.\u001b[39;49m\u001b[43mchoices\u001b[49m\u001b[43m(\u001b[49m\u001b[43m[\u001b[49m\u001b[43mi\u001b[49m\u001b[43m \u001b[49m\u001b[38;5;28;43;01mfor\u001b[39;49;00m\u001b[43m \u001b[49m\u001b[43mi\u001b[49m\u001b[43m \u001b[49m\u001b[38;5;129;43;01min\u001b[39;49;00m\u001b[43m \u001b[49m\u001b[38;5;28;43mrange\u001b[39;49m\u001b[43m(\u001b[49m\u001b[43mL\u001b[49m\u001b[43m)\u001b[49m\u001b[43m]\u001b[49m\u001b[43m,\u001b[49m\u001b[43m \u001b[49m\u001b[38;5;241;43m5\u001b[39;49m\u001b[43m)\u001b[49m)\n",
      "File \u001b[1;32m~\\anaconda3\\lib\\random.py:400\u001b[0m, in \u001b[0;36mRandom.choices\u001b[1;34m(self, population, weights, cum_weights, k)\u001b[0m\n\u001b[0;32m    398\u001b[0m         n \u001b[38;5;241m+\u001b[39m\u001b[38;5;241m=\u001b[39m \u001b[38;5;241m0.0\u001b[39m    \u001b[38;5;66;03m# convert to float for a small speed improvement\u001b[39;00m\n\u001b[0;32m    399\u001b[0m         \u001b[38;5;28;01mreturn\u001b[39;00m [population[_int(random() \u001b[38;5;241m*\u001b[39m n)] \u001b[38;5;28;01mfor\u001b[39;00m i \u001b[38;5;129;01min\u001b[39;00m _repeat(\u001b[38;5;28;01mNone\u001b[39;00m, k)]\n\u001b[1;32m--> 400\u001b[0m     cum_weights \u001b[38;5;241m=\u001b[39m \u001b[38;5;28mlist\u001b[39m(\u001b[43m_accumulate\u001b[49m\u001b[43m(\u001b[49m\u001b[43mweights\u001b[49m\u001b[43m)\u001b[49m)\n\u001b[0;32m    401\u001b[0m \u001b[38;5;28;01melif\u001b[39;00m weights \u001b[38;5;129;01mis\u001b[39;00m \u001b[38;5;129;01mnot\u001b[39;00m \u001b[38;5;28;01mNone\u001b[39;00m:\n\u001b[0;32m    402\u001b[0m     \u001b[38;5;28;01mraise\u001b[39;00m \u001b[38;5;167;01mTypeError\u001b[39;00m(\u001b[38;5;124m'\u001b[39m\u001b[38;5;124mCannot specify both weights and cumulative weights\u001b[39m\u001b[38;5;124m'\u001b[39m)\n",
      "\u001b[1;31mTypeError\u001b[0m: 'int' object is not iterable"
     ]
    }
   ],
   "source": [
    "L = len(stocks_names)\n",
    "print([i for i in range(L)],)\n",
    "print(random.choices([i for i in range(L)], 5))"
   ]
  },
  {
   "cell_type": "code",
   "execution_count": 58,
   "id": "dfdbe864",
   "metadata": {},
   "outputs": [
    {
     "ename": "ValueError",
     "evalue": "'a' cannot be empty unless no samples are taken",
     "output_type": "error",
     "traceback": [
      "\u001b[1;31m---------------------------------------------------------------------------\u001b[0m",
      "\u001b[1;31mValueError\u001b[0m                                Traceback (most recent call last)",
      "Input \u001b[1;32mIn [58]\u001b[0m, in \u001b[0;36m<module>\u001b[1;34m\u001b[0m\n\u001b[1;32m----> 1\u001b[0m \u001b[38;5;28mprint\u001b[39m(\u001b[43mnp\u001b[49m\u001b[38;5;241;43m.\u001b[39;49m\u001b[43mrandom\u001b[49m\u001b[38;5;241;43m.\u001b[39;49m\u001b[43mchoice\u001b[49m\u001b[43m(\u001b[49m\u001b[38;5;28;43mrange\u001b[39;49m\u001b[43m(\u001b[49m\u001b[38;5;241;43m10\u001b[39;49m\u001b[43m,\u001b[49m\u001b[38;5;241;43m9\u001b[39;49m\u001b[43m)\u001b[49m\u001b[43m,\u001b[49m\u001b[43m \u001b[49m\u001b[43msize\u001b[49m\u001b[38;5;241;43m=\u001b[39;49m\u001b[38;5;241;43m10\u001b[39;49m\u001b[43m,\u001b[49m\u001b[43m \u001b[49m\u001b[43mreplace\u001b[49m\u001b[38;5;241;43m=\u001b[39;49m\u001b[38;5;28;43;01mTrue\u001b[39;49;00m\u001b[43m)\u001b[49m)\n",
      "File \u001b[1;32mmtrand.pyx:909\u001b[0m, in \u001b[0;36mnumpy.random.mtrand.RandomState.choice\u001b[1;34m()\u001b[0m\n",
      "\u001b[1;31mValueError\u001b[0m: 'a' cannot be empty unless no samples are taken"
     ]
    }
   ],
   "source": [
    "print(np.random.choice(range(10,9), size=10, replace=True))"
   ]
  },
  {
   "cell_type": "code",
   "execution_count": 65,
   "id": "6f1e1ed0",
   "metadata": {},
   "outputs": [
    {
     "ename": "ValueError",
     "evalue": "Sample larger than population or is negative",
     "output_type": "error",
     "traceback": [
      "\u001b[1;31m---------------------------------------------------------------------------\u001b[0m",
      "\u001b[1;31mValueError\u001b[0m                                Traceback (most recent call last)",
      "Input \u001b[1;32mIn [65]\u001b[0m, in \u001b[0;36m<module>\u001b[1;34m\u001b[0m\n\u001b[1;32m----> 1\u001b[0m \u001b[38;5;28mprint\u001b[39m(\u001b[43mrandom\u001b[49m\u001b[38;5;241;43m.\u001b[39;49m\u001b[43msample\u001b[49m\u001b[43m(\u001b[49m\u001b[43m[\u001b[49m\u001b[43m(\u001b[49m\u001b[43mi\u001b[49m\u001b[43m,\u001b[49m\u001b[43mj\u001b[49m\u001b[43m)\u001b[49m\u001b[43m \u001b[49m\u001b[38;5;28;43;01mfor\u001b[39;49;00m\u001b[43m \u001b[49m\u001b[43mi\u001b[49m\u001b[43m,\u001b[49m\u001b[43m \u001b[49m\u001b[43mj\u001b[49m\u001b[43m \u001b[49m\u001b[38;5;129;43;01min\u001b[39;49;00m\u001b[43m \u001b[49m\u001b[38;5;28;43mzip\u001b[39;49m\u001b[43m(\u001b[49m\u001b[38;5;28;43mrange\u001b[39;49m\u001b[43m(\u001b[49m\u001b[38;5;241;43m2\u001b[39;49m\u001b[43m)\u001b[49m\u001b[43m,\u001b[49m\u001b[38;5;28;43mrange\u001b[39;49m\u001b[43m(\u001b[49m\u001b[38;5;241;43m2\u001b[39;49m\u001b[43m)\u001b[49m\u001b[43m)\u001b[49m\u001b[43m]\u001b[49m\u001b[43m,\u001b[49m\u001b[43m \u001b[49m\u001b[38;5;241;43m5\u001b[39;49m\u001b[43m)\u001b[49m)\n",
      "File \u001b[1;32m~\\anaconda3\\lib\\random.py:363\u001b[0m, in \u001b[0;36mRandom.sample\u001b[1;34m(self, population, k)\u001b[0m\n\u001b[0;32m    361\u001b[0m n \u001b[38;5;241m=\u001b[39m \u001b[38;5;28mlen\u001b[39m(population)\n\u001b[0;32m    362\u001b[0m \u001b[38;5;28;01mif\u001b[39;00m \u001b[38;5;129;01mnot\u001b[39;00m \u001b[38;5;241m0\u001b[39m \u001b[38;5;241m<\u001b[39m\u001b[38;5;241m=\u001b[39m k \u001b[38;5;241m<\u001b[39m\u001b[38;5;241m=\u001b[39m n:\n\u001b[1;32m--> 363\u001b[0m     \u001b[38;5;28;01mraise\u001b[39;00m \u001b[38;5;167;01mValueError\u001b[39;00m(\u001b[38;5;124m\"\u001b[39m\u001b[38;5;124mSample larger than population or is negative\u001b[39m\u001b[38;5;124m\"\u001b[39m)\n\u001b[0;32m    364\u001b[0m result \u001b[38;5;241m=\u001b[39m [\u001b[38;5;28;01mNone\u001b[39;00m] \u001b[38;5;241m*\u001b[39m k\n\u001b[0;32m    365\u001b[0m setsize \u001b[38;5;241m=\u001b[39m \u001b[38;5;241m21\u001b[39m        \u001b[38;5;66;03m# size of a small set minus size of an empty list\u001b[39;00m\n",
      "\u001b[1;31mValueError\u001b[0m: Sample larger than population or is negative"
     ]
    }
   ],
   "source": [
    "print(random.sample([(i,j) for i, j in zip(range(2),range(2))], 5))"
   ]
  },
  {
   "cell_type": "code",
   "execution_count": 90,
   "id": "671593e1",
   "metadata": {},
   "outputs": [],
   "source": [
    "pairs = np.dstack(np.meshgrid(np.arange(3), np.arange(10,12))).reshape(-1,2)\n",
    "\n",
    "# now select a random set of 25 of those pairs, which are unique\n",
    "pairs[np.random.choice(np.arange(pairs.shape[0]), size=4, replace=False)]\n",
    "pairs = pairs.ravel()"
   ]
  },
  {
   "cell_type": "code",
   "execution_count": 91,
   "id": "b47d61fb",
   "metadata": {},
   "outputs": [
    {
     "name": "stdout",
     "output_type": "stream",
     "text": [
      "0\n",
      "10\n",
      "1\n",
      "10\n",
      "2\n",
      "10\n",
      "0\n",
      "11\n",
      "1\n",
      "11\n",
      "2\n",
      "11\n"
     ]
    }
   ],
   "source": [
    "for i in pairs:\n",
    "    print(i)"
   ]
  },
  {
   "cell_type": "code",
   "execution_count": 73,
   "id": "18541289",
   "metadata": {},
   "outputs": [
    {
     "name": "stdout",
     "output_type": "stream",
     "text": [
      "(12,)\n"
     ]
    }
   ],
   "source": [
    "print(pairs.ravel().shape)"
   ]
  }
 ],
 "metadata": {
  "kernelspec": {
   "display_name": "for_rl2",
   "language": "python",
   "name": "for_rl2"
  },
  "language_info": {
   "codemirror_mode": {
    "name": "ipython",
    "version": 3
   },
   "file_extension": ".py",
   "mimetype": "text/x-python",
   "name": "python",
   "nbconvert_exporter": "python",
   "pygments_lexer": "ipython3",
   "version": "3.8.8"
  }
 },
 "nbformat": 4,
 "nbformat_minor": 5
}
