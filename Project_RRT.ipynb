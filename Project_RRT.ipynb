{
 "cells": [
  {
   "cell_type": "code",
   "execution_count": 1,
   "id": "f4407fdd",
   "metadata": {},
   "outputs": [],
   "source": [
    "import sys\n",
    "sys.path.append('Planning_final_stock/utils/')\n",
    "sys.path.append('Planning_final_stock/')"
   ]
  },
  {
   "cell_type": "markdown",
   "id": "8b8f44b5",
   "metadata": {},
   "source": [
    "## Attempt of normal code"
   ]
  },
  {
   "cell_type": "code",
   "execution_count": 88,
   "id": "7b48c2e0",
   "metadata": {},
   "outputs": [],
   "source": [
    "from utils.prepare_data import prepare_short_data, prepare_full_data\n",
    "from environment import Environment\n",
    "from datetime import timedelta\n",
    "from models.base_model import Base_model\n",
    "from matplotlib import pyplot as plt\n",
    "\n",
    "import warnings\n",
    "warnings.filterwarnings('ignore')\n",
    "\n",
    "import numpy as np\n",
    "import random\n",
    "import torch"
   ]
  },
  {
   "cell_type": "code",
   "execution_count": 3,
   "id": "9e545e1f",
   "metadata": {},
   "outputs": [],
   "source": [
    "df = prepare_full_data('Planning_final_stock/data/Data_RU.xlsx')\n",
    "env = Environment(data=df, stock_name='AFKS', initial_money=5000)"
   ]
  },
  {
   "cell_type": "code",
   "execution_count": 4,
   "id": "7e7f93bd",
   "metadata": {},
   "outputs": [
    {
     "data": {
      "text/html": [
       "<div>\n",
       "<style scoped>\n",
       "    .dataframe tbody tr th:only-of-type {\n",
       "        vertical-align: middle;\n",
       "    }\n",
       "\n",
       "    .dataframe tbody tr th {\n",
       "        vertical-align: top;\n",
       "    }\n",
       "\n",
       "    .dataframe thead th {\n",
       "        text-align: right;\n",
       "    }\n",
       "</style>\n",
       "<table border=\"1\" class=\"dataframe\">\n",
       "  <thead>\n",
       "    <tr style=\"text-align: right;\">\n",
       "      <th></th>\n",
       "      <th>AFKS_close</th>\n",
       "      <th>AFLT_close</th>\n",
       "      <th>AGRO_close</th>\n",
       "      <th>AKRN_close</th>\n",
       "      <th>ALRS_close</th>\n",
       "      <th>AMEZ_close</th>\n",
       "      <th>APTK_close</th>\n",
       "      <th>AQUA_close</th>\n",
       "      <th>BANEP_close</th>\n",
       "      <th>BELU_close</th>\n",
       "      <th>...</th>\n",
       "      <th>VSMO_D3</th>\n",
       "      <th>VSMO_D4</th>\n",
       "      <th>VTBR_D1</th>\n",
       "      <th>VTBR_D2</th>\n",
       "      <th>VTBR_D3</th>\n",
       "      <th>VTBR_D4</th>\n",
       "      <th>YNDX_D1</th>\n",
       "      <th>YNDX_D2</th>\n",
       "      <th>YNDX_D3</th>\n",
       "      <th>YNDX_D4</th>\n",
       "    </tr>\n",
       "  </thead>\n",
       "  <tbody>\n",
       "    <tr>\n",
       "      <th>1</th>\n",
       "      <td>12.350</td>\n",
       "      <td>140.4</td>\n",
       "      <td>570.0</td>\n",
       "      <td>3930.0</td>\n",
       "      <td>75.81</td>\n",
       "      <td>4.82</td>\n",
       "      <td>8.65</td>\n",
       "      <td>140.5</td>\n",
       "      <td>1357.0</td>\n",
       "      <td>651.0</td>\n",
       "      <td>...</td>\n",
       "      <td>0.004135</td>\n",
       "      <td>0.000000</td>\n",
       "      <td>-0.054346</td>\n",
       "      <td>0.045848</td>\n",
       "      <td>0.045848</td>\n",
       "      <td>0.002330</td>\n",
       "      <td>-0.029828</td>\n",
       "      <td>0.012767</td>\n",
       "      <td>0.015894</td>\n",
       "      <td>0.002089</td>\n",
       "    </tr>\n",
       "    <tr>\n",
       "      <th>2</th>\n",
       "      <td>12.385</td>\n",
       "      <td>148.9</td>\n",
       "      <td>565.0</td>\n",
       "      <td>3994.0</td>\n",
       "      <td>77.00</td>\n",
       "      <td>4.75</td>\n",
       "      <td>8.59</td>\n",
       "      <td>152.0</td>\n",
       "      <td>1364.5</td>\n",
       "      <td>649.0</td>\n",
       "      <td>...</td>\n",
       "      <td>0.018746</td>\n",
       "      <td>0.000000</td>\n",
       "      <td>-0.013944</td>\n",
       "      <td>0.011111</td>\n",
       "      <td>0.015556</td>\n",
       "      <td>0.007941</td>\n",
       "      <td>0.000257</td>\n",
       "      <td>0.018013</td>\n",
       "      <td>0.021616</td>\n",
       "      <td>0.000000</td>\n",
       "    </tr>\n",
       "    <tr>\n",
       "      <th>3</th>\n",
       "      <td>12.390</td>\n",
       "      <td>147.3</td>\n",
       "      <td>562.5</td>\n",
       "      <td>3985.0</td>\n",
       "      <td>76.90</td>\n",
       "      <td>4.77</td>\n",
       "      <td>8.59</td>\n",
       "      <td>155.0</td>\n",
       "      <td>1368.5</td>\n",
       "      <td>NaN</td>\n",
       "      <td>...</td>\n",
       "      <td>0.013986</td>\n",
       "      <td>0.000583</td>\n",
       "      <td>-0.010236</td>\n",
       "      <td>-0.001591</td>\n",
       "      <td>0.000000</td>\n",
       "      <td>0.015552</td>\n",
       "      <td>0.001528</td>\n",
       "      <td>-0.011953</td>\n",
       "      <td>0.000000</td>\n",
       "      <td>0.023425</td>\n",
       "    </tr>\n",
       "    <tr>\n",
       "      <th>4</th>\n",
       "      <td>12.715</td>\n",
       "      <td>150.5</td>\n",
       "      <td>566.5</td>\n",
       "      <td>3982.0</td>\n",
       "      <td>76.79</td>\n",
       "      <td>4.80</td>\n",
       "      <td>8.50</td>\n",
       "      <td>162.0</td>\n",
       "      <td>1390.0</td>\n",
       "      <td>635.0</td>\n",
       "      <td>...</td>\n",
       "      <td>0.005764</td>\n",
       "      <td>0.003470</td>\n",
       "      <td>-0.002376</td>\n",
       "      <td>0.008137</td>\n",
       "      <td>0.029371</td>\n",
       "      <td>0.001391</td>\n",
       "      <td>-0.007353</td>\n",
       "      <td>0.002810</td>\n",
       "      <td>0.012516</td>\n",
       "      <td>0.001791</td>\n",
       "    </tr>\n",
       "    <tr>\n",
       "      <th>5</th>\n",
       "      <td>12.700</td>\n",
       "      <td>149.3</td>\n",
       "      <td>570.0</td>\n",
       "      <td>3995.0</td>\n",
       "      <td>76.70</td>\n",
       "      <td>4.88</td>\n",
       "      <td>8.40</td>\n",
       "      <td>160.0</td>\n",
       "      <td>1444.0</td>\n",
       "      <td>636.0</td>\n",
       "      <td>...</td>\n",
       "      <td>0.004028</td>\n",
       "      <td>0.001729</td>\n",
       "      <td>0.009901</td>\n",
       "      <td>-0.009608</td>\n",
       "      <td>0.005882</td>\n",
       "      <td>0.011905</td>\n",
       "      <td>0.000000</td>\n",
       "      <td>0.004585</td>\n",
       "      <td>0.008660</td>\n",
       "      <td>0.016309</td>\n",
       "    </tr>\n",
       "  </tbody>\n",
       "</table>\n",
       "<p>5 rows × 893 columns</p>\n",
       "</div>"
      ],
      "text/plain": [
       "   AFKS_close  AFLT_close  AGRO_close  AKRN_close  ALRS_close  AMEZ_close  \\\n",
       "1      12.350       140.4       570.0      3930.0       75.81        4.82   \n",
       "2      12.385       148.9       565.0      3994.0       77.00        4.75   \n",
       "3      12.390       147.3       562.5      3985.0       76.90        4.77   \n",
       "4      12.715       150.5       566.5      3982.0       76.79        4.80   \n",
       "5      12.700       149.3       570.0      3995.0       76.70        4.88   \n",
       "\n",
       "   APTK_close  AQUA_close  BANEP_close  BELU_close  ...   VSMO_D3   VSMO_D4  \\\n",
       "1        8.65       140.5       1357.0       651.0  ...  0.004135  0.000000   \n",
       "2        8.59       152.0       1364.5       649.0  ...  0.018746  0.000000   \n",
       "3        8.59       155.0       1368.5         NaN  ...  0.013986  0.000583   \n",
       "4        8.50       162.0       1390.0       635.0  ...  0.005764  0.003470   \n",
       "5        8.40       160.0       1444.0       636.0  ...  0.004028  0.001729   \n",
       "\n",
       "    VTBR_D1   VTBR_D2   VTBR_D3   VTBR_D4   YNDX_D1   YNDX_D2   YNDX_D3  \\\n",
       "1 -0.054346  0.045848  0.045848  0.002330 -0.029828  0.012767  0.015894   \n",
       "2 -0.013944  0.011111  0.015556  0.007941  0.000257  0.018013  0.021616   \n",
       "3 -0.010236 -0.001591  0.000000  0.015552  0.001528 -0.011953  0.000000   \n",
       "4 -0.002376  0.008137  0.029371  0.001391 -0.007353  0.002810  0.012516   \n",
       "5  0.009901 -0.009608  0.005882  0.011905  0.000000  0.004585  0.008660   \n",
       "\n",
       "    YNDX_D4  \n",
       "1  0.002089  \n",
       "2  0.000000  \n",
       "3  0.023425  \n",
       "4  0.001791  \n",
       "5  0.016309  \n",
       "\n",
       "[5 rows x 893 columns]"
      ]
     },
     "execution_count": 4,
     "metadata": {},
     "output_type": "execute_result"
    }
   ],
   "source": [
    "df.head()"
   ]
  },
  {
   "cell_type": "code",
   "execution_count": 5,
   "id": "444d3aac",
   "metadata": {},
   "outputs": [
    {
     "name": "stdout",
     "output_type": "stream",
     "text": [
      "2018-01-03 00:00:00\n"
     ]
    }
   ],
   "source": [
    "start_date = env.first_date()\n",
    "print(start_date)"
   ]
  },
  {
   "cell_type": "code",
   "execution_count": 6,
   "id": "e69034f3",
   "metadata": {},
   "outputs": [
    {
     "name": "stdout",
     "output_type": "stream",
     "text": [
      "1209\n"
     ]
    }
   ],
   "source": [
    "day_count = env.data.shape[0]\n",
    "print(day_count)"
   ]
  },
  {
   "cell_type": "code",
   "execution_count": 50,
   "id": "f85cfce5",
   "metadata": {},
   "outputs": [
    {
     "name": "stdout",
     "output_type": "stream",
     "text": [
      "tensor([ 3.0000e+00,  1.2385e+01,  1.2465e+01,  1.2240e+01,  1.2365e+01,\n",
      "         1.4880e+07, -2.0178e-03,  1.6175e-03,  8.0873e-03,  1.0212e-02,\n",
      "         4.0000e+00,  1.2390e+01,  1.2420e+01,  1.2220e+01,  1.2385e+01,\n",
      "         1.1072e+07, -2.5954e-02,  4.0371e-04,  2.8260e-03,  1.3502e-02,\n",
      "         1.0000e+00,  1.2715e+01,  1.2840e+01,  1.2505e+01,  1.2545e+01,\n",
      "         3.0906e+07, -1.2205e-02,  1.3551e-02,  2.3515e-02,  3.1987e-03,\n",
      "         2.0000e+00,  1.2700e+01,  1.2835e+01,  1.2520e+01,  1.2785e+01,\n",
      "         1.1774e+07,  6.6929e-03, -6.6484e-03,  3.9108e-03,  2.1166e-02,\n",
      "         3.0000e+00,  1.2700e+01,  1.2765e+01,  1.2400e+01,  1.2695e+01,\n",
      "         1.5998e+07,  3.5573e-03,  3.9386e-04,  5.5140e-03,  2.3790e-02,\n",
      "         4.0000e+00,  1.2650e+01,  1.2730e+01,  1.2520e+01,  1.2615e+01,\n",
      "         1.3498e+07, -1.0976e-02,  2.7745e-03,  9.1161e-03,  7.5879e-03,\n",
      "         0.0000e+00,  1.2755e+01,  1.2795e+01,  1.2605e+01,  1.2770e+01,\n",
      "         1.2795e+07,  9.4862e-03, -1.1746e-03,  1.9577e-03,  1.3090e-02,\n",
      "         1.0000e+00,  1.2650e+01,  1.2825e+01,  1.2605e+01,  1.2760e+01,\n",
      "         2.8991e+07,  3.9339e-03, -8.6207e-03,  5.0940e-03,  1.2297e-02,\n",
      "         2.0000e+00,  1.2710e+01,  1.2710e+01,  1.2470e+01,  1.2670e+01,\n",
      "         2.0610e+07, -3.9448e-04,  3.1571e-03,  3.1571e-03,  1.6038e-02,\n",
      "         3.0000e+00,  1.2675e+01,  1.2770e+01,  1.2530e+01,  1.2680e+01,\n",
      "         2.5342e+07,  1.4400e-02, -3.9432e-04,  7.0978e-03,  1.1971e-02,\n",
      "         3.3400e+04,  0.0000e+00])\n",
      "102\n"
     ]
    }
   ],
   "source": [
    "env.init_money = 334000\n",
    "env.money = [33400]\n",
    "#print(env.init_money)\n",
    "print(env.observation_tensor(11))\n",
    "print(len(env.observation_tensor(11)))\n",
    "#print(env.observation(11))"
   ]
  },
  {
   "cell_type": "code",
   "execution_count": 5,
   "id": "7258a893",
   "metadata": {},
   "outputs": [],
   "source": [
    "import numpy as np\n",
    "\n",
    "class Base_model:\n",
    "    def __init__(self):\n",
    "        pass\n",
    "    \n",
    "    def fit(self, data):\n",
    "        pass\n",
    "    \n",
    "    def predict(self, data):\n",
    "        return np.random.randint(-1, 2, 1)"
   ]
  },
  {
   "cell_type": "code",
   "execution_count": 6,
   "id": "e40abafa",
   "metadata": {},
   "outputs": [],
   "source": [
    "from tqdm import tqdm"
   ]
  },
  {
   "cell_type": "code",
   "execution_count": 158,
   "id": "31ef6e03",
   "metadata": {},
   "outputs": [],
   "source": [
    "def simple_correlation(a,b):\n",
    "    return torch.nn.CosineSimilarity(dim=0)(a,b)"
   ]
  },
  {
   "cell_type": "code",
   "execution_count": 172,
   "id": "f07c1cd2",
   "metadata": {},
   "outputs": [],
   "source": [
    "class Random_trees:\n",
    "    def __init__(self):\n",
    "        pass\n",
    "    \n",
    "    def fit(self, stocks_dict, cur_money_stocks, cur_history, cur_index, N_points = 100, tree_depth = 3):\n",
    "        #stock_history = {action: history}\n",
    "        #sample 100 random, build tree for each point fot next tree_depth days. \n",
    "        L = len(stocks_dict) #number of stocks\n",
    "        possible_points = L*(cur_index+1-10)\n",
    "        N_points = min(N_points, possible_points)\n",
    "        print(f'N processed points: {N_points}')\n",
    "        stocks_range = np.arange(L)\n",
    "        time_range = np.arange(10,cur_index+1)\n",
    "        pairs = np.dstack(np.meshgrid(stocks_range, time_range)).reshape(-1,2)\n",
    "        # now select a random set of N_points of those pairs, which are unique\n",
    "        pairs[np.random.choice(np.arange(pairs.shape[0]), size=N_points, replace=False)]\n",
    "        \n",
    "        init_money, init_stocks = cur_money_stocks\n",
    "        Points_statistics = {}  #{(a,t): (probs, correlation)}\n",
    "        for (a,t) in tqdm(pairs):\n",
    "            #print(a, t, 'aaaaaaaaaaaaaaaa')\n",
    "            stock_env = stocks_dict[list(stocks_dict.keys())[a]] #history of action number a\n",
    "\n",
    "            #reinitialize starting point\n",
    "            stock_env.init_money = init_money\n",
    "            stock_env.money = [init_money]\n",
    "            stock_env.stocks = [init_stocks]\n",
    "            \n",
    "            #print(init_money, 'init money')\n",
    "            #print(stock_env.money)\n",
    "\n",
    "            point = stock_env.observation_tensor(t)\n",
    "\n",
    "            #play a (gay)me for tree_depth days\n",
    "            probs = self.little_tree_BFS(stock_env, point, t, stock_env.money, stock_env.stocks, tree_depth)\n",
    "            \n",
    "            #print(cur_history)\n",
    "            #print(point[:-2])\n",
    "            \n",
    "            cur_history = torch.nan_to_num(cur_history, nan = 0.0)\n",
    "            point[:-2] = torch.nan_to_num(point[:-2], nan = 0.0)\n",
    "            #corr = torch.nn.CosineSimilarity(dim=1)(torch.nan_to_num(point[:-2], cur_history) #torch.corrcoef(torch.cat([point[:-2], cur_history]))\n",
    "            Points_statistics[(a,t)] = (tuple(probs), tuple(point[:-2]))\n",
    "            self.Points_statistics = Points_statistics\n",
    "        return Points_statistics\n",
    "    \n",
    "    def little_tree_BFS(self, env, root, global_start_ind, money_init, stock_init, tree_depth = 3):\n",
    "        Q = []\n",
    "        Parent_table = {}\n",
    "        Visited_probs = {} #defaultdict(float) #probabilities\n",
    "        Goals = []\n",
    "        reward_init = 0\n",
    "        lvl_init = 0\n",
    "        \n",
    "        Q.append((money_init, stock_init, lvl_init, reward_init))\n",
    "        Visited_probs[(tuple(money_init), tuple(stock_init), lvl_init, reward_init)] = (0, 0) #(prob, num_children)\n",
    "        #while lvl<tree_depth+1: #\n",
    "        while (Q!=[]):\n",
    "            prev_money, prev_stock,  prev_state_lvl, prev_reward = Q[0] #root\n",
    "            #Children[(prev_state, prev_money, prev_stock,  prev_state_lvl, prev_reward)] = []\n",
    "            Q = Q[1:] #drop considered node from queue\n",
    "            #print(len(Q), 'len Q')\n",
    "            #print('AAAAAAAAAAAAAAAAAAAAAAAAAA PREV', prev_money)\n",
    "            \n",
    "            \n",
    "            actions = env.get_possible_actions_custom(global_start_ind+prev_state_lvl, prev_state_lvl)\n",
    "            #print(actions, 'ACTIONS')\n",
    "            for i,a in enumerate(actions):\n",
    "                #do step: a.k.a reset money and stocks according to parent\n",
    "                env.reset()\n",
    "                env.money = prev_money.copy()\n",
    "                env.stocks = prev_stock.copy()\n",
    "                \n",
    "                env.transition(prev_state_lvl, a) #resets env.money and env.stock\n",
    "                next_reward = prev_reward+env.reward(global_start_ind+prev_state_lvl, a)\n",
    "                \n",
    "                next_state_lvl = prev_state_lvl+1 \n",
    "                #next_state = env.observation_tensor(global_start_ind+next_state_lvl)\n",
    "                \n",
    "                assert next_state_lvl+1 == len(env.money) == len(env.stocks)\n",
    "                \n",
    "                prev_prob = next_prob = 0 #until we got the end of the path we can't say the probability\n",
    "                \n",
    "                Parent_table[(tuple(env.money), tuple(env.stocks), next_state_lvl, next_reward)]=(prev_money, prev_stock, prev_state_lvl, prev_reward)\n",
    "                Visited_probs[(tuple(env.money), tuple(env.stocks), next_state_lvl, next_reward)] = (0,0)\n",
    "                #Children[(prev_state, prev_state_lvl, prev_money, prev_stock, prev_reward)].append(((next_state, env.money, env.stocks, next_lvl, next_reward),next_prob))\n",
    "    \n",
    "                if next_state_lvl< tree_depth:\n",
    "                    Q.append((env.money.copy(), env.stocks.copy(), next_state_lvl, next_reward.copy()))\n",
    "                else:\n",
    "                    Goals.append((env.money.copy(), env.stocks.copy(), next_state_lvl, next_reward.copy()))\n",
    "                    Visited_probs[(tuple(env.money), tuple(env.stocks), next_state_lvl, next_reward)]=(next_reward,1)\n",
    "        \n",
    "        #update and backprop probabilities:\n",
    "        #for g in Goals:\n",
    "            #g[5] = g[4]/cum_rew\n",
    "        New_goals = Goals\n",
    "        while New_goals!=[]:\n",
    "            #print(\"_____________________GOAL___________________\")\n",
    "            g = New_goals[0]\n",
    "            g_hash =tuple(g[0]),tuple(g[1]),g[2], g[3]\n",
    "            \n",
    "            #print([(g[2]) for g in New_goals], '______________-new goals____________')\n",
    "            #print([Visited_probs[tuple(g[0]),tuple(g[1]),g[2], g[3]] for g in New_goals], '______________-new goals____________')\n",
    "            \n",
    "            if g==(money_init.copy(), stock_init.copy(), lvl_init, reward_init):\n",
    "                break\n",
    "            par = Parent_table[g_hash]\n",
    "            par_hash =tuple(par[0]),tuple(par[1]),par[2], par[3]\n",
    "            #getting out of queue\n",
    "            if Visited_probs[g_hash][1] ==0:\n",
    "                 denom =1\n",
    "            else: \n",
    "                denom =Visited_probs[g_hash][1]\n",
    "            g_reward_avg = Visited_probs[g_hash][0]/denom #cum_reward/num_children\n",
    "            \n",
    "            #update parent prob\n",
    "            P,N = Visited_probs[par_hash]\n",
    "            Visited_probs[par_hash] = (P+g_reward_avg, N+1)\n",
    "            #Visited_probs[par_hash][0]+=g_reward_avg#+=(g_reward_avg,1)\n",
    "            #Visited_probs[par_hash][1]+=1\n",
    "            New_goals = New_goals[1:] \n",
    "            if par not in New_goals:\n",
    "                New_goals.append(par)\n",
    "        #find probabilities for children of root\n",
    "        probs = []\n",
    "        for a in (1, 0, -1):\n",
    "            #root, money_init, stock_init, lvl_init, reward_init\n",
    "            env.money = money_init\n",
    "            env.stocks = stock_init\n",
    "            env.transition(global_start_ind, a) #resets env.money and env.stock\n",
    "            #next_state = env.observation_tensor(global_start_ind+1)\n",
    "            next_reward = prev_reward+env.reward(global_start_ind+prev_state_lvl, a)\n",
    "            next_lvl = 1\n",
    "            \n",
    "            if (tuple(env.money), tuple(env.stocks), next_lvl, next_reward) in Visited_probs:\n",
    "                probs.append(Visited[(env.money, env.stocks, next_lvl, next_reward)][0]/Visited[(env.money, env.stocks, next_lvl, next_reward)][1])\n",
    "            else:\n",
    "                probs.append(0)\n",
    "        probs = np.array(probs)\n",
    "        sum_ = np.sum(probs)\n",
    "        if sum_ == 0:\n",
    "            sum_ = 1\n",
    "        #probs = probs/sum_\n",
    "        probs = np.exp(probs)/sum(np.exp(probs))\n",
    "        assert np.sum(np.abs(probs))<=1 and all([i>=0 for i in probs])\n",
    "        return probs\n",
    "\n",
    "    def predict(self, data, ind, stocks_dict, corr_fn = simple_correlation):\n",
    "        cur_money_stocks = data[-2:]\n",
    "        cur_history = data[:-2]\n",
    "        cur_index = ind\n",
    "        \n",
    "        statistics = self.Points_statistics #self.fit(stocks_dict, cur_money_stocks, cur_history, cur_index)\n",
    "        #print(statistics)\n",
    "        cum_probs = np.array([0,0,0])\n",
    "        for i in range(len(statistics)):\n",
    "            probs, hist = statistics[list(statistics.keys())[i]] \n",
    "            cur_history = torch.nan_to_num(cur_history, nan = 0.0)\n",
    "            hist = torch.tensor(hist)\n",
    "            hist = torch.nan_to_num(hist, nan = 0.0)\n",
    "            coeff = corr_fn(hist, cur_history)\n",
    "            #print( coeff*np.array(probs), 'coeff')\n",
    "            cum_probs=cum_probs + np.array(coeff*np.array(probs))\n",
    "        #assert np.sum(np.abs(cum_probs))<=1 and all([i>=0 for i in cum_probs])\n",
    "        return cum_probs/np.sum(cum_probs)"
   ]
  },
  {
   "cell_type": "code",
   "execution_count": 173,
   "id": "30c1491d",
   "metadata": {},
   "outputs": [
    {
     "name": "stderr",
     "output_type": "stream",
     "text": [
      "100%|███████████████████████████████████████████████████████████████████████████████████| 3/3 [00:00<00:00, 119.97it/s]\n",
      "100%|███████████████████████████████████████████████████████████████████████████████████| 6/6 [00:00<00:00, 171.38it/s]\n",
      "100%|███████████████████████████████████████████████████████████████████████████████████| 9/9 [00:00<00:00, 169.77it/s]\n",
      "100%|█████████████████████████████████████████████████████████████████████████████████| 12/12 [00:00<00:00, 173.87it/s]"
     ]
    },
    {
     "name": "stdout",
     "output_type": "stream",
     "text": [
      "N processed points: 3\n",
      " Probabilities for step 10: action_probas, action: 1\n",
      "10\n",
      "N processed points: 6\n",
      " Probabilities for step 11: action_probas, action: 1\n",
      "11\n",
      "N processed points: 9\n",
      " Probabilities for step 12: action_probas, action: 1\n",
      "12\n",
      "N processed points: 12\n"
     ]
    },
    {
     "name": "stderr",
     "output_type": "stream",
     "text": [
      "\n",
      "100%|█████████████████████████████████████████████████████████████████████████████████| 15/15 [00:00<00:00, 166.62it/s]\n",
      "100%|█████████████████████████████████████████████████████████████████████████████████| 18/18 [00:00<00:00, 172.91it/s]"
     ]
    },
    {
     "name": "stdout",
     "output_type": "stream",
     "text": [
      " Probabilities for step 13: action_probas, action: 1\n",
      "13\n",
      "N processed points: 15\n",
      " Probabilities for step 14: action_probas, action: 1\n",
      "14\n",
      "N processed points: 18\n"
     ]
    },
    {
     "name": "stderr",
     "output_type": "stream",
     "text": [
      "100%|█████████████████████████████████████████████████████████████████████████████████| 18/18 [00:00<00:00, 171.27it/s]\n",
      "100%|█████████████████████████████████████████████████████████████████████████████████| 21/21 [00:00<00:00, 172.15it/s]\n",
      "  0%|                                                                                           | 0/24 [00:00<?, ?it/s]"
     ]
    },
    {
     "name": "stdout",
     "output_type": "stream",
     "text": [
      " Probabilities for step 15: action_probas, action: 1\n",
      "15\n",
      "N processed points: 21\n",
      " Probabilities for step 16: action_probas, action: 1\n",
      "16\n",
      "N processed points: 24\n"
     ]
    },
    {
     "name": "stderr",
     "output_type": "stream",
     "text": [
      "100%|█████████████████████████████████████████████████████████████████████████████████| 24/24 [00:00<00:00, 174.37it/s]\n",
      "100%|█████████████████████████████████████████████████████████████████████████████████| 27/27 [00:00<00:00, 172.94it/s]\n",
      "  0%|                                                                                           | 0/30 [00:00<?, ?it/s]"
     ]
    },
    {
     "name": "stdout",
     "output_type": "stream",
     "text": [
      " Probabilities for step 17: action_probas, action: 1\n",
      "17\n",
      "N processed points: 27\n",
      " Probabilities for step 18: action_probas, action: 1\n",
      "18\n",
      "N processed points: 30\n"
     ]
    },
    {
     "name": "stderr",
     "output_type": "stream",
     "text": [
      "100%|█████████████████████████████████████████████████████████████████████████████████| 30/30 [00:00<00:00, 172.32it/s]"
     ]
    },
    {
     "name": "stdout",
     "output_type": "stream",
     "text": [
      " Probabilities for step 19: action_probas, action: 1\n",
      "19\n"
     ]
    },
    {
     "name": "stderr",
     "output_type": "stream",
     "text": [
      "\n"
     ]
    }
   ],
   "source": [
    "test_stock_name = 'BELU'\n",
    "env = Environment(data=df, stock_name=test_stock_name, initial_money=1000)\n",
    "env.reset()\n",
    "day_count = 10\n",
    "stocks_dict = env_dict\n",
    "act_space = [1, 0, -1]\n",
    "\n",
    "model = Random_trees()\n",
    "for i in range(10, 10+day_count):\n",
    "    obs = env.observation_tensor(i)\n",
    "    model.fit(stocks_dict, obs[-2:], obs[:-2], i)\n",
    "    action_probas = model.predict(obs, i, stocks_dict)\n",
    "    action = act_space[np.argmax(action_probas)]\n",
    "    print(f' Probabilities for step {i}: action_probas, action: {action}')\n",
    "    env.transition(action, i)\n",
    "    if i % 1 == 0:\n",
    "        print(i)"
   ]
  },
  {
   "cell_type": "code",
   "execution_count": 95,
   "id": "2a27def5",
   "metadata": {},
   "outputs": [
    {
     "name": "stdout",
     "output_type": "stream",
     "text": [
      "3\n"
     ]
    }
   ],
   "source": [
    "stocks_names = ['AMEZ', 'AQUA', 'VTBR']\n",
    "env_dict ={}\n",
    "for name in stocks_names:\n",
    "    env_dict[name]=Environment(data=df, stock_name=name, initial_money=1000)\n",
    "    \n",
    "print(len(env_dict))"
   ]
  },
  {
   "cell_type": "code",
   "execution_count": 49,
   "id": "15602664",
   "metadata": {},
   "outputs": [
    {
     "data": {
      "text/plain": [
       "'AMEZ'"
      ]
     },
     "execution_count": 49,
     "metadata": {},
     "output_type": "execute_result"
    }
   ],
   "source": [
    "list(env_dict.keys())[0]"
   ]
  },
  {
   "cell_type": "code",
   "execution_count": 34,
   "id": "c1442f03",
   "metadata": {},
   "outputs": [
    {
     "name": "stdout",
     "output_type": "stream",
     "text": [
      "[0, 1, 2]\n"
     ]
    },
    {
     "ename": "TypeError",
     "evalue": "'int' object is not iterable",
     "output_type": "error",
     "traceback": [
      "\u001b[1;31m---------------------------------------------------------------------------\u001b[0m",
      "\u001b[1;31mTypeError\u001b[0m                                 Traceback (most recent call last)",
      "Input \u001b[1;32mIn [34]\u001b[0m, in \u001b[0;36m<module>\u001b[1;34m\u001b[0m\n\u001b[0;32m      1\u001b[0m L \u001b[38;5;241m=\u001b[39m \u001b[38;5;28mlen\u001b[39m(stocks_names)\n\u001b[0;32m      2\u001b[0m \u001b[38;5;28mprint\u001b[39m([i \u001b[38;5;28;01mfor\u001b[39;00m i \u001b[38;5;129;01min\u001b[39;00m \u001b[38;5;28mrange\u001b[39m(L)],)\n\u001b[1;32m----> 3\u001b[0m \u001b[38;5;28mprint\u001b[39m(\u001b[43mrandom\u001b[49m\u001b[38;5;241;43m.\u001b[39;49m\u001b[43mchoices\u001b[49m\u001b[43m(\u001b[49m\u001b[43m[\u001b[49m\u001b[43mi\u001b[49m\u001b[43m \u001b[49m\u001b[38;5;28;43;01mfor\u001b[39;49;00m\u001b[43m \u001b[49m\u001b[43mi\u001b[49m\u001b[43m \u001b[49m\u001b[38;5;129;43;01min\u001b[39;49;00m\u001b[43m \u001b[49m\u001b[38;5;28;43mrange\u001b[39;49m\u001b[43m(\u001b[49m\u001b[43mL\u001b[49m\u001b[43m)\u001b[49m\u001b[43m]\u001b[49m\u001b[43m,\u001b[49m\u001b[43m \u001b[49m\u001b[38;5;241;43m5\u001b[39;49m\u001b[43m)\u001b[49m)\n",
      "File \u001b[1;32m~\\anaconda3\\lib\\random.py:400\u001b[0m, in \u001b[0;36mRandom.choices\u001b[1;34m(self, population, weights, cum_weights, k)\u001b[0m\n\u001b[0;32m    398\u001b[0m         n \u001b[38;5;241m+\u001b[39m\u001b[38;5;241m=\u001b[39m \u001b[38;5;241m0.0\u001b[39m    \u001b[38;5;66;03m# convert to float for a small speed improvement\u001b[39;00m\n\u001b[0;32m    399\u001b[0m         \u001b[38;5;28;01mreturn\u001b[39;00m [population[_int(random() \u001b[38;5;241m*\u001b[39m n)] \u001b[38;5;28;01mfor\u001b[39;00m i \u001b[38;5;129;01min\u001b[39;00m _repeat(\u001b[38;5;28;01mNone\u001b[39;00m, k)]\n\u001b[1;32m--> 400\u001b[0m     cum_weights \u001b[38;5;241m=\u001b[39m \u001b[38;5;28mlist\u001b[39m(\u001b[43m_accumulate\u001b[49m\u001b[43m(\u001b[49m\u001b[43mweights\u001b[49m\u001b[43m)\u001b[49m)\n\u001b[0;32m    401\u001b[0m \u001b[38;5;28;01melif\u001b[39;00m weights \u001b[38;5;129;01mis\u001b[39;00m \u001b[38;5;129;01mnot\u001b[39;00m \u001b[38;5;28;01mNone\u001b[39;00m:\n\u001b[0;32m    402\u001b[0m     \u001b[38;5;28;01mraise\u001b[39;00m \u001b[38;5;167;01mTypeError\u001b[39;00m(\u001b[38;5;124m'\u001b[39m\u001b[38;5;124mCannot specify both weights and cumulative weights\u001b[39m\u001b[38;5;124m'\u001b[39m)\n",
      "\u001b[1;31mTypeError\u001b[0m: 'int' object is not iterable"
     ]
    }
   ],
   "source": [
    "L = len(stocks_names)\n",
    "print([i for i in range(L)],)\n",
    "print(random.choices([i for i in range(L)], 5))"
   ]
  },
  {
   "cell_type": "code",
   "execution_count": 58,
   "id": "8575fce9",
   "metadata": {},
   "outputs": [
    {
     "ename": "ValueError",
     "evalue": "'a' cannot be empty unless no samples are taken",
     "output_type": "error",
     "traceback": [
      "\u001b[1;31m---------------------------------------------------------------------------\u001b[0m",
      "\u001b[1;31mValueError\u001b[0m                                Traceback (most recent call last)",
      "Input \u001b[1;32mIn [58]\u001b[0m, in \u001b[0;36m<module>\u001b[1;34m\u001b[0m\n\u001b[1;32m----> 1\u001b[0m \u001b[38;5;28mprint\u001b[39m(\u001b[43mnp\u001b[49m\u001b[38;5;241;43m.\u001b[39;49m\u001b[43mrandom\u001b[49m\u001b[38;5;241;43m.\u001b[39;49m\u001b[43mchoice\u001b[49m\u001b[43m(\u001b[49m\u001b[38;5;28;43mrange\u001b[39;49m\u001b[43m(\u001b[49m\u001b[38;5;241;43m10\u001b[39;49m\u001b[43m,\u001b[49m\u001b[38;5;241;43m9\u001b[39;49m\u001b[43m)\u001b[49m\u001b[43m,\u001b[49m\u001b[43m \u001b[49m\u001b[43msize\u001b[49m\u001b[38;5;241;43m=\u001b[39;49m\u001b[38;5;241;43m10\u001b[39;49m\u001b[43m,\u001b[49m\u001b[43m \u001b[49m\u001b[43mreplace\u001b[49m\u001b[38;5;241;43m=\u001b[39;49m\u001b[38;5;28;43;01mTrue\u001b[39;49;00m\u001b[43m)\u001b[49m)\n",
      "File \u001b[1;32mmtrand.pyx:909\u001b[0m, in \u001b[0;36mnumpy.random.mtrand.RandomState.choice\u001b[1;34m()\u001b[0m\n",
      "\u001b[1;31mValueError\u001b[0m: 'a' cannot be empty unless no samples are taken"
     ]
    }
   ],
   "source": [
    "print(np.random.choice(range(10,9), size=10, replace=True))"
   ]
  },
  {
   "cell_type": "code",
   "execution_count": 65,
   "id": "1ce566a2",
   "metadata": {},
   "outputs": [
    {
     "ename": "ValueError",
     "evalue": "Sample larger than population or is negative",
     "output_type": "error",
     "traceback": [
      "\u001b[1;31m---------------------------------------------------------------------------\u001b[0m",
      "\u001b[1;31mValueError\u001b[0m                                Traceback (most recent call last)",
      "Input \u001b[1;32mIn [65]\u001b[0m, in \u001b[0;36m<module>\u001b[1;34m\u001b[0m\n\u001b[1;32m----> 1\u001b[0m \u001b[38;5;28mprint\u001b[39m(\u001b[43mrandom\u001b[49m\u001b[38;5;241;43m.\u001b[39;49m\u001b[43msample\u001b[49m\u001b[43m(\u001b[49m\u001b[43m[\u001b[49m\u001b[43m(\u001b[49m\u001b[43mi\u001b[49m\u001b[43m,\u001b[49m\u001b[43mj\u001b[49m\u001b[43m)\u001b[49m\u001b[43m \u001b[49m\u001b[38;5;28;43;01mfor\u001b[39;49;00m\u001b[43m \u001b[49m\u001b[43mi\u001b[49m\u001b[43m,\u001b[49m\u001b[43m \u001b[49m\u001b[43mj\u001b[49m\u001b[43m \u001b[49m\u001b[38;5;129;43;01min\u001b[39;49;00m\u001b[43m \u001b[49m\u001b[38;5;28;43mzip\u001b[39;49m\u001b[43m(\u001b[49m\u001b[38;5;28;43mrange\u001b[39;49m\u001b[43m(\u001b[49m\u001b[38;5;241;43m2\u001b[39;49m\u001b[43m)\u001b[49m\u001b[43m,\u001b[49m\u001b[38;5;28;43mrange\u001b[39;49m\u001b[43m(\u001b[49m\u001b[38;5;241;43m2\u001b[39;49m\u001b[43m)\u001b[49m\u001b[43m)\u001b[49m\u001b[43m]\u001b[49m\u001b[43m,\u001b[49m\u001b[43m \u001b[49m\u001b[38;5;241;43m5\u001b[39;49m\u001b[43m)\u001b[49m)\n",
      "File \u001b[1;32m~\\anaconda3\\lib\\random.py:363\u001b[0m, in \u001b[0;36mRandom.sample\u001b[1;34m(self, population, k)\u001b[0m\n\u001b[0;32m    361\u001b[0m n \u001b[38;5;241m=\u001b[39m \u001b[38;5;28mlen\u001b[39m(population)\n\u001b[0;32m    362\u001b[0m \u001b[38;5;28;01mif\u001b[39;00m \u001b[38;5;129;01mnot\u001b[39;00m \u001b[38;5;241m0\u001b[39m \u001b[38;5;241m<\u001b[39m\u001b[38;5;241m=\u001b[39m k \u001b[38;5;241m<\u001b[39m\u001b[38;5;241m=\u001b[39m n:\n\u001b[1;32m--> 363\u001b[0m     \u001b[38;5;28;01mraise\u001b[39;00m \u001b[38;5;167;01mValueError\u001b[39;00m(\u001b[38;5;124m\"\u001b[39m\u001b[38;5;124mSample larger than population or is negative\u001b[39m\u001b[38;5;124m\"\u001b[39m)\n\u001b[0;32m    364\u001b[0m result \u001b[38;5;241m=\u001b[39m [\u001b[38;5;28;01mNone\u001b[39;00m] \u001b[38;5;241m*\u001b[39m k\n\u001b[0;32m    365\u001b[0m setsize \u001b[38;5;241m=\u001b[39m \u001b[38;5;241m21\u001b[39m        \u001b[38;5;66;03m# size of a small set minus size of an empty list\u001b[39;00m\n",
      "\u001b[1;31mValueError\u001b[0m: Sample larger than population or is negative"
     ]
    }
   ],
   "source": [
    "print(random.sample([(i,j) for i, j in zip(range(2),range(2))], 5))"
   ]
  },
  {
   "cell_type": "code",
   "execution_count": 90,
   "id": "eafb59bb",
   "metadata": {},
   "outputs": [],
   "source": [
    "pairs = np.dstack(np.meshgrid(np.arange(3), np.arange(10,12))).reshape(-1,2)\n",
    "\n",
    "# now select a random set of 25 of those pairs, which are unique\n",
    "pairs[np.random.choice(np.arange(pairs.shape[0]), size=4, replace=False)]\n",
    "pairs = pairs.ravel()"
   ]
  },
  {
   "cell_type": "code",
   "execution_count": 91,
   "id": "c4765408",
   "metadata": {},
   "outputs": [
    {
     "name": "stdout",
     "output_type": "stream",
     "text": [
      "0\n",
      "10\n",
      "1\n",
      "10\n",
      "2\n",
      "10\n",
      "0\n",
      "11\n",
      "1\n",
      "11\n",
      "2\n",
      "11\n"
     ]
    }
   ],
   "source": [
    "for i in pairs:\n",
    "    print(i)"
   ]
  },
  {
   "cell_type": "code",
   "execution_count": 73,
   "id": "d3d3dbd8",
   "metadata": {},
   "outputs": [
    {
     "name": "stdout",
     "output_type": "stream",
     "text": [
      "(12,)\n"
     ]
    }
   ],
   "source": [
    "print(pairs.ravel().shape)"
   ]
  }
 ],
 "metadata": {
  "kernelspec": {
   "display_name": "for_rl2",
   "language": "python",
   "name": "for_rl2"
  },
  "language_info": {
   "codemirror_mode": {
    "name": "ipython",
    "version": 3
   },
   "file_extension": ".py",
   "mimetype": "text/x-python",
   "name": "python",
   "nbconvert_exporter": "python",
   "pygments_lexer": "ipython3",
   "version": "3.8.8"
  }
 },
 "nbformat": 4,
 "nbformat_minor": 5
}
