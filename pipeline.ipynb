{
 "cells": [
  {
   "cell_type": "markdown",
   "id": "c3e605dc",
   "metadata": {},
   "source": [
    "## Imports"
   ]
  },
  {
   "cell_type": "code",
   "execution_count": 1,
   "id": "d24facb1",
   "metadata": {},
   "outputs": [],
   "source": [
    "%load_ext autoreload\n",
    "%autoreload 2\n",
    "\n",
    "from utils.prepare_data import prepare_short_data, prepare_full_data\n",
    "from environment import Environment\n",
    "from models.base_model import Base_model\n",
    "from models.DQN import DQN\n",
    "\n",
    "from datetime import timedelta, datetime\n",
    "from matplotlib import pyplot as plt\n",
    "\n",
    "import warnings\n",
    "warnings.filterwarnings('ignore')\n",
    "\n",
    "from models.TD import ActorModel, CriticModel, ActorImprovedValue, CriticTD, critic_epoch, actor_epoch\n",
    "import torch\n",
    "from tqdm import tqdm\n",
    "import numpy as np"
   ]
  },
  {
   "cell_type": "markdown",
   "id": "bb142982",
   "metadata": {},
   "source": [
    "## Constants"
   ]
  },
  {
   "cell_type": "code",
   "execution_count": 2,
   "id": "907ddbfa",
   "metadata": {
    "scrolled": true
   },
   "outputs": [],
   "source": [
    "df = prepare_full_data('data/Data_RU.xlsx')"
   ]
  },
  {
   "cell_type": "code",
   "execution_count": 3,
   "id": "776eb04f",
   "metadata": {
    "scrolled": true
   },
   "outputs": [
    {
     "data": {
      "text/html": [
       "<div>\n",
       "<style scoped>\n",
       "    .dataframe tbody tr th:only-of-type {\n",
       "        vertical-align: middle;\n",
       "    }\n",
       "\n",
       "    .dataframe tbody tr th {\n",
       "        vertical-align: top;\n",
       "    }\n",
       "\n",
       "    .dataframe thead th {\n",
       "        text-align: right;\n",
       "    }\n",
       "</style>\n",
       "<table border=\"1\" class=\"dataframe\">\n",
       "  <thead>\n",
       "    <tr style=\"text-align: right;\">\n",
       "      <th></th>\n",
       "      <th>Date</th>\n",
       "      <th>Weekday</th>\n",
       "      <th>AFKS_close</th>\n",
       "      <th>AFKS_high</th>\n",
       "      <th>AFKS_low</th>\n",
       "      <th>AFKS_open</th>\n",
       "      <th>AFKS_volume</th>\n",
       "      <th>AFKS_D1</th>\n",
       "      <th>AFKS_D2</th>\n",
       "      <th>AFKS_D3</th>\n",
       "      <th>AFKS_D4</th>\n",
       "    </tr>\n",
       "  </thead>\n",
       "  <tbody>\n",
       "    <tr>\n",
       "      <th>21</th>\n",
       "      <td>2018-02-01</td>\n",
       "      <td>3</td>\n",
       "      <td>12.265</td>\n",
       "      <td>12.265</td>\n",
       "      <td>12.105</td>\n",
       "      <td>12.140</td>\n",
       "      <td>10856600.0</td>\n",
       "      <td>0.011667</td>\n",
       "      <td>0.010297</td>\n",
       "      <td>0.010297</td>\n",
       "      <td>0.002891</td>\n",
       "    </tr>\n",
       "    <tr>\n",
       "      <th>22</th>\n",
       "      <td>2018-02-02</td>\n",
       "      <td>4</td>\n",
       "      <td>12.000</td>\n",
       "      <td>12.365</td>\n",
       "      <td>11.960</td>\n",
       "      <td>12.265</td>\n",
       "      <td>15760300.0</td>\n",
       "      <td>0.070244</td>\n",
       "      <td>-0.021606</td>\n",
       "      <td>0.008153</td>\n",
       "      <td>0.025502</td>\n",
       "    </tr>\n",
       "    <tr>\n",
       "      <th>24</th>\n",
       "      <td>2018-02-06</td>\n",
       "      <td>1</td>\n",
       "      <td>11.460</td>\n",
       "      <td>11.785</td>\n",
       "      <td>11.420</td>\n",
       "      <td>11.700</td>\n",
       "      <td>24278300.0</td>\n",
       "      <td>0.016949</td>\n",
       "      <td>-0.020513</td>\n",
       "      <td>0.007265</td>\n",
       "      <td>0.024518</td>\n",
       "    </tr>\n",
       "    <tr>\n",
       "      <th>26</th>\n",
       "      <td>2018-02-08</td>\n",
       "      <td>3</td>\n",
       "      <td>11.505</td>\n",
       "      <td>11.720</td>\n",
       "      <td>11.475</td>\n",
       "      <td>11.560</td>\n",
       "      <td>8508300.0</td>\n",
       "      <td>-0.061688</td>\n",
       "      <td>-0.004758</td>\n",
       "      <td>0.013841</td>\n",
       "      <td>0.007407</td>\n",
       "    </tr>\n",
       "    <tr>\n",
       "      <th>29</th>\n",
       "      <td>2018-02-13</td>\n",
       "      <td>1</td>\n",
       "      <td>12.320</td>\n",
       "      <td>12.715</td>\n",
       "      <td>12.250</td>\n",
       "      <td>12.660</td>\n",
       "      <td>19482300.0</td>\n",
       "      <td>0.033469</td>\n",
       "      <td>-0.026856</td>\n",
       "      <td>0.004344</td>\n",
       "      <td>0.033469</td>\n",
       "    </tr>\n",
       "  </tbody>\n",
       "</table>\n",
       "</div>"
      ],
      "text/plain": [
       "         Date  Weekday  AFKS_close  AFKS_high  AFKS_low  AFKS_open  \\\n",
       "21 2018-02-01        3      12.265     12.265    12.105     12.140   \n",
       "22 2018-02-02        4      12.000     12.365    11.960     12.265   \n",
       "24 2018-02-06        1      11.460     11.785    11.420     11.700   \n",
       "26 2018-02-08        3      11.505     11.720    11.475     11.560   \n",
       "29 2018-02-13        1      12.320     12.715    12.250     12.660   \n",
       "\n",
       "    AFKS_volume   AFKS_D1   AFKS_D2   AFKS_D3   AFKS_D4  \n",
       "21   10856600.0  0.011667  0.010297  0.010297  0.002891  \n",
       "22   15760300.0  0.070244 -0.021606  0.008153  0.025502  \n",
       "24   24278300.0  0.016949 -0.020513  0.007265  0.024518  \n",
       "26    8508300.0 -0.061688 -0.004758  0.013841  0.007407  \n",
       "29   19482300.0  0.033469 -0.026856  0.004344  0.033469  "
      ]
     },
     "execution_count": 3,
     "metadata": {},
     "output_type": "execute_result"
    }
   ],
   "source": [
    "env = Environment(data=df[df.Date < datetime(2022, 2, 1)], stock_name='AFKS', initial_money=1000)\n",
    "env.data.head()"
   ]
  },
  {
   "cell_type": "code",
   "execution_count": 4,
   "id": "43820e31",
   "metadata": {},
   "outputs": [],
   "source": [
    "start_date = env.first_date()"
   ]
  },
  {
   "cell_type": "markdown",
   "id": "26de886f",
   "metadata": {},
   "source": [
    "## DQN"
   ]
  },
  {
   "cell_type": "code",
   "execution_count": 5,
   "id": "376f7f4c",
   "metadata": {},
   "outputs": [
    {
     "name": "stderr",
     "output_type": "stream",
     "text": [
      "100%|██████████| 10000/10000 [02:24<00:00, 69.25it/s]\n"
     ]
    }
   ],
   "source": [
    "# 15 is random nummber in [10, days_count] here\n",
    "dqn = DQN(env.observation_tensor(15).shape[0], 3, env, batch_size=32)\n",
    "dqn.fit()"
   ]
  },
  {
   "cell_type": "code",
   "execution_count": 6,
   "id": "8bc236b4",
   "metadata": {},
   "outputs": [],
   "source": [
    "env.reset()\n",
    "for i in range(10, env.day_count-1):\n",
    "    obs = env.observation_tensor(i)\n",
    "    action = dqn.predict(obs)\n",
    "    \n",
    "    reward = env.reward(i, action)\n",
    "    state = env.observation_tensor(i)\n",
    "#     model.fit(state, action, reward)\n",
    "    \n",
    "    env.transition(i, action)"
   ]
  },
  {
   "cell_type": "code",
   "execution_count": 7,
   "id": "48c0ae87",
   "metadata": {
    "scrolled": true
   },
   "outputs": [
    {
     "data": {
      "text/plain": [
       "[<matplotlib.lines.Line2D at 0x250b4497b80>]"
      ]
     },
     "execution_count": 7,
     "metadata": {},
     "output_type": "execute_result"
    },
    {
     "data": {
      "image/png": "[encoded data removed]",
      "text/plain": [
       "<Figure size 432x288 with 1 Axes>"
      ]
     },
     "metadata": {
      "needs_background": "light"
     },
     "output_type": "display_data"
    }
   ],
   "source": [
    "plt.plot(range(10, env.day_count), env.money)"
   ]
  },
  {
   "cell_type": "code",
   "execution_count": 8,
   "id": "5aac5da0",
   "metadata": {
    "scrolled": true
   },
   "outputs": [
    {
     "data": {
      "text/plain": [
       "[<matplotlib.lines.Line2D at 0x250b44f1190>]"
      ]
     },
     "execution_count": 8,
     "metadata": {},
     "output_type": "execute_result"
    },
    {
     "data": {
      "image/png": "[encoded data removed]",
      "text/plain": [
       "<Figure size 432x288 with 1 Axes>"
      ]
     },
     "metadata": {
      "needs_background": "light"
     },
     "output_type": "display_data"
    }
   ],
   "source": [
    "plt.plot(range(10, env.day_count), env.stocks)"
   ]
  },
  {
   "cell_type": "code",
   "execution_count": 9,
   "id": "6d64d6d2",
   "metadata": {},
   "outputs": [
    {
     "data": {
      "text/plain": [
       "[<matplotlib.lines.Line2D at 0x250b50575e0>]"
      ]
     },
     "execution_count": 9,
     "metadata": {},
     "output_type": "execute_result"
    },
    {
     "data": {
      "image/png": "[encoded data removed]",
      "text/plain": [
       "<Figure size 432x288 with 1 Axes>"
      ]
     },
     "metadata": {
      "needs_background": "light"
     },
     "output_type": "display_data"
    }
   ],
   "source": [
    "plt.plot(range(10, env.day_count), env.total_cost())"
   ]
  },
  {
   "cell_type": "code",
   "execution_count": 10,
   "id": "db439cbe",
   "metadata": {},
   "outputs": [
    {
     "data": {
      "text/plain": [
       "[<matplotlib.lines.Line2D at 0x250b52c1580>]"
      ]
     },
     "execution_count": 10,
     "metadata": {},
     "output_type": "execute_result"
    },
    {
     "data": {
      "image/png": "[encoded data removed]",
      "text/plain": [
       "<Figure size 432x288 with 1 Axes>"
      ]
     },
     "metadata": {
      "needs_background": "light"
     },
     "output_type": "display_data"
    }
   ],
   "source": [
    "plt.plot(range(10, env.day_count), env.stock_cost())"
   ]
  },
  {
   "cell_type": "markdown",
   "id": "09649ca0",
   "metadata": {},
   "source": [
    "### Add more stocks to train on"
   ]
  },
  {
   "cell_type": "code",
   "execution_count": 11,
   "id": "1d5bcb4e",
   "metadata": {},
   "outputs": [
    {
     "name": "stderr",
     "output_type": "stream",
     "text": [
      "100%|██████████| 10000/10000 [03:50<00:00, 43.40it/s]\n",
      "100%|██████████| 10000/10000 [03:46<00:00, 44.08it/s]\n",
      "100%|██████████| 10000/10000 [03:45<00:00, 44.33it/s]\n"
     ]
    }
   ],
   "source": [
    "env = Environment(data=df, stock_name='AFKS', initial_money=1000)\n",
    "dqn = DQN(env.observation_tensor(15).shape[0],\n",
    "          3,\n",
    "          env,\n",
    "          batch_size=128)\n",
    "for s in ['AFKS', \n",
    "          'SBER',\n",
    "          'YNDX',\n",
    "#           'GAZP'\n",
    "         ]:\n",
    "    state = dqn.state_dict()\n",
    "    env = Environment(data=df, stock_name=s, initial_money=1000)\n",
    "    dqn.fit(state)"
   ]
  },
  {
   "cell_type": "code",
   "execution_count": null,
   "id": "055d0675",
   "metadata": {},
   "outputs": [],
   "source": []
  },
  {
   "cell_type": "markdown",
   "id": "87115f0a",
   "metadata": {},
   "source": [
    "## Testing"
   ]
  },
  {
   "cell_type": "code",
   "execution_count": 12,
   "id": "60e854a0",
   "metadata": {},
   "outputs": [],
   "source": [
    "test_env = Environment(data=df, stock_name='SBER', initial_money=1000)\n",
    "# test_env = Environment(data=df, stock_name='AFKS', initial_money=1000)"
   ]
  },
  {
   "cell_type": "code",
   "execution_count": 13,
   "id": "56c9077f",
   "metadata": {},
   "outputs": [],
   "source": [
    "test_env.reset()\n",
    "for i in range(10, test_env.day_count-1):\n",
    "    obs = test_env.observation_tensor(i)\n",
    "    action = dqn.predict(obs)\n",
    "    \n",
    "    reward = test_env.reward(i, action)\n",
    "    state = test_env.observation_tensor(i)\n",
    "#     model.fit(state, action, reward)\n",
    "    \n",
    "    test_env.transition(i, action)"
   ]
  },
  {
   "cell_type": "code",
   "execution_count": 14,
   "id": "c6870c13",
   "metadata": {},
   "outputs": [
    {
     "data": {
      "text/plain": [
       "[<matplotlib.lines.Line2D at 0x250b43e4df0>]"
      ]
     },
     "execution_count": 14,
     "metadata": {},
     "output_type": "execute_result"
    },
    {
     "data": {
      "image/png": "[encoded data removed]",
      "text/plain": [
       "<Figure size 432x288 with 1 Axes>"
      ]
     },
     "metadata": {
      "needs_background": "light"
     },
     "output_type": "display_data"
    }
   ],
   "source": [
    "plt.plot(range(10, test_env.day_count), test_env.total_cost())"
   ]
  },
  {
   "cell_type": "code",
   "execution_count": 15,
   "id": "81291bdc",
   "metadata": {},
   "outputs": [
    {
     "data": {
      "text/plain": [
       "[<matplotlib.lines.Line2D at 0x250b53e5f70>]"
      ]
     },
     "execution_count": 15,
     "metadata": {},
     "output_type": "execute_result"
    },
    {
     "data": {
      "image/png": "[encoded data removed]",
      "text/plain": [
       "<Figure size 432x288 with 1 Axes>"
      ]
     },
     "metadata": {
      "needs_background": "light"
     },
     "output_type": "display_data"
    }
   ],
   "source": [
    "plt.plot(range(10, test_env.day_count), test_env.money)"
   ]
  },
  {
   "cell_type": "code",
   "execution_count": 16,
   "id": "428c6bb7",
   "metadata": {},
   "outputs": [
    {
     "data": {
      "text/plain": [
       "[<matplotlib.lines.Line2D at 0x250b4f9e2b0>]"
      ]
     },
     "execution_count": 16,
     "metadata": {},
     "output_type": "execute_result"
    },
    {
     "data": {
      "image/png": "[encoded data removed]",
      "text/plain": [
       "<Figure size 432x288 with 1 Axes>"
      ]
     },
     "metadata": {
      "needs_background": "light"
     },
     "output_type": "display_data"
    }
   ],
   "source": [
    "plt.plot(range(10, test_env.day_count), test_env.stocks)"
   ]
  },
  {
   "cell_type": "code",
   "execution_count": 17,
   "id": "ffcbdf66",
   "metadata": {},
   "outputs": [
    {
     "data": {
      "text/plain": [
       "[<matplotlib.lines.Line2D at 0x250b4842970>]"
      ]
     },
     "execution_count": 17,
     "metadata": {},
     "output_type": "execute_result"
    },
    {
     "data": {
      "image/png": "[encoded data removed]",
      "text/plain": [
       "<Figure size 432x288 with 1 Axes>"
      ]
     },
     "metadata": {
      "needs_background": "light"
     },
     "output_type": "display_data"
    }
   ],
   "source": [
    "plt.plot(range(10, test_env.day_count), test_env.stock_cost())"
   ]
  },
  {
   "cell_type": "markdown",
   "id": "4d371ad1",
   "metadata": {},
   "source": [
    "## TD model"
   ]
  },
  {
   "cell_type": "code",
   "execution_count": 18,
   "id": "bbec1f50",
   "metadata": {},
   "outputs": [],
   "source": [
    "device = 'cuda' if torch.cuda.is_available() else 'cpu'\n",
    "\n",
    "actor = ActorModel(\n",
    "    actor_in_size=env.observation_tensor(15).shape[0],\n",
    "    actor_layer_size=128).to(device)\n",
    "critic = CriticModel(\n",
    "    critic_in_size=env.observation_tensor(15).shape[0], \n",
    "                    critic_layer_size=128).to(device)\n",
    "\n",
    "critic_temporal_difference = CriticTD(actor, critic, env).to(device)\n",
    "actor_improved_value = ActorImprovedValue(actor, critic, env).to(device)"
   ]
  },
  {
   "cell_type": "code",
   "execution_count": 19,
   "id": "e2695e5d",
   "metadata": {},
   "outputs": [],
   "source": [
    "optimizer_critic_kind = torch.optim.Adam\n",
    "optimizer_critic_parameters = {\n",
    "    'lr': 5e-6,\n",
    "    'weight_decay': 1e-5\n",
    "}\n",
    "\n",
    "optimizer_actor_kind = torch.optim.Adam\n",
    "optimizer_actor_parameters = {\n",
    "    \"lr\" : 1e-4,\n",
    "    \"weight_decay\" : 1e-5\n",
    "}\n",
    "\n",
    "critic_iterations = 2000\n",
    "critic_batch_size = 32\n",
    "\n",
    "actor_iterations = 2000\n",
    "actor_batch_size = 32\n",
    "\n",
    "epochs = 5"
   ]
  },
  {
   "cell_type": "code",
   "execution_count": 21,
   "id": "530074fa",
   "metadata": {
    "scrolled": true
   },
   "outputs": [
    {
     "name": "stderr",
     "output_type": "stream",
     "text": [
      "\r",
      "Actor-Critic learning:   0%|          | 0/5 [00:00<?, ?it/s]"
     ]
    },
    {
     "data": {
      "application/vnd.jupyter.widget-view+json": {
       "model_id": "5be14513071b4a139c384bd9a4833467",
       "version_major": 2,
       "version_minor": 0
      },
      "text/plain": [
       "Critic epoch:   0%|          | 0/2000 [00:00<?, ?it/s]"
      ]
     },
     "metadata": {},
     "output_type": "display_data"
    },
    {
     "name": "stdout",
     "output_type": "stream",
     "text": [
      "Critic mean loss: 21919558.0\n"
     ]
    },
    {
     "data": {
      "application/vnd.jupyter.widget-view+json": {
       "model_id": "b92c5b0d7d2148c7aea8cbb99d62b1f1",
       "version_major": 2,
       "version_minor": 0
      },
      "text/plain": [
       "Actor epoch:   0%|          | 0/2000 [00:00<?, ?it/s]"
      ]
     },
     "metadata": {},
     "output_type": "display_data"
    },
    {
     "name": "stdout",
     "output_type": "stream",
     "text": [
      "Actor mean value: 87.36234283447266\n"
     ]
    },
    {
     "data": {
      "image/png": "[encoded data removed]",
      "text/plain": [
       "<Figure size 432x288 with 1 Axes>"
      ]
     },
     "metadata": {
      "needs_background": "light"
     },
     "output_type": "display_data"
    },
    {
     "name": "stderr",
     "output_type": "stream",
     "text": [
      "\r",
      "Actor-Critic learning:  20%|██        | 1/5 [05:00<20:00, 300.15s/it]"
     ]
    },
    {
     "data": {
      "application/vnd.jupyter.widget-view+json": {
       "model_id": "c7d542f4bc4a4a078128a67fb0f92c1c",
       "version_major": 2,
       "version_minor": 0
      },
      "text/plain": [
       "Critic epoch:   0%|          | 0/2000 [00:00<?, ?it/s]"
      ]
     },
     "metadata": {},
     "output_type": "display_data"
    },
    {
     "name": "stdout",
     "output_type": "stream",
     "text": [
      "Critic mean loss: 23478628.0\n"
     ]
    },
    {
     "data": {
      "application/vnd.jupyter.widget-view+json": {
       "model_id": "52be404e6c6d4d4099cd4483fb809848",
       "version_major": 2,
       "version_minor": 0
      },
      "text/plain": [
       "Actor epoch:   0%|          | 0/2000 [00:00<?, ?it/s]"
      ]
     },
     "metadata": {},
     "output_type": "display_data"
    },
    {
     "name": "stdout",
     "output_type": "stream",
     "text": [
      "Actor mean value: 22.9627742767334\n"
     ]
    },
    {
     "data": {
      "image/png": "[encoded data removed]",
      "text/plain": [
       "<Figure size 432x288 with 1 Axes>"
      ]
     },
     "metadata": {
      "needs_background": "light"
     },
     "output_type": "display_data"
    },
    {
     "name": "stderr",
     "output_type": "stream",
     "text": [
      "\r",
      "Actor-Critic learning:  40%|████      | 2/5 [10:01<15:02, 300.72s/it]"
     ]
    },
    {
     "data": {
      "application/vnd.jupyter.widget-view+json": {
       "model_id": "598accd592b4440fbd9ee996c45f0ee8",
       "version_major": 2,
       "version_minor": 0
      },
      "text/plain": [
       "Critic epoch:   0%|          | 0/2000 [00:00<?, ?it/s]"
      ]
     },
     "metadata": {},
     "output_type": "display_data"
    },
    {
     "name": "stdout",
     "output_type": "stream",
     "text": [
      "Critic mean loss: 23449852.0\n"
     ]
    },
    {
     "data": {
      "application/vnd.jupyter.widget-view+json": {
       "model_id": "334ca6e45cbd42aca6d02513eb85ef84",
       "version_major": 2,
       "version_minor": 0
      },
      "text/plain": [
       "Actor epoch:   0%|          | 0/2000 [00:00<?, ?it/s]"
      ]
     },
     "metadata": {},
     "output_type": "display_data"
    },
    {
     "name": "stdout",
     "output_type": "stream",
     "text": [
      "Actor mean value: 74.49781036376953\n"
     ]
    },
    {
     "data": {
      "image/png": "[encoded data removed]",
      "text/plain": [
       "<Figure size 432x288 with 1 Axes>"
      ]
     },
     "metadata": {
      "needs_background": "light"
     },
     "output_type": "display_data"
    },
    {
     "name": "stderr",
     "output_type": "stream",
     "text": [
      "\r",
      "Actor-Critic learning:  60%|██████    | 3/5 [15:08<10:07, 303.58s/it]"
     ]
    },
    {
     "data": {
      "application/vnd.jupyter.widget-view+json": {
       "model_id": "b77d07714ee545968e1d1e6df4120d9f",
       "version_major": 2,
       "version_minor": 0
      },
      "text/plain": [
       "Critic epoch:   0%|          | 0/2000 [00:00<?, ?it/s]"
      ]
     },
     "metadata": {},
     "output_type": "display_data"
    },
    {
     "name": "stdout",
     "output_type": "stream",
     "text": [
      "Critic mean loss: 24156996.0\n"
     ]
    },
    {
     "data": {
      "application/vnd.jupyter.widget-view+json": {
       "model_id": "07192e222b3442379108bbadd389b176",
       "version_major": 2,
       "version_minor": 0
      },
      "text/plain": [
       "Actor epoch:   0%|          | 0/2000 [00:00<?, ?it/s]"
      ]
     },
     "metadata": {},
     "output_type": "display_data"
    },
    {
     "name": "stdout",
     "output_type": "stream",
     "text": [
      "Actor mean value: 81.67440795898438\n"
     ]
    },
    {
     "data": {
      "image/png": "[encoded data removed]",
      "text/plain": [
       "<Figure size 432x288 with 1 Axes>"
      ]
     },
     "metadata": {
      "needs_background": "light"
     },
     "output_type": "display_data"
    },
    {
     "name": "stderr",
     "output_type": "stream",
     "text": [
      "\r",
      "Actor-Critic learning:  80%|████████  | 4/5 [20:11<05:03, 303.32s/it]"
     ]
    },
    {
     "data": {
      "application/vnd.jupyter.widget-view+json": {
       "model_id": "3d6b687d556a40b3bf677322079193ec",
       "version_major": 2,
       "version_minor": 0
      },
      "text/plain": [
       "Critic epoch:   0%|          | 0/2000 [00:00<?, ?it/s]"
      ]
     },
     "metadata": {},
     "output_type": "display_data"
    },
    {
     "name": "stdout",
     "output_type": "stream",
     "text": [
      "Critic mean loss: 24281748.0\n"
     ]
    },
    {
     "data": {
      "application/vnd.jupyter.widget-view+json": {
       "model_id": "6cf7184e3186411eb6c0b91931848b79",
       "version_major": 2,
       "version_minor": 0
      },
      "text/plain": [
       "Actor epoch:   0%|          | 0/2000 [00:00<?, ?it/s]"
      ]
     },
     "metadata": {},
     "output_type": "display_data"
    },
    {
     "name": "stdout",
     "output_type": "stream",
     "text": [
      "Actor mean value: 52.715450286865234\n"
     ]
    },
    {
     "data": {
      "image/png": "[encoded data removed]",
      "text/plain": [
       "<Figure size 432x288 with 1 Axes>"
      ]
     },
     "metadata": {
      "needs_background": "light"
     },
     "output_type": "display_data"
    },
    {
     "name": "stderr",
     "output_type": "stream",
     "text": [
      "                                                                     \r"
     ]
    }
   ],
   "source": [
    "optimizer_actor = optimizer_actor_kind(actor_improved_value.parameters(), **optimizer_actor_parameters)\n",
    "\n",
    "for _ in tqdm(range(epochs), \"Actor-Critic learning\", leave=False):\n",
    "    optimizer_critic = optimizer_critic_kind(critic_temporal_difference.parameters(), **optimizer_critic_parameters)\n",
    "    losses = np.array(critic_epoch(optimizer_critic,\n",
    "                                   critic_temporal_difference,\n",
    "                                   critic_iterations,\n",
    "                                   env,\n",
    "                                   actor_batch_size))\n",
    "    actor_epoch(optimizer_actor,\n",
    "                actor_improved_value,\n",
    "                actor_iterations,\n",
    "                env,\n",
    "                actor_batch_size)\n",
    "    plt.plot(losses)\n",
    "    plt.show()"
   ]
  },
  {
   "cell_type": "code",
   "execution_count": null,
   "id": "4e01d8e0",
   "metadata": {},
   "outputs": [],
   "source": [
    "test_env = Environment(data=df, stock_name='SBER', initial_money=1000)"
   ]
  },
  {
   "cell_type": "raw",
   "id": "e8438d76",
   "metadata": {},
   "source": []
  },
  {
   "cell_type": "code",
   "execution_count": null,
   "id": "e3651c7b",
   "metadata": {},
   "outputs": [],
   "source": [
    "test_env.reset()\n",
    "for i in range(10, test_env.day_count-1):\n",
    "    obs = test_env.observation_tensor(i)\n",
    "    action = torch.argmax(actor(obs))\n",
    "    -1\n",
    "    \n",
    "    reward = test_env.reward(i, action)\n",
    "    state = test_env.observation_tensor(i)\n",
    "    \n",
    "    test_env.transition(i, action)"
   ]
  },
  {
   "cell_type": "code",
   "execution_count": null,
   "id": "76248611",
   "metadata": {},
   "outputs": [],
   "source": [
    "plt.plot(range(10, test_env.day_count), test_env.total_cost())"
   ]
  },
  {
   "cell_type": "code",
   "execution_count": null,
   "id": "b631909d",
   "metadata": {},
   "outputs": [],
   "source": [
    "plt.plot(range(10, test_env.day_count), test_env.money)"
   ]
  },
  {
   "cell_type": "code",
   "execution_count": null,
   "id": "986eae38",
   "metadata": {},
   "outputs": [],
   "source": [
    "plt.plot(range(10, test_env.day_count), test_env.stocks)"
   ]
  },
  {
   "cell_type": "code",
   "execution_count": null,
   "id": "d6e359d7",
   "metadata": {},
   "outputs": [],
   "source": []
  }
 ],
 "metadata": {
  "kernelspec": {
   "display_name": "Python 3 (ipykernel)",
   "language": "python",
   "name": "python3"
  },
  "language_info": {
   "codemirror_mode": {
    "name": "ipython",
    "version": 3
   },
   "file_extension": ".py",
   "mimetype": "text/x-python",
   "name": "python",
   "nbconvert_exporter": "python",
   "pygments_lexer": "ipython3",
   "version": "3.9.7"
  }
 },
 "nbformat": 4,
 "nbformat_minor": 5
}
