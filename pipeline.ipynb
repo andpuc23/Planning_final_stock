{
 "cells": [
  {
   "cell_type": "markdown",
   "id": "c3e605dc",
   "metadata": {},
   "source": [
    "## Imports"
   ]
  },
  {
   "cell_type": "code",
   "execution_count": 66,
   "id": "d24facb1",
   "metadata": {},
   "outputs": [
    {
     "name": "stdout",
     "output_type": "stream",
     "text": [
      "The autoreload extension is already loaded. To reload it, use:\n",
      "  %reload_ext autoreload\n"
     ]
    }
   ],
   "source": [
    "%load_ext autoreload\n",
    "%autoreload 2\n",
    "\n",
    "from utils.prepare_data import prepare_short_data, prepare_full_data\n",
    "from environment import Environment\n",
    "from models.base_model import Base_model\n",
    "from models.DQN import DQN\n",
    "\n",
    "from datetime import timedelta\n",
    "from matplotlib import pyplot as plt\n",
    "\n",
    "import warnings\n",
    "warnings.filterwarnings('ignore')\n",
    "\n",
    "from models.TD import ActorModel, CriticModel, ActorImprovedValue, CriticTD, critic_epoch, actor_epoch\n",
    "import torch\n",
    "from tqdm import tqdm\n",
    "import numpy as np"
   ]
  },
  {
   "cell_type": "markdown",
   "id": "bb142982",
   "metadata": {},
   "source": [
    "## Constants"
   ]
  },
  {
   "cell_type": "code",
   "execution_count": 2,
   "id": "907ddbfa",
   "metadata": {
    "scrolled": true
   },
   "outputs": [],
   "source": [
    "df = prepare_full_data('data/Data_RU.xlsx')"
   ]
  },
  {
   "cell_type": "code",
   "execution_count": 361,
   "id": "776eb04f",
   "metadata": {},
   "outputs": [
    {
     "data": {
      "text/html": [
       "<div>\n",
       "<style scoped>\n",
       "    .dataframe tbody tr th:only-of-type {\n",
       "        vertical-align: middle;\n",
       "    }\n",
       "\n",
       "    .dataframe tbody tr th {\n",
       "        vertical-align: top;\n",
       "    }\n",
       "\n",
       "    .dataframe thead th {\n",
       "        text-align: right;\n",
       "    }\n",
       "</style>\n",
       "<table border=\"1\" class=\"dataframe\">\n",
       "  <thead>\n",
       "    <tr style=\"text-align: right;\">\n",
       "      <th></th>\n",
       "      <th>Date</th>\n",
       "      <th>Weekday</th>\n",
       "      <th>AFKS_close</th>\n",
       "      <th>AFKS_high</th>\n",
       "      <th>AFKS_low</th>\n",
       "      <th>AFKS_open</th>\n",
       "      <th>AFKS_volume</th>\n",
       "      <th>AFKS_D1</th>\n",
       "      <th>AFKS_D2</th>\n",
       "      <th>AFKS_D3</th>\n",
       "      <th>AFKS_D4</th>\n",
       "    </tr>\n",
       "  </thead>\n",
       "  <tbody>\n",
       "    <tr>\n",
       "      <th>1002</th>\n",
       "      <td>2021-12-17</td>\n",
       "      <td>4</td>\n",
       "      <td>23.255</td>\n",
       "      <td>23.751</td>\n",
       "      <td>22.781</td>\n",
       "      <td>23.501</td>\n",
       "      <td>44723500.0</td>\n",
       "      <td>0.044535</td>\n",
       "      <td>-0.010468</td>\n",
       "      <td>0.010638</td>\n",
       "      <td>0.031605</td>\n",
       "    </tr>\n",
       "    <tr>\n",
       "      <th>1003</th>\n",
       "      <td>2021-12-20</td>\n",
       "      <td>0</td>\n",
       "      <td>22.499</td>\n",
       "      <td>23.198</td>\n",
       "      <td>22.400</td>\n",
       "      <td>23.198</td>\n",
       "      <td>37123100.0</td>\n",
       "      <td>0.024601</td>\n",
       "      <td>-0.030132</td>\n",
       "      <td>0.000000</td>\n",
       "      <td>0.035625</td>\n",
       "    </tr>\n",
       "    <tr>\n",
       "      <th>1004</th>\n",
       "      <td>2021-12-21</td>\n",
       "      <td>1</td>\n",
       "      <td>22.641</td>\n",
       "      <td>23.077</td>\n",
       "      <td>22.382</td>\n",
       "      <td>22.697</td>\n",
       "      <td>31016200.0</td>\n",
       "      <td>0.007860</td>\n",
       "      <td>-0.002467</td>\n",
       "      <td>0.016742</td>\n",
       "      <td>0.014074</td>\n",
       "    </tr>\n",
       "    <tr>\n",
       "      <th>1005</th>\n",
       "      <td>2021-12-22</td>\n",
       "      <td>2</td>\n",
       "      <td>22.520</td>\n",
       "      <td>22.946</td>\n",
       "      <td>22.308</td>\n",
       "      <td>22.700</td>\n",
       "      <td>37632400.0</td>\n",
       "      <td>0.016115</td>\n",
       "      <td>-0.007930</td>\n",
       "      <td>0.010837</td>\n",
       "      <td>0.017572</td>\n",
       "    </tr>\n",
       "    <tr>\n",
       "      <th>1006</th>\n",
       "      <td>2021-12-23</td>\n",
       "      <td>3</td>\n",
       "      <td>22.340</td>\n",
       "      <td>22.838</td>\n",
       "      <td>22.072</td>\n",
       "      <td>22.610</td>\n",
       "      <td>34848700.0</td>\n",
       "      <td>0.012766</td>\n",
       "      <td>-0.011942</td>\n",
       "      <td>0.010084</td>\n",
       "      <td>0.024375</td>\n",
       "    </tr>\n",
       "  </tbody>\n",
       "</table>\n",
       "</div>"
      ],
      "text/plain": [
       "           Date  Weekday  AFKS_close  AFKS_high  AFKS_low  AFKS_open  \\\n",
       "1002 2021-12-17        4      23.255     23.751    22.781     23.501   \n",
       "1003 2021-12-20        0      22.499     23.198    22.400     23.198   \n",
       "1004 2021-12-21        1      22.641     23.077    22.382     22.697   \n",
       "1005 2021-12-22        2      22.520     22.946    22.308     22.700   \n",
       "1006 2021-12-23        3      22.340     22.838    22.072     22.610   \n",
       "\n",
       "      AFKS_volume   AFKS_D1   AFKS_D2   AFKS_D3   AFKS_D4  \n",
       "1002   44723500.0  0.044535 -0.010468  0.010638  0.031605  \n",
       "1003   37123100.0  0.024601 -0.030132  0.000000  0.035625  \n",
       "1004   31016200.0  0.007860 -0.002467  0.016742  0.014074  \n",
       "1005   37632400.0  0.016115 -0.007930  0.010837  0.017572  \n",
       "1006   34848700.0  0.012766 -0.011942  0.010084  0.024375  "
      ]
     },
     "execution_count": 361,
     "metadata": {},
     "output_type": "execute_result"
    }
   ],
   "source": [
    "env.data.head()"
   ]
  },
  {
   "cell_type": "code",
   "execution_count": 363,
   "id": "43820e31",
   "metadata": {},
   "outputs": [],
   "source": [
    "start_date = env.first_date()"
   ]
  },
  {
   "cell_type": "markdown",
   "id": "26de886f",
   "metadata": {},
   "source": [
    "## DQN"
   ]
  },
  {
   "cell_type": "code",
   "execution_count": 3,
   "id": "376f7f4c",
   "metadata": {},
   "outputs": [
    {
     "ename": "NameError",
     "evalue": "name 'env' is not defined",
     "output_type": "error",
     "traceback": [
      "\u001b[1;31m---------------------------------------------------------------------------\u001b[0m",
      "\u001b[1;31mNameError\u001b[0m                                 Traceback (most recent call last)",
      "\u001b[1;32mC:\\Users\\SNIPER~1\\AppData\\Local\\Temp/ipykernel_21024/2010489673.py\u001b[0m in \u001b[0;36m<module>\u001b[1;34m\u001b[0m\n\u001b[0;32m      1\u001b[0m \u001b[1;31m# 15 is random nummber in [10, days_count] here\u001b[0m\u001b[1;33m\u001b[0m\u001b[1;33m\u001b[0m\u001b[0m\n\u001b[1;32m----> 2\u001b[1;33m \u001b[0mdqn\u001b[0m \u001b[1;33m=\u001b[0m \u001b[0mDQN\u001b[0m\u001b[1;33m(\u001b[0m\u001b[0menv\u001b[0m\u001b[1;33m.\u001b[0m\u001b[0mobservation_tensor\u001b[0m\u001b[1;33m(\u001b[0m\u001b[1;36m15\u001b[0m\u001b[1;33m)\u001b[0m\u001b[1;33m.\u001b[0m\u001b[0mshape\u001b[0m\u001b[1;33m[\u001b[0m\u001b[1;36m0\u001b[0m\u001b[1;33m]\u001b[0m\u001b[1;33m,\u001b[0m \u001b[1;36m3\u001b[0m\u001b[1;33m,\u001b[0m \u001b[0menv\u001b[0m\u001b[1;33m,\u001b[0m \u001b[0mbatch_size\u001b[0m\u001b[1;33m=\u001b[0m\u001b[1;36m32\u001b[0m\u001b[1;33m)\u001b[0m\u001b[1;33m\u001b[0m\u001b[1;33m\u001b[0m\u001b[0m\n\u001b[0m\u001b[0;32m      3\u001b[0m \u001b[0mdqn\u001b[0m\u001b[1;33m.\u001b[0m\u001b[0mfit\u001b[0m\u001b[1;33m(\u001b[0m\u001b[1;33m)\u001b[0m\u001b[1;33m\u001b[0m\u001b[1;33m\u001b[0m\u001b[0m\n",
      "\u001b[1;31mNameError\u001b[0m: name 'env' is not defined"
     ]
    }
   ],
   "source": [
    "# 15 is random nummber in [10, days_count] here\n",
    "dqn = DQN(env.observation_tensor(15).shape[0], 3, env, batch_size=32)\n",
    "dqn.fit()"
   ]
  },
  {
   "cell_type": "code",
   "execution_count": null,
   "id": "8bc236b4",
   "metadata": {},
   "outputs": [],
   "source": [
    "env.reset()\n",
    "for i in range(10, env.day_count-1):\n",
    "    obs = env.observation_tensor(i)\n",
    "    action = dqn.predict(obs)\n",
    "    \n",
    "    reward = env.reward(i, action)\n",
    "    state = env.observation_tensor(i)\n",
    "#     model.fit(state, action, reward)\n",
    "    \n",
    "    env.transition(i, action)"
   ]
  },
  {
   "cell_type": "code",
   "execution_count": 4,
   "id": "48c0ae87",
   "metadata": {},
   "outputs": [
    {
     "ename": "NameError",
     "evalue": "name 'env' is not defined",
     "output_type": "error",
     "traceback": [
      "\u001b[1;31m---------------------------------------------------------------------------\u001b[0m",
      "\u001b[1;31mNameError\u001b[0m                                 Traceback (most recent call last)",
      "\u001b[1;32mC:\\Users\\SNIPER~1\\AppData\\Local\\Temp/ipykernel_21024/4281208633.py\u001b[0m in \u001b[0;36m<module>\u001b[1;34m\u001b[0m\n\u001b[1;32m----> 1\u001b[1;33m \u001b[0mplt\u001b[0m\u001b[1;33m.\u001b[0m\u001b[0mplot\u001b[0m\u001b[1;33m(\u001b[0m\u001b[0mrange\u001b[0m\u001b[1;33m(\u001b[0m\u001b[1;36m10\u001b[0m\u001b[1;33m,\u001b[0m \u001b[0menv\u001b[0m\u001b[1;33m.\u001b[0m\u001b[0mday_count\u001b[0m\u001b[1;33m)\u001b[0m\u001b[1;33m,\u001b[0m \u001b[0menv\u001b[0m\u001b[1;33m.\u001b[0m\u001b[0mmoney\u001b[0m\u001b[1;33m)\u001b[0m\u001b[1;33m\u001b[0m\u001b[1;33m\u001b[0m\u001b[0m\n\u001b[0m",
      "\u001b[1;31mNameError\u001b[0m: name 'env' is not defined"
     ]
    }
   ],
   "source": [
    "plt.plot(range(10, env.day_count), env.money)"
   ]
  },
  {
   "cell_type": "code",
   "execution_count": 391,
   "id": "5aac5da0",
   "metadata": {},
   "outputs": [
    {
     "data": {
      "text/plain": [
       "[<matplotlib.lines.Line2D at 0x198de7a40d0>]"
      ]
     },
     "execution_count": 391,
     "metadata": {},
     "output_type": "execute_result"
    },
    {
     "data": {
      "image/png": "[encoded data removed]",
      "text/plain": [
       "<Figure size 432x288 with 1 Axes>"
      ]
     },
     "metadata": {
      "needs_background": "light"
     },
     "output_type": "display_data"
    }
   ],
   "source": [
    "plt.plot(range(10, env.day_count), env.stocks)"
   ]
  },
  {
   "cell_type": "code",
   "execution_count": 392,
   "id": "6d64d6d2",
   "metadata": {},
   "outputs": [
    {
     "data": {
      "text/plain": [
       "[<matplotlib.lines.Line2D at 0x198dbe6eaf0>]"
      ]
     },
     "execution_count": 392,
     "metadata": {},
     "output_type": "execute_result"
    },
    {
     "data": {
      "image/png": "[encoded data removed]",
      "text/plain": [
       "<Figure size 432x288 with 1 Axes>"
      ]
     },
     "metadata": {
      "needs_background": "light"
     },
     "output_type": "display_data"
    }
   ],
   "source": [
    "plt.plot(range(10, env.day_count), env.total_cost())"
   ]
  },
  {
   "cell_type": "markdown",
   "id": "a150f608",
   "metadata": {},
   "source": [
    "### Add more stocks to train on"
   ]
  },
  {
   "cell_type": "code",
   "execution_count": 39,
   "id": "efc5ec90",
   "metadata": {},
   "outputs": [
    {
     "name": "stderr",
     "output_type": "stream",
     "text": [
      "100%|██████████| 10000/10000 [00:55<00:00, 180.27it/s]\n",
      "100%|██████████| 10000/10000 [00:54<00:00, 182.04it/s]\n",
      "100%|██████████| 10000/10000 [00:54<00:00, 182.56it/s]\n"
     ]
    }
   ],
   "source": [
    "env = Environment(data=df, stock_name='AFKS', initial_money=1000)\n",
    "dqn = DQN(env.observation_tensor(15).shape[0],\n",
    "          3,\n",
    "          env,\n",
    "          batch_size=128)\n",
    "for s in ['AFKS', \n",
    "          'SBER',\n",
    "          'YNDX',\n",
    "#           'GAZP'\n",
    "         ]:\n",
    "    state = dqn.state_dict()\n",
    "    env = Environment(data=df, stock_name=s, initial_money=1000)\n",
    "    dqn.fit(state)"
   ]
  },
  {
   "cell_type": "code",
   "execution_count": null,
   "id": "b286e27e",
   "metadata": {},
   "outputs": [],
   "source": []
  },
  {
   "cell_type": "markdown",
   "id": "9012e917",
   "metadata": {},
   "source": [
    "## Testing"
   ]
  },
  {
   "cell_type": "code",
   "execution_count": 40,
   "id": "60e854a0",
   "metadata": {},
   "outputs": [],
   "source": [
    "# test_env = Environment(data=df, stock_name='MTSS', initial_money=1000)\n",
    "test_env = Environment(data=df, stock_name='SBERP', initial_money=1000)"
   ]
  },
  {
   "cell_type": "code",
   "execution_count": 45,
   "id": "97d38d08",
   "metadata": {},
   "outputs": [],
   "source": [
    "test_env.reset()\n",
    "for i in range(10, test_env.day_count-1):\n",
    "    obs = test_env.observation_tensor(i)\n",
    "    action = dqn.predict(obs)\n",
    "    \n",
    "    reward = test_env.reward(i, action)\n",
    "    state = test_env.observation_tensor(i)\n",
    "#     model.fit(state, action, reward)\n",
    "    \n",
    "    test_env.transition(i, action)"
   ]
  },
  {
   "cell_type": "code",
   "execution_count": 46,
   "id": "02d18307",
   "metadata": {},
   "outputs": [
    {
     "data": {
      "text/plain": [
       "[<matplotlib.lines.Line2D at 0x27a140eaa00>]"
      ]
     },
     "execution_count": 46,
     "metadata": {},
     "output_type": "execute_result"
    },
    {
     "data": {
      "image/png": "[encoded data removed]",
      "text/plain": [
       "<Figure size 432x288 with 1 Axes>"
      ]
     },
     "metadata": {
      "needs_background": "light"
     },
     "output_type": "display_data"
    }
   ],
   "source": [
    "plt.plot(range(10, test_env.day_count), test_env.total_cost())"
   ]
  },
  {
   "cell_type": "code",
   "execution_count": 47,
   "id": "6c2a632b",
   "metadata": {},
   "outputs": [
    {
     "data": {
      "text/plain": [
       "[<matplotlib.lines.Line2D at 0x27a144f3430>]"
      ]
     },
     "execution_count": 47,
     "metadata": {},
     "output_type": "execute_result"
    },
    {
     "data": {
      "image/png": "[encoded data removed]",
      "text/plain": [
       "<Figure size 432x288 with 1 Axes>"
      ]
     },
     "metadata": {
      "needs_background": "light"
     },
     "output_type": "display_data"
    }
   ],
   "source": [
    "plt.plot(range(10, test_env.day_count), test_env.money)"
   ]
  },
  {
   "cell_type": "code",
   "execution_count": 48,
   "id": "5ed49e36",
   "metadata": {},
   "outputs": [
    {
     "data": {
      "text/plain": [
       "[<matplotlib.lines.Line2D at 0x27a1432d1c0>]"
      ]
     },
     "execution_count": 48,
     "metadata": {},
     "output_type": "execute_result"
    },
    {
     "data": {
      "image/png": "[encoded data removed]",
      "text/plain": [
       "<Figure size 432x288 with 1 Axes>"
      ]
     },
     "metadata": {
      "needs_background": "light"
     },
     "output_type": "display_data"
    }
   ],
   "source": [
    "plt.plot(range(10, test_env.day_count), test_env.stocks)"
   ]
  },
  {
   "cell_type": "markdown",
   "id": "cd52705d",
   "metadata": {},
   "source": [
    "## TD model"
   ]
  },
  {
   "cell_type": "code",
   "execution_count": 59,
   "id": "84250f98",
   "metadata": {},
   "outputs": [],
   "source": [
    "device = 'cuda' if torch.cuda.is_available() else 'cpu'\n",
    "\n",
    "actor = ActorModel(actor_in_size=102).to(device)\n",
    "critic = CriticModel(critic_in_size=102).to(device)\n",
    "\n",
    "critic_temporal_difference = CriticTD(actor, critic, env).to(device)\n",
    "actor_improved_value = ActorImprovedValue(actor, critic, env).to(device)"
   ]
  },
  {
   "cell_type": "code",
   "execution_count": 60,
   "id": "3d62a65d",
   "metadata": {},
   "outputs": [],
   "source": [
    "optimizer_critic_kind = torch.optim.Adam\n",
    "optimizer_critic_parameters = {\n",
    "    'lr': 5e-6,\n",
    "    'weight_decay': 1e-5\n",
    "}\n",
    "\n",
    "optimizer_actor_kind = torch.optim.Adam\n",
    "optimizer_actor_parameters = {\n",
    "    \"lr\" : 1e-4,\n",
    "    \"weight_decay\" : 1e-5\n",
    "}\n",
    "\n",
    "critic_iterations = 2000\n",
    "critic_batch_size = 4000\n",
    "\n",
    "actor_iterations = 2000\n",
    "actor_batch_size = 2000\n",
    "\n",
    "epochs = 5"
   ]
  },
  {
   "cell_type": "code",
   "execution_count": 67,
   "id": "d7c7a467",
   "metadata": {},
   "outputs": [
    {
     "name": "stderr",
     "output_type": "stream",
     "text": [
      "\r",
      "Actor-Critic learning:   0%|          | 0/5 [00:00<?, ?it/s]"
     ]
    },
    {
     "data": {
      "application/vnd.jupyter.widget-view+json": {
       "model_id": "12f05e2dafa048a0a1d1b25033be923b",
       "version_major": 2,
       "version_minor": 0
      },
      "text/plain": [
       "Critic epoch:   0%|          | 0/2000 [00:00<?, ?it/s]"
      ]
     },
     "metadata": {},
     "output_type": "display_data"
    },
    {
     "name": "stderr",
     "output_type": "stream",
     "text": [
      "                                                            \r"
     ]
    },
    {
     "ename": "AttributeError",
     "evalue": "'Tensor' object has no attribute 'drop'",
     "output_type": "error",
     "traceback": [
      "\u001b[1;31m---------------------------------------------------------------------------\u001b[0m",
      "\u001b[1;31mAttributeError\u001b[0m                            Traceback (most recent call last)",
      "\u001b[1;32mC:\\Users\\SNIPER~1\\AppData\\Local\\Temp/ipykernel_21024/1047388646.py\u001b[0m in \u001b[0;36m<module>\u001b[1;34m\u001b[0m\n\u001b[0;32m      3\u001b[0m \u001b[1;32mfor\u001b[0m \u001b[0m_\u001b[0m \u001b[1;32min\u001b[0m \u001b[0mtqdm\u001b[0m\u001b[1;33m(\u001b[0m\u001b[0mrange\u001b[0m\u001b[1;33m(\u001b[0m\u001b[0mepochs\u001b[0m\u001b[1;33m)\u001b[0m\u001b[1;33m,\u001b[0m \u001b[1;34m\"Actor-Critic learning\"\u001b[0m\u001b[1;33m,\u001b[0m \u001b[0mleave\u001b[0m\u001b[1;33m=\u001b[0m\u001b[1;32mFalse\u001b[0m\u001b[1;33m)\u001b[0m\u001b[1;33m:\u001b[0m\u001b[1;33m\u001b[0m\u001b[1;33m\u001b[0m\u001b[0m\n\u001b[0;32m      4\u001b[0m     \u001b[0moptimizer_critic\u001b[0m \u001b[1;33m=\u001b[0m \u001b[0moptimizer_critic_kind\u001b[0m\u001b[1;33m(\u001b[0m\u001b[0mcritic_temporal_difference\u001b[0m\u001b[1;33m.\u001b[0m\u001b[0mparameters\u001b[0m\u001b[1;33m(\u001b[0m\u001b[1;33m)\u001b[0m\u001b[1;33m,\u001b[0m \u001b[1;33m**\u001b[0m\u001b[0moptimizer_critic_parameters\u001b[0m\u001b[1;33m)\u001b[0m\u001b[1;33m\u001b[0m\u001b[1;33m\u001b[0m\u001b[0m\n\u001b[1;32m----> 5\u001b[1;33m     losses = np.array(critic_epoch(optimizer_critic,\n\u001b[0m\u001b[0;32m      6\u001b[0m                                    \u001b[0mcritic_temporal_difference\u001b[0m\u001b[1;33m,\u001b[0m\u001b[1;33m\u001b[0m\u001b[1;33m\u001b[0m\u001b[0m\n\u001b[0;32m      7\u001b[0m                                    \u001b[0mcritic_iterations\u001b[0m\u001b[1;33m,\u001b[0m\u001b[1;33m\u001b[0m\u001b[1;33m\u001b[0m\u001b[0m\n",
      "\u001b[1;32m~\\Desktop\\PAAI\\final\\models\\TD.py\u001b[0m in \u001b[0;36mcritic_epoch\u001b[1;34m(optimizer, model, iterations, env, batch_size)\u001b[0m\n\u001b[0;32m    189\u001b[0m     \u001b[0mlosses\u001b[0m \u001b[1;33m=\u001b[0m \u001b[1;33m[\u001b[0m\u001b[1;33m]\u001b[0m\u001b[1;33m\u001b[0m\u001b[1;33m\u001b[0m\u001b[0m\n\u001b[0;32m    190\u001b[0m     \u001b[1;32mfor\u001b[0m \u001b[0miteration\u001b[0m \u001b[1;32min\u001b[0m \u001b[0mtqdm\u001b[0m\u001b[1;33m(\u001b[0m\u001b[0mrange\u001b[0m\u001b[1;33m(\u001b[0m\u001b[0miterations\u001b[0m\u001b[1;33m)\u001b[0m\u001b[1;33m,\u001b[0m \u001b[1;34m\"Critic epoch\"\u001b[0m\u001b[1;33m)\u001b[0m\u001b[1;33m:\u001b[0m\u001b[1;33m\u001b[0m\u001b[1;33m\u001b[0m\u001b[0m\n\u001b[1;32m--> 191\u001b[1;33m         \u001b[0mX\u001b[0m\u001b[1;33m,\u001b[0m \u001b[0mindexes\u001b[0m \u001b[1;33m=\u001b[0m \u001b[0mget_random_state\u001b[0m\u001b[1;33m(\u001b[0m\u001b[0mbatch_size\u001b[0m\u001b[1;33m,\u001b[0m \u001b[0menv\u001b[0m\u001b[1;33m,\u001b[0m \u001b[0mindex_max\u001b[0m\u001b[1;33m=\u001b[0m\u001b[0menv\u001b[0m\u001b[1;33m.\u001b[0m\u001b[0mdata\u001b[0m\u001b[1;33m.\u001b[0m\u001b[0mshape\u001b[0m\u001b[1;33m[\u001b[0m\u001b[1;36m0\u001b[0m\u001b[1;33m]\u001b[0m\u001b[1;33m-\u001b[0m\u001b[1;36m1\u001b[0m\u001b[1;33m)\u001b[0m\u001b[1;33m\u001b[0m\u001b[1;33m\u001b[0m\u001b[0m\n\u001b[0m\u001b[0;32m    192\u001b[0m         \u001b[0mX\u001b[0m\u001b[1;33m,\u001b[0m \u001b[0mindexes\u001b[0m \u001b[1;33m=\u001b[0m \u001b[0mX\u001b[0m\u001b[1;33m.\u001b[0m\u001b[0mto\u001b[0m\u001b[1;33m(\u001b[0m\u001b[0mdevice\u001b[0m\u001b[1;33m)\u001b[0m\u001b[1;33m,\u001b[0m \u001b[0mindexes\u001b[0m\u001b[1;33m.\u001b[0m\u001b[0mto\u001b[0m\u001b[1;33m(\u001b[0m\u001b[0mdevice\u001b[0m\u001b[1;33m)\u001b[0m\u001b[1;33m\u001b[0m\u001b[1;33m\u001b[0m\u001b[0m\n\u001b[0;32m    193\u001b[0m \u001b[1;33m\u001b[0m\u001b[0m\n",
      "\u001b[1;32m~\\Desktop\\PAAI\\final\\models\\TD.py\u001b[0m in \u001b[0;36mget_random_state\u001b[1;34m(batch_size, env, index_min, index_max)\u001b[0m\n\u001b[0;32m    173\u001b[0m     \u001b[1;32mfor\u001b[0m \u001b[0mindex\u001b[0m \u001b[1;32min\u001b[0m \u001b[0mrand_indexes\u001b[0m\u001b[1;33m:\u001b[0m\u001b[1;33m\u001b[0m\u001b[1;33m\u001b[0m\u001b[0m\n\u001b[0;32m    174\u001b[0m         \u001b[0mstate_dict\u001b[0m \u001b[1;33m=\u001b[0m \u001b[0menv\u001b[0m\u001b[1;33m.\u001b[0m\u001b[0mobservation\u001b[0m\u001b[1;33m(\u001b[0m\u001b[0mindex\u001b[0m\u001b[1;33m)\u001b[0m\u001b[1;33m\u001b[0m\u001b[1;33m\u001b[0m\u001b[0m\n\u001b[1;32m--> 175\u001b[1;33m         state_array = np.concatenate([state_dict['prices'].drop(['Date'], axis=1).values.flatten(), \n\u001b[0m\u001b[0;32m    176\u001b[0m                                       \u001b[0mnp\u001b[0m\u001b[1;33m.\u001b[0m\u001b[0marray\u001b[0m\u001b[1;33m(\u001b[0m\u001b[0mstate_dict\u001b[0m\u001b[1;33m[\u001b[0m\u001b[1;34m'money'\u001b[0m\u001b[1;33m]\u001b[0m\u001b[1;33m)\u001b[0m\u001b[1;33m,\u001b[0m\u001b[1;33m\u001b[0m\u001b[1;33m\u001b[0m\u001b[0m\n\u001b[0;32m    177\u001b[0m                                       \u001b[0mnp\u001b[0m\u001b[1;33m.\u001b[0m\u001b[0marray\u001b[0m\u001b[1;33m(\u001b[0m\u001b[0mstate_dict\u001b[0m\u001b[1;33m[\u001b[0m\u001b[1;34m'stocks_num'\u001b[0m\u001b[1;33m]\u001b[0m\u001b[1;33m)\u001b[0m\u001b[1;33m\u001b[0m\u001b[1;33m\u001b[0m\u001b[0m\n",
      "\u001b[1;31mAttributeError\u001b[0m: 'Tensor' object has no attribute 'drop'"
     ]
    }
   ],
   "source": [
    "optimizer_actor = optimizer_actor_kind(actor_improved_value.parameters(), **optimizer_actor_parameters)\n",
    "\n",
    "for _ in tqdm(range(epochs), \"Actor-Critic learning\", leave=False):\n",
    "    optimizer_critic = optimizer_critic_kind(critic_temporal_difference.parameters(), **optimizer_critic_parameters)\n",
    "    losses = np.array(critic_epoch(optimizer_critic,\n",
    "                                   critic_temporal_difference,\n",
    "                                   critic_iterations,\n",
    "                                   env,\n",
    "                                   actor_batch_size))\n",
    "    actor_epoch(optimizer_actor,\n",
    "                actor_improved_value,\n",
    "                actor_iterations,\n",
    "                env,\n",
    "                actor_batch_size)\n",
    "    plt.plot(losses)\n",
    "    plt.show()"
   ]
  },
  {
   "cell_type": "code",
   "execution_count": null,
   "id": "ab177bc1",
   "metadata": {},
   "outputs": [],
   "source": []
  }
 ],
 "metadata": {
  "kernelspec": {
   "display_name": "Python 3 (ipykernel)",
   "language": "python",
   "name": "python3"
  },
  "language_info": {
   "codemirror_mode": {
    "name": "ipython",
    "version": 3
   },
   "file_extension": ".py",
   "mimetype": "text/x-python",
   "name": "python",
   "nbconvert_exporter": "python",
   "pygments_lexer": "ipython3",
   "version": "3.9.7"
  }
 },
 "nbformat": 4,
 "nbformat_minor": 5
}
