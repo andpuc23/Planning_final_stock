{
 "cells": [
  {
   "cell_type": "markdown",
   "id": "33b63255",
   "metadata": {},
   "source": [
    "## Imports"
   ]
  },
  {
   "cell_type": "code",
   "execution_count": 183,
   "id": "5e71d729",
   "metadata": {},
   "outputs": [
    {
     "name": "stdout",
     "output_type": "stream",
     "text": [
      "The autoreload extension is already loaded. To reload it, use:\n",
      "  %reload_ext autoreload\n"
     ]
    }
   ],
   "source": [
    "%load_ext autoreload\n",
    "%autoreload 2\n",
    "\n",
    "from utils.prepare_data import prepare_short_data, prepare_full_data\n",
    "from environment import Environment\n",
    "from models.base_model import Base_model\n",
    "from models.DQN import DQN\n",
    "\n",
    "from datetime import timedelta\n",
    "from matplotlib import pyplot as plt\n",
    "\n",
    "import warnings\n",
    "warnings.filterwarnings('ignore')"
   ]
  },
  {
   "cell_type": "markdown",
   "id": "f75cb801",
   "metadata": {},
   "source": [
    "## Constants"
   ]
  },
  {
   "cell_type": "code",
   "execution_count": 117,
   "id": "a209c3af",
   "metadata": {
    "scrolled": true
   },
   "outputs": [],
   "source": [
    "df = prepare_full_data('data/Data_RU.xlsx')\n",
    "env = Environment(data=df, stock_name='AFKS', initial_money=1000)"
   ]
  },
  {
   "cell_type": "code",
   "execution_count": 14,
   "id": "9f43378f",
   "metadata": {},
   "outputs": [
    {
     "data": {
      "text/html": [
       "<div>\n",
       "<style scoped>\n",
       "    .dataframe tbody tr th:only-of-type {\n",
       "        vertical-align: middle;\n",
       "    }\n",
       "\n",
       "    .dataframe tbody tr th {\n",
       "        vertical-align: top;\n",
       "    }\n",
       "\n",
       "    .dataframe thead th {\n",
       "        text-align: right;\n",
       "    }\n",
       "</style>\n",
       "<table border=\"1\" class=\"dataframe\">\n",
       "  <thead>\n",
       "    <tr style=\"text-align: right;\">\n",
       "      <th></th>\n",
       "      <th>AFKS_close</th>\n",
       "      <th>AFLT_close</th>\n",
       "      <th>AGRO_close</th>\n",
       "      <th>AKRN_close</th>\n",
       "      <th>ALRS_close</th>\n",
       "      <th>AMEZ_close</th>\n",
       "      <th>APTK_close</th>\n",
       "      <th>AQUA_close</th>\n",
       "      <th>BANEP_close</th>\n",
       "      <th>BELU_close</th>\n",
       "      <th>...</th>\n",
       "      <th>VSMO_D3</th>\n",
       "      <th>VSMO_D4</th>\n",
       "      <th>VTBR_D1</th>\n",
       "      <th>VTBR_D2</th>\n",
       "      <th>VTBR_D3</th>\n",
       "      <th>VTBR_D4</th>\n",
       "      <th>YNDX_D1</th>\n",
       "      <th>YNDX_D2</th>\n",
       "      <th>YNDX_D3</th>\n",
       "      <th>YNDX_D4</th>\n",
       "    </tr>\n",
       "  </thead>\n",
       "  <tbody>\n",
       "    <tr>\n",
       "      <th>1</th>\n",
       "      <td>12.350</td>\n",
       "      <td>140.4</td>\n",
       "      <td>570.0</td>\n",
       "      <td>3930.0</td>\n",
       "      <td>75.81</td>\n",
       "      <td>4.82</td>\n",
       "      <td>8.65</td>\n",
       "      <td>140.5</td>\n",
       "      <td>1357.0</td>\n",
       "      <td>651.0</td>\n",
       "      <td>...</td>\n",
       "      <td>0.004135</td>\n",
       "      <td>0.000000</td>\n",
       "      <td>-0.054346</td>\n",
       "      <td>0.045848</td>\n",
       "      <td>0.045848</td>\n",
       "      <td>0.002330</td>\n",
       "      <td>-0.029828</td>\n",
       "      <td>0.012767</td>\n",
       "      <td>0.015894</td>\n",
       "      <td>0.002089</td>\n",
       "    </tr>\n",
       "    <tr>\n",
       "      <th>2</th>\n",
       "      <td>12.385</td>\n",
       "      <td>148.9</td>\n",
       "      <td>565.0</td>\n",
       "      <td>3994.0</td>\n",
       "      <td>77.00</td>\n",
       "      <td>4.75</td>\n",
       "      <td>8.59</td>\n",
       "      <td>152.0</td>\n",
       "      <td>1364.5</td>\n",
       "      <td>649.0</td>\n",
       "      <td>...</td>\n",
       "      <td>0.018746</td>\n",
       "      <td>0.000000</td>\n",
       "      <td>-0.013944</td>\n",
       "      <td>0.011111</td>\n",
       "      <td>0.015556</td>\n",
       "      <td>0.007941</td>\n",
       "      <td>0.000257</td>\n",
       "      <td>0.018013</td>\n",
       "      <td>0.021616</td>\n",
       "      <td>0.000000</td>\n",
       "    </tr>\n",
       "    <tr>\n",
       "      <th>3</th>\n",
       "      <td>12.390</td>\n",
       "      <td>147.3</td>\n",
       "      <td>562.5</td>\n",
       "      <td>3985.0</td>\n",
       "      <td>76.90</td>\n",
       "      <td>4.77</td>\n",
       "      <td>8.59</td>\n",
       "      <td>155.0</td>\n",
       "      <td>1368.5</td>\n",
       "      <td>NaN</td>\n",
       "      <td>...</td>\n",
       "      <td>0.013986</td>\n",
       "      <td>0.000583</td>\n",
       "      <td>-0.010236</td>\n",
       "      <td>-0.001591</td>\n",
       "      <td>0.000000</td>\n",
       "      <td>0.015552</td>\n",
       "      <td>0.001528</td>\n",
       "      <td>-0.011953</td>\n",
       "      <td>0.000000</td>\n",
       "      <td>0.023425</td>\n",
       "    </tr>\n",
       "    <tr>\n",
       "      <th>4</th>\n",
       "      <td>12.715</td>\n",
       "      <td>150.5</td>\n",
       "      <td>566.5</td>\n",
       "      <td>3982.0</td>\n",
       "      <td>76.79</td>\n",
       "      <td>4.80</td>\n",
       "      <td>8.50</td>\n",
       "      <td>162.0</td>\n",
       "      <td>1390.0</td>\n",
       "      <td>635.0</td>\n",
       "      <td>...</td>\n",
       "      <td>0.005764</td>\n",
       "      <td>0.003470</td>\n",
       "      <td>-0.002376</td>\n",
       "      <td>0.008137</td>\n",
       "      <td>0.029371</td>\n",
       "      <td>0.001391</td>\n",
       "      <td>-0.007353</td>\n",
       "      <td>0.002810</td>\n",
       "      <td>0.012516</td>\n",
       "      <td>0.001791</td>\n",
       "    </tr>\n",
       "    <tr>\n",
       "      <th>5</th>\n",
       "      <td>12.700</td>\n",
       "      <td>149.3</td>\n",
       "      <td>570.0</td>\n",
       "      <td>3995.0</td>\n",
       "      <td>76.70</td>\n",
       "      <td>4.88</td>\n",
       "      <td>8.40</td>\n",
       "      <td>160.0</td>\n",
       "      <td>1444.0</td>\n",
       "      <td>636.0</td>\n",
       "      <td>...</td>\n",
       "      <td>0.004028</td>\n",
       "      <td>0.001729</td>\n",
       "      <td>0.009901</td>\n",
       "      <td>-0.009608</td>\n",
       "      <td>0.005882</td>\n",
       "      <td>0.011905</td>\n",
       "      <td>0.000000</td>\n",
       "      <td>0.004585</td>\n",
       "      <td>0.008660</td>\n",
       "      <td>0.016309</td>\n",
       "    </tr>\n",
       "  </tbody>\n",
       "</table>\n",
       "<p>5 rows × 893 columns</p>\n",
       "</div>"
      ],
      "text/plain": [
       "   AFKS_close  AFLT_close  AGRO_close  AKRN_close  ALRS_close  AMEZ_close  \\\n",
       "1      12.350       140.4       570.0      3930.0       75.81        4.82   \n",
       "2      12.385       148.9       565.0      3994.0       77.00        4.75   \n",
       "3      12.390       147.3       562.5      3985.0       76.90        4.77   \n",
       "4      12.715       150.5       566.5      3982.0       76.79        4.80   \n",
       "5      12.700       149.3       570.0      3995.0       76.70        4.88   \n",
       "\n",
       "   APTK_close  AQUA_close  BANEP_close  BELU_close  ...   VSMO_D3   VSMO_D4  \\\n",
       "1        8.65       140.5       1357.0       651.0  ...  0.004135  0.000000   \n",
       "2        8.59       152.0       1364.5       649.0  ...  0.018746  0.000000   \n",
       "3        8.59       155.0       1368.5         NaN  ...  0.013986  0.000583   \n",
       "4        8.50       162.0       1390.0       635.0  ...  0.005764  0.003470   \n",
       "5        8.40       160.0       1444.0       636.0  ...  0.004028  0.001729   \n",
       "\n",
       "    VTBR_D1   VTBR_D2   VTBR_D3   VTBR_D4   YNDX_D1   YNDX_D2   YNDX_D3  \\\n",
       "1 -0.054346  0.045848  0.045848  0.002330 -0.029828  0.012767  0.015894   \n",
       "2 -0.013944  0.011111  0.015556  0.007941  0.000257  0.018013  0.021616   \n",
       "3 -0.010236 -0.001591  0.000000  0.015552  0.001528 -0.011953  0.000000   \n",
       "4 -0.002376  0.008137  0.029371  0.001391 -0.007353  0.002810  0.012516   \n",
       "5  0.009901 -0.009608  0.005882  0.011905  0.000000  0.004585  0.008660   \n",
       "\n",
       "    YNDX_D4  \n",
       "1  0.002089  \n",
       "2  0.000000  \n",
       "3  0.023425  \n",
       "4  0.001791  \n",
       "5  0.016309  \n",
       "\n",
       "[5 rows x 893 columns]"
      ]
     },
     "execution_count": 14,
     "metadata": {},
     "output_type": "execute_result"
    }
   ],
   "source": [
    "df.head()"
   ]
  },
  {
   "cell_type": "code",
   "execution_count": 61,
   "id": "189058a0",
   "metadata": {},
   "outputs": [
    {
     "name": "stdout",
     "output_type": "stream",
     "text": [
      "<class 'pandas.core.frame.DataFrame'>\n",
      "Int64Index: 1209 entries, 1 to 1209\n",
      "Data columns (total 11 columns):\n",
      " #   Column       Non-Null Count  Dtype         \n",
      "---  ------       --------------  -----         \n",
      " 0   Date         1209 non-null   datetime64[ns]\n",
      " 1   Weekday      1209 non-null   int64         \n",
      " 2   AFKS_close   1202 non-null   float64       \n",
      " 3   AFKS_high    1202 non-null   float64       \n",
      " 4   AFKS_low     1202 non-null   float64       \n",
      " 5   AFKS_open    1202 non-null   float64       \n",
      " 6   AFKS_volume  1209 non-null   float64       \n",
      " 7   AFKS_D1      1198 non-null   float64       \n",
      " 8   AFKS_D2      1202 non-null   float64       \n",
      " 9   AFKS_D3      1202 non-null   float64       \n",
      " 10  AFKS_D4      1202 non-null   float64       \n",
      "dtypes: datetime64[ns](1), float64(9), int64(1)\n",
      "memory usage: 113.3 KB\n"
     ]
    }
   ],
   "source": [
    "env.data.info()"
   ]
  },
  {
   "cell_type": "code",
   "execution_count": 15,
   "id": "cd8398d5",
   "metadata": {},
   "outputs": [],
   "source": [
    "start_date = env.first_date()"
   ]
  },
  {
   "cell_type": "code",
   "execution_count": null,
   "id": "b9a1f5b0",
   "metadata": {},
   "outputs": [],
   "source": [
    "model = Base_model()\n",
    "# here we have to train the model"
   ]
  },
  {
   "cell_type": "code",
   "execution_count": null,
   "id": "e9d59f72",
   "metadata": {},
   "outputs": [],
   "source": [
    "env.reset()\n",
    "for i in range(10, env.day_count-1):\n",
    "    obs = env.observation(i)\n",
    "    action = model.predict(obs)\n",
    "    \n",
    "    reward = env.reward(i, action)\n",
    "    state = env.observation(i)\n",
    "    model.fit(state, action, reward)\n",
    "    \n",
    "    env.transition(i, action)"
   ]
  },
  {
   "cell_type": "code",
   "execution_count": null,
   "id": "a295ca57",
   "metadata": {},
   "outputs": [],
   "source": [
    "env.stocks"
   ]
  },
  {
   "cell_type": "code",
   "execution_count": null,
   "id": "a628b1d0",
   "metadata": {},
   "outputs": [],
   "source": [
    "plt.plot(range(10, env.day_count), env.money)"
   ]
  },
  {
   "cell_type": "code",
   "execution_count": null,
   "id": "b012a97c",
   "metadata": {},
   "outputs": [],
   "source": [
    "plt.plot(range(10, env.day_count), env.stocks)"
   ]
  },
  {
   "cell_type": "markdown",
   "id": "c2f52f55",
   "metadata": {},
   "source": [
    "## DQN"
   ]
  },
  {
   "cell_type": "code",
   "execution_count": 184,
   "id": "b49f6b40",
   "metadata": {},
   "outputs": [],
   "source": [
    "dqn = DQN(env.data.shape[1], 3, env)"
   ]
  },
  {
   "cell_type": "code",
   "execution_count": 185,
   "id": "171e1974",
   "metadata": {},
   "outputs": [
    {
     "name": "stderr",
     "output_type": "stream",
     "text": [
      "  0%|          | 0/1000 [00:00<?, ?it/s]"
     ]
    },
    {
     "name": "stdout",
     "output_type": "stream",
     "text": [
      "tensor([[   39119.5273,  -427629.7812,   120907.5234],\n",
      "        [  301365.1562,  -339618.0312,   187719.5625],\n",
      "        [  432697.2812,  -377987.9062,   318336.6250],\n",
      "        [          nan,           nan,           nan],\n",
      "        [  893359.3750,  -817162.0625,   788504.1875],\n",
      "        [  196477.9062,  -354418.1875,   216929.3125],\n",
      "        [  255779.5312,  -573387.1875,   180993.2344],\n",
      "        [  345714.5625,  -434476.0938,   187075.2500],\n",
      "        [          nan,           nan,           nan],\n",
      "        [  272308.8750,  -267709.8125,    84476.3828],\n",
      "        [  614507.6875, -1481661.6250,   917763.2500],\n",
      "        [          nan,           nan,           nan],\n",
      "        [ 1921790.1250, -1134914.2500,   817398.1250],\n",
      "        [ 1074721.3750, -1515512.5000,   205123.7656],\n",
      "        [  590205.6875,  -452674.8125,   637265.7500],\n",
      "        [ 1024907.1875, -1253852.8750,   838894.1875]],\n",
      "       grad_fn=<AddmmBackward0>)\n",
      "tensor([ 1, -1, -1, -1, -1,  1, -1, -1, -1, -1,  1, -1, -1, -1,  1, -1])\n"
     ]
    },
    {
     "name": "stderr",
     "output_type": "stream",
     "text": [
      "\n"
     ]
    },
    {
     "ename": "RuntimeError",
     "evalue": "element 0 of tensors does not require grad and does not have a grad_fn",
     "output_type": "error",
     "traceback": [
      "\u001b[1;31m---------------------------------------------------------------------------\u001b[0m",
      "\u001b[1;31mRuntimeError\u001b[0m                              Traceback (most recent call last)",
      "\u001b[1;32mC:\\Users\\SNIPER~1\\AppData\\Local\\Temp/ipykernel_5432/4032954965.py\u001b[0m in \u001b[0;36m<module>\u001b[1;34m\u001b[0m\n\u001b[1;32m----> 1\u001b[1;33m \u001b[0mdqn\u001b[0m\u001b[1;33m.\u001b[0m\u001b[0mfit\u001b[0m\u001b[1;33m(\u001b[0m\u001b[1;33m)\u001b[0m\u001b[1;33m\u001b[0m\u001b[1;33m\u001b[0m\u001b[0m\n\u001b[0m",
      "\u001b[1;32m~\\Desktop\\PAAI\\final\\models\\DQN.py\u001b[0m in \u001b[0;36mfit\u001b[1;34m(self)\u001b[0m\n\u001b[0;32m    133\u001b[0m         \u001b[0mnum_episodes\u001b[0m \u001b[1;33m=\u001b[0m \u001b[1;36m1000\u001b[0m\u001b[1;33m\u001b[0m\u001b[1;33m\u001b[0m\u001b[0m\n\u001b[0;32m    134\u001b[0m         \u001b[1;32mfor\u001b[0m \u001b[0mi\u001b[0m \u001b[1;32min\u001b[0m \u001b[0mtqdm\u001b[0m\u001b[1;33m(\u001b[0m\u001b[0mrange\u001b[0m\u001b[1;33m(\u001b[0m\u001b[0mnum_episodes\u001b[0m\u001b[1;33m)\u001b[0m\u001b[1;33m)\u001b[0m\u001b[1;33m:\u001b[0m\u001b[1;33m\u001b[0m\u001b[1;33m\u001b[0m\u001b[0m\n\u001b[1;32m--> 135\u001b[1;33m             \u001b[0mself\u001b[0m\u001b[1;33m.\u001b[0m\u001b[0moptimise_model\u001b[0m\u001b[1;33m(\u001b[0m\u001b[1;33m)\u001b[0m\u001b[1;33m\u001b[0m\u001b[1;33m\u001b[0m\u001b[0m\n\u001b[0m\u001b[0;32m    136\u001b[0m \u001b[1;33m\u001b[0m\u001b[0m\n\u001b[0;32m    137\u001b[0m             \u001b[0mtarget_net_state_dict\u001b[0m \u001b[1;33m=\u001b[0m \u001b[0mtarget_net\u001b[0m\u001b[1;33m.\u001b[0m\u001b[0mstate_dict\u001b[0m\u001b[1;33m(\u001b[0m\u001b[1;33m)\u001b[0m\u001b[1;33m\u001b[0m\u001b[1;33m\u001b[0m\u001b[0m\n",
      "\u001b[1;32m~\\Desktop\\PAAI\\final\\models\\DQN.py\u001b[0m in \u001b[0;36moptimise_model\u001b[1;34m(self)\u001b[0m\n\u001b[0;32m    124\u001b[0m     \u001b[1;31m# Optimize the model\u001b[0m\u001b[1;33m\u001b[0m\u001b[1;33m\u001b[0m\u001b[0m\n\u001b[0;32m    125\u001b[0m         \u001b[0moptimizer\u001b[0m\u001b[1;33m.\u001b[0m\u001b[0mzero_grad\u001b[0m\u001b[1;33m(\u001b[0m\u001b[1;33m)\u001b[0m\u001b[1;33m\u001b[0m\u001b[1;33m\u001b[0m\u001b[0m\n\u001b[1;32m--> 126\u001b[1;33m         \u001b[0mloss\u001b[0m\u001b[1;33m.\u001b[0m\u001b[0mbackward\u001b[0m\u001b[1;33m(\u001b[0m\u001b[1;33m)\u001b[0m\u001b[1;33m\u001b[0m\u001b[1;33m\u001b[0m\u001b[0m\n\u001b[0m\u001b[0;32m    127\u001b[0m     \u001b[1;31m# In-place gradient clipping\u001b[0m\u001b[1;33m\u001b[0m\u001b[1;33m\u001b[0m\u001b[0m\n\u001b[0;32m    128\u001b[0m         \u001b[0mtorch\u001b[0m\u001b[1;33m.\u001b[0m\u001b[0mnn\u001b[0m\u001b[1;33m.\u001b[0m\u001b[0mutils\u001b[0m\u001b[1;33m.\u001b[0m\u001b[0mclip_grad_value_\u001b[0m\u001b[1;33m(\u001b[0m\u001b[0mpolicy_net\u001b[0m\u001b[1;33m.\u001b[0m\u001b[0mparameters\u001b[0m\u001b[1;33m(\u001b[0m\u001b[1;33m)\u001b[0m\u001b[1;33m,\u001b[0m \u001b[1;36m100\u001b[0m\u001b[1;33m)\u001b[0m\u001b[1;33m\u001b[0m\u001b[1;33m\u001b[0m\u001b[0m\n",
      "\u001b[1;32mC:\\ProgramData\\Anaconda3\\lib\\site-packages\\torch\\_tensor.py\u001b[0m in \u001b[0;36mbackward\u001b[1;34m(self, gradient, retain_graph, create_graph, inputs)\u001b[0m\n\u001b[0;32m    361\u001b[0m                 \u001b[0mcreate_graph\u001b[0m\u001b[1;33m=\u001b[0m\u001b[0mcreate_graph\u001b[0m\u001b[1;33m,\u001b[0m\u001b[1;33m\u001b[0m\u001b[1;33m\u001b[0m\u001b[0m\n\u001b[0;32m    362\u001b[0m                 inputs=inputs)\n\u001b[1;32m--> 363\u001b[1;33m         \u001b[0mtorch\u001b[0m\u001b[1;33m.\u001b[0m\u001b[0mautograd\u001b[0m\u001b[1;33m.\u001b[0m\u001b[0mbackward\u001b[0m\u001b[1;33m(\u001b[0m\u001b[0mself\u001b[0m\u001b[1;33m,\u001b[0m \u001b[0mgradient\u001b[0m\u001b[1;33m,\u001b[0m \u001b[0mretain_graph\u001b[0m\u001b[1;33m,\u001b[0m \u001b[0mcreate_graph\u001b[0m\u001b[1;33m,\u001b[0m \u001b[0minputs\u001b[0m\u001b[1;33m=\u001b[0m\u001b[0minputs\u001b[0m\u001b[1;33m)\u001b[0m\u001b[1;33m\u001b[0m\u001b[1;33m\u001b[0m\u001b[0m\n\u001b[0m\u001b[0;32m    364\u001b[0m \u001b[1;33m\u001b[0m\u001b[0m\n\u001b[0;32m    365\u001b[0m     \u001b[1;32mdef\u001b[0m \u001b[0mregister_hook\u001b[0m\u001b[1;33m(\u001b[0m\u001b[0mself\u001b[0m\u001b[1;33m,\u001b[0m \u001b[0mhook\u001b[0m\u001b[1;33m)\u001b[0m\u001b[1;33m:\u001b[0m\u001b[1;33m\u001b[0m\u001b[1;33m\u001b[0m\u001b[0m\n",
      "\u001b[1;32mC:\\ProgramData\\Anaconda3\\lib\\site-packages\\torch\\autograd\\__init__.py\u001b[0m in \u001b[0;36mbackward\u001b[1;34m(tensors, grad_tensors, retain_graph, create_graph, grad_variables, inputs)\u001b[0m\n\u001b[0;32m    171\u001b[0m     \u001b[1;31m# some Python versions print out the first line of a multi-line function\u001b[0m\u001b[1;33m\u001b[0m\u001b[1;33m\u001b[0m\u001b[0m\n\u001b[0;32m    172\u001b[0m     \u001b[1;31m# calls in the traceback and some print out the last line\u001b[0m\u001b[1;33m\u001b[0m\u001b[1;33m\u001b[0m\u001b[0m\n\u001b[1;32m--> 173\u001b[1;33m     Variable._execution_engine.run_backward(  # Calls into the C++ engine to run the backward pass\n\u001b[0m\u001b[0;32m    174\u001b[0m         \u001b[0mtensors\u001b[0m\u001b[1;33m,\u001b[0m \u001b[0mgrad_tensors_\u001b[0m\u001b[1;33m,\u001b[0m \u001b[0mretain_graph\u001b[0m\u001b[1;33m,\u001b[0m \u001b[0mcreate_graph\u001b[0m\u001b[1;33m,\u001b[0m \u001b[0minputs\u001b[0m\u001b[1;33m,\u001b[0m\u001b[1;33m\u001b[0m\u001b[1;33m\u001b[0m\u001b[0m\n\u001b[0;32m    175\u001b[0m         allow_unreachable=True, accumulate_grad=True)  # Calls into the C++ engine to run the backward pass\n",
      "\u001b[1;31mRuntimeError\u001b[0m: element 0 of tensors does not require grad and does not have a grad_fn"
     ]
    }
   ],
   "source": [
    "dqn.fit()"
   ]
  },
  {
   "cell_type": "code",
   "execution_count": null,
   "id": "fd7ef396",
   "metadata": {},
   "outputs": [],
   "source": []
  }
 ],
 "metadata": {
  "kernelspec": {
   "display_name": "Python 3 (ipykernel)",
   "language": "python",
   "name": "python3"
  },
  "language_info": {
   "codemirror_mode": {
    "name": "ipython",
    "version": 3
   },
   "file_extension": ".py",
   "mimetype": "text/x-python",
   "name": "python",
   "nbconvert_exporter": "python",
   "pygments_lexer": "ipython3",
   "version": "3.9.7"
  }
 },
 "nbformat": 4,
 "nbformat_minor": 5
}
