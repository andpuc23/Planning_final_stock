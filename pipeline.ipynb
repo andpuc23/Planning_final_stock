{
 "cells": [
  {
   "cell_type": "markdown",
   "id": "c3e605dc",
   "metadata": {},
   "source": [
    "## Imports"
   ]
  },
  {
   "cell_type": "code",
   "execution_count": 14,
   "id": "d24facb1",
   "metadata": {},
   "outputs": [
    {
     "name": "stdout",
     "output_type": "stream",
     "text": [
      "The autoreload extension is already loaded. To reload it, use:\n",
      "  %reload_ext autoreload\n"
     ]
    }
   ],
   "source": [
    "%load_ext autoreload\n",
    "%autoreload 2\n",
    "\n",
    "from utils.prepare_data import prepare_short_data, prepare_full_data\n",
    "from environment import Environment\n",
    "from models.base_model import Base_model\n",
    "from models.DQN import DQN\n",
    "\n",
    "from datetime import timedelta\n",
    "from matplotlib import pyplot as plt\n",
    "\n",
    "import warnings\n",
    "warnings.filterwarnings('ignore')\n",
    "\n",
    "from models.TD import ActorModel, CriticModel, ActorImprovedValue, CriticTD, critic_epoch, actor_epoch\n",
    "import torch\n",
    "from tqdm import tqdm\n",
    "import numpy as np"
   ]
  },
  {
   "cell_type": "markdown",
   "id": "bb142982",
   "metadata": {},
   "source": [
    "## Constants"
   ]
  },
  {
   "cell_type": "code",
   "execution_count": 2,
   "id": "907ddbfa",
   "metadata": {
    "scrolled": true
   },
   "outputs": [],
   "source": [
    "df = prepare_full_data('data/Data_RU.xlsx')"
   ]
  },
  {
   "cell_type": "code",
   "execution_count": 15,
   "id": "776eb04f",
   "metadata": {
    "scrolled": true
   },
   "outputs": [
    {
     "data": {
      "text/html": [
       "<div>\n",
       "<style scoped>\n",
       "    .dataframe tbody tr th:only-of-type {\n",
       "        vertical-align: middle;\n",
       "    }\n",
       "\n",
       "    .dataframe tbody tr th {\n",
       "        vertical-align: top;\n",
       "    }\n",
       "\n",
       "    .dataframe thead th {\n",
       "        text-align: right;\n",
       "    }\n",
       "</style>\n",
       "<table border=\"1\" class=\"dataframe\">\n",
       "  <thead>\n",
       "    <tr style=\"text-align: right;\">\n",
       "      <th></th>\n",
       "      <th>Date</th>\n",
       "      <th>Weekday</th>\n",
       "      <th>AFKS_close</th>\n",
       "      <th>AFKS_high</th>\n",
       "      <th>AFKS_low</th>\n",
       "      <th>AFKS_open</th>\n",
       "      <th>AFKS_volume</th>\n",
       "      <th>AFKS_D1</th>\n",
       "      <th>AFKS_D2</th>\n",
       "      <th>AFKS_D3</th>\n",
       "      <th>AFKS_D4</th>\n",
       "    </tr>\n",
       "  </thead>\n",
       "  <tbody>\n",
       "    <tr>\n",
       "      <th>1002</th>\n",
       "      <td>2021-12-17</td>\n",
       "      <td>4</td>\n",
       "      <td>23.255</td>\n",
       "      <td>23.751</td>\n",
       "      <td>22.781</td>\n",
       "      <td>23.501</td>\n",
       "      <td>44723500.0</td>\n",
       "      <td>0.044535</td>\n",
       "      <td>-0.010468</td>\n",
       "      <td>0.010638</td>\n",
       "      <td>0.031605</td>\n",
       "    </tr>\n",
       "    <tr>\n",
       "      <th>1003</th>\n",
       "      <td>2021-12-20</td>\n",
       "      <td>0</td>\n",
       "      <td>22.499</td>\n",
       "      <td>23.198</td>\n",
       "      <td>22.400</td>\n",
       "      <td>23.198</td>\n",
       "      <td>37123100.0</td>\n",
       "      <td>0.024601</td>\n",
       "      <td>-0.030132</td>\n",
       "      <td>0.000000</td>\n",
       "      <td>0.035625</td>\n",
       "    </tr>\n",
       "    <tr>\n",
       "      <th>1004</th>\n",
       "      <td>2021-12-21</td>\n",
       "      <td>1</td>\n",
       "      <td>22.641</td>\n",
       "      <td>23.077</td>\n",
       "      <td>22.382</td>\n",
       "      <td>22.697</td>\n",
       "      <td>31016200.0</td>\n",
       "      <td>0.007860</td>\n",
       "      <td>-0.002467</td>\n",
       "      <td>0.016742</td>\n",
       "      <td>0.014074</td>\n",
       "    </tr>\n",
       "    <tr>\n",
       "      <th>1005</th>\n",
       "      <td>2021-12-22</td>\n",
       "      <td>2</td>\n",
       "      <td>22.520</td>\n",
       "      <td>22.946</td>\n",
       "      <td>22.308</td>\n",
       "      <td>22.700</td>\n",
       "      <td>37632400.0</td>\n",
       "      <td>0.016115</td>\n",
       "      <td>-0.007930</td>\n",
       "      <td>0.010837</td>\n",
       "      <td>0.017572</td>\n",
       "    </tr>\n",
       "    <tr>\n",
       "      <th>1006</th>\n",
       "      <td>2021-12-23</td>\n",
       "      <td>3</td>\n",
       "      <td>22.340</td>\n",
       "      <td>22.838</td>\n",
       "      <td>22.072</td>\n",
       "      <td>22.610</td>\n",
       "      <td>34848700.0</td>\n",
       "      <td>0.012766</td>\n",
       "      <td>-0.011942</td>\n",
       "      <td>0.010084</td>\n",
       "      <td>0.024375</td>\n",
       "    </tr>\n",
       "  </tbody>\n",
       "</table>\n",
       "</div>"
      ],
      "text/plain": [
       "           Date  Weekday  AFKS_close  AFKS_high  AFKS_low  AFKS_open  \\\n",
       "1002 2021-12-17        4      23.255     23.751    22.781     23.501   \n",
       "1003 2021-12-20        0      22.499     23.198    22.400     23.198   \n",
       "1004 2021-12-21        1      22.641     23.077    22.382     22.697   \n",
       "1005 2021-12-22        2      22.520     22.946    22.308     22.700   \n",
       "1006 2021-12-23        3      22.340     22.838    22.072     22.610   \n",
       "\n",
       "      AFKS_volume   AFKS_D1   AFKS_D2   AFKS_D3   AFKS_D4  \n",
       "1002   44723500.0  0.044535 -0.010468  0.010638  0.031605  \n",
       "1003   37123100.0  0.024601 -0.030132  0.000000  0.035625  \n",
       "1004   31016200.0  0.007860 -0.002467  0.016742  0.014074  \n",
       "1005   37632400.0  0.016115 -0.007930  0.010837  0.017572  \n",
       "1006   34848700.0  0.012766 -0.011942  0.010084  0.024375  "
      ]
     },
     "execution_count": 15,
     "metadata": {},
     "output_type": "execute_result"
    }
   ],
   "source": [
    "env = Environment(data=df, stock_name='AFKS', initial_money=1000)\n",
    "env.data.head()"
   ]
  },
  {
   "cell_type": "code",
   "execution_count": 5,
   "id": "43820e31",
   "metadata": {},
   "outputs": [],
   "source": [
    "start_date = env.first_date()"
   ]
  },
  {
   "cell_type": "markdown",
   "id": "26de886f",
   "metadata": {},
   "source": [
    "## DQN"
   ]
  },
  {
   "cell_type": "code",
   "execution_count": null,
   "id": "376f7f4c",
   "metadata": {},
   "outputs": [
    {
     "name": "stderr",
     "output_type": "stream",
     "text": [
      " 46%|████▌     | 4571/10000 [00:21<00:24, 220.77it/s]"
     ]
    }
   ],
   "source": [
    "# 15 is random nummber in [10, days_count] here\n",
    "dqn = DQN(env.observation_tensor(15).shape[0], 3, env, batch_size=32)\n",
    "dqn.fit()"
   ]
  },
  {
   "cell_type": "code",
   "execution_count": null,
   "id": "8bc236b4",
   "metadata": {},
   "outputs": [],
   "source": [
    "env.reset()\n",
    "for i in range(10, env.day_count-1):\n",
    "    obs = env.observation_tensor(i)\n",
    "    action = dqn.predict(obs)\n",
    "    \n",
    "    reward = env.reward(i, action)\n",
    "    state = env.observation_tensor(i)\n",
    "#     model.fit(state, action, reward)\n",
    "    \n",
    "    env.transition(i, action)"
   ]
  },
  {
   "cell_type": "code",
   "execution_count": null,
   "id": "48c0ae87",
   "metadata": {
    "scrolled": true
   },
   "outputs": [],
   "source": [
    "plt.plot(range(10, env.day_count), env.money)"
   ]
  },
  {
   "cell_type": "code",
   "execution_count": null,
   "id": "5aac5da0",
   "metadata": {},
   "outputs": [],
   "source": [
    "plt.plot(range(10, env.day_count), env.stocks)"
   ]
  },
  {
   "cell_type": "code",
   "execution_count": null,
   "id": "6d64d6d2",
   "metadata": {},
   "outputs": [],
   "source": [
    "plt.plot(range(10, env.day_count), env.total_cost())"
   ]
  },
  {
   "cell_type": "markdown",
   "id": "2f745dfd",
   "metadata": {},
   "source": [
    "### Add more stocks to train on"
   ]
  },
  {
   "cell_type": "code",
   "execution_count": null,
   "id": "9135f185",
   "metadata": {},
   "outputs": [],
   "source": [
    "env = Environment(data=df, stock_name='AFKS', initial_money=1000)\n",
    "dqn = DQN(env.observation_tensor(15).shape[0],\n",
    "          3,\n",
    "          env,\n",
    "          batch_size=128)\n",
    "for s in ['AFKS', \n",
    "          'SBER',\n",
    "          'YNDX',\n",
    "#           'GAZP'\n",
    "         ]:\n",
    "    state = dqn.state_dict()\n",
    "    env = Environment(data=df, stock_name=s, initial_money=1000)\n",
    "    dqn.fit(state)"
   ]
  },
  {
   "cell_type": "code",
   "execution_count": null,
   "id": "f1172fce",
   "metadata": {},
   "outputs": [],
   "source": []
  },
  {
   "cell_type": "markdown",
   "id": "00dd75f3",
   "metadata": {},
   "source": [
    "## Testing"
   ]
  },
  {
   "cell_type": "code",
   "execution_count": null,
   "id": "60e854a0",
   "metadata": {},
   "outputs": [],
   "source": [
    "# test_env = Environment(data=df, stock_name='MTSS', initial_money=1000)\n",
    "test_env = Environment(data=df, stock_name='SBERP', initial_money=1000)"
   ]
  },
  {
   "cell_type": "code",
   "execution_count": null,
   "id": "58ced804",
   "metadata": {},
   "outputs": [],
   "source": [
    "test_env.reset()\n",
    "for i in range(10, test_env.day_count-1):\n",
    "    obs = test_env.observation_tensor(i)\n",
    "    action = dqn.predict(obs)\n",
    "    \n",
    "    reward = test_env.reward(i, action)\n",
    "    state = test_env.observation_tensor(i)\n",
    "#     model.fit(state, action, reward)\n",
    "    \n",
    "    test_env.transition(i, action)"
   ]
  },
  {
   "cell_type": "code",
   "execution_count": null,
   "id": "aec1be68",
   "metadata": {},
   "outputs": [],
   "source": [
    "plt.plot(range(10, test_env.day_count), test_env.total_cost())"
   ]
  },
  {
   "cell_type": "code",
   "execution_count": null,
   "id": "733992dd",
   "metadata": {},
   "outputs": [],
   "source": [
    "plt.plot(range(10, test_env.day_count), test_env.money)"
   ]
  },
  {
   "cell_type": "code",
   "execution_count": null,
   "id": "45c2d3c8",
   "metadata": {},
   "outputs": [],
   "source": [
    "plt.plot(range(10, test_env.day_count), test_env.stocks)"
   ]
  },
  {
   "cell_type": "markdown",
   "id": "537a080a",
   "metadata": {},
   "source": [
    "## TD model"
   ]
  },
  {
   "cell_type": "code",
   "execution_count": 16,
   "id": "5c93db20",
   "metadata": {},
   "outputs": [],
   "source": [
    "device = 'cuda' if torch.cuda.is_available() else 'cpu'\n",
    "\n",
    "actor = ActorModel(actor_in_size=env.observation_tensor(15).shape[0]).to(device)\n",
    "critic = CriticModel(\n",
    "    critic_in_size=env.observation_tensor(15).shape[0], \n",
    "                    critic_layer_size=128).to(device)\n",
    "\n",
    "critic_temporal_difference = CriticTD(actor, critic, env).to(device)\n",
    "actor_improved_value = ActorImprovedValue(actor, critic, env).to(device)"
   ]
  },
  {
   "cell_type": "code",
   "execution_count": 17,
   "id": "815f022d",
   "metadata": {},
   "outputs": [],
   "source": [
    "optimizer_critic_kind = torch.optim.Adam\n",
    "optimizer_critic_parameters = {\n",
    "    'lr': 5e-6,\n",
    "    'weight_decay': 1e-5\n",
    "}\n",
    "\n",
    "optimizer_actor_kind = torch.optim.Adam\n",
    "optimizer_actor_parameters = {\n",
    "    \"lr\" : 1e-4,\n",
    "    \"weight_decay\" : 1e-5\n",
    "}\n",
    "\n",
    "critic_iterations = 100\n",
    "critic_batch_size = 40\n",
    "\n",
    "actor_iterations = 150\n",
    "actor_batch_size = 20\n",
    "\n",
    "epochs = 5"
   ]
  },
  {
   "cell_type": "code",
   "execution_count": null,
   "id": "a9070da0",
   "metadata": {},
   "outputs": [
    {
     "name": "stderr",
     "output_type": "stream",
     "text": [
      "\r",
      "Actor-Critic learning:   0%|          | 0/5 [00:00<?, ?it/s]"
     ]
    },
    {
     "data": {
      "application/vnd.jupyter.widget-view+json": {
       "model_id": "fc83d8cc0ec34746b69a4ae1e24d033b",
       "version_major": 2,
       "version_minor": 0
      },
      "text/plain": [
       "Critic epoch:   0%|          | 0/100 [00:00<?, ?it/s]"
      ]
     },
     "metadata": {},
     "output_type": "display_data"
    },
    {
     "name": "stdout",
     "output_type": "stream",
     "text": [
      "Critic mean loss: 34786.203125\n"
     ]
    },
    {
     "data": {
      "application/vnd.jupyter.widget-view+json": {
       "model_id": "2160492c695243caaf188a295d3632f8",
       "version_major": 2,
       "version_minor": 0
      },
      "text/plain": [
       "Actor epoch:   0%|          | 0/150 [00:00<?, ?it/s]"
      ]
     },
     "metadata": {},
     "output_type": "display_data"
    },
    {
     "name": "stdout",
     "output_type": "stream",
     "text": [
      "Actor mean value: -4857.55517578125\n"
     ]
    },
    {
     "data": {
      "image/png": "[encoded data removed]",
      "text/plain": [
       "<Figure size 432x288 with 1 Axes>"
      ]
     },
     "metadata": {
      "needs_background": "light"
     },
     "output_type": "display_data"
    },
    {
     "name": "stderr",
     "output_type": "stream",
     "text": [
      "\r",
      "Actor-Critic learning:  20%|██        | 1/5 [00:12<00:48, 12.10s/it]"
     ]
    },
    {
     "data": {
      "application/vnd.jupyter.widget-view+json": {
       "model_id": "6cc8b6db1cb94b2f978dc933bf9f5a8f",
       "version_major": 2,
       "version_minor": 0
      },
      "text/plain": [
       "Critic epoch:   0%|          | 0/100 [00:00<?, ?it/s]"
      ]
     },
     "metadata": {},
     "output_type": "display_data"
    },
    {
     "name": "stdout",
     "output_type": "stream",
     "text": [
      "Critic mean loss: 58509.55859375\n"
     ]
    },
    {
     "data": {
      "application/vnd.jupyter.widget-view+json": {
       "model_id": "977fe252ecbd4d60a0f65431a13200ac",
       "version_major": 2,
       "version_minor": 0
      },
      "text/plain": [
       "Actor epoch:   0%|          | 0/150 [00:00<?, ?it/s]"
      ]
     },
     "metadata": {},
     "output_type": "display_data"
    },
    {
     "name": "stdout",
     "output_type": "stream",
     "text": [
      "Actor mean value: -4878.51171875\n"
     ]
    },
    {
     "data": {
      "image/png": "[encoded data removed]",
      "text/plain": [
       "<Figure size 432x288 with 1 Axes>"
      ]
     },
     "metadata": {
      "needs_background": "light"
     },
     "output_type": "display_data"
    },
    {
     "name": "stderr",
     "output_type": "stream",
     "text": [
      "\r",
      "Actor-Critic learning:  40%|████      | 2/5 [00:24<00:36, 12.11s/it]"
     ]
    },
    {
     "data": {
      "application/vnd.jupyter.widget-view+json": {
       "model_id": "abab39b301d64905b6ad1608534cf412",
       "version_major": 2,
       "version_minor": 0
      },
      "text/plain": [
       "Critic epoch:   0%|          | 0/100 [00:00<?, ?it/s]"
      ]
     },
     "metadata": {},
     "output_type": "display_data"
    },
    {
     "name": "stdout",
     "output_type": "stream",
     "text": [
      "Critic mean loss: 178931.34375\n"
     ]
    },
    {
     "data": {
      "application/vnd.jupyter.widget-view+json": {
       "model_id": "a482c141a8824e69ba1eef25675143ed",
       "version_major": 2,
       "version_minor": 0
      },
      "text/plain": [
       "Actor epoch:   0%|          | 0/150 [00:00<?, ?it/s]"
      ]
     },
     "metadata": {},
     "output_type": "display_data"
    },
    {
     "name": "stdout",
     "output_type": "stream",
     "text": [
      "Actor mean value: -4857.67333984375\n"
     ]
    },
    {
     "data": {
      "image/png": "[encoded data removed]",
      "text/plain": [
       "<Figure size 432x288 with 1 Axes>"
      ]
     },
     "metadata": {
      "needs_background": "light"
     },
     "output_type": "display_data"
    },
    {
     "name": "stderr",
     "output_type": "stream",
     "text": [
      "\r",
      "Actor-Critic learning:  60%|██████    | 3/5 [00:36<00:24, 12.19s/it]"
     ]
    },
    {
     "data": {
      "application/vnd.jupyter.widget-view+json": {
       "model_id": "e09377a46624499c9ff0ceafd6067ade",
       "version_major": 2,
       "version_minor": 0
      },
      "text/plain": [
       "Critic epoch:   0%|          | 0/100 [00:00<?, ?it/s]"
      ]
     },
     "metadata": {},
     "output_type": "display_data"
    }
   ],
   "source": [
    "optimizer_actor = optimizer_actor_kind(actor_improved_value.parameters(), **optimizer_actor_parameters)\n",
    "\n",
    "for _ in tqdm(range(epochs), \"Actor-Critic learning\", leave=False):\n",
    "    optimizer_critic = optimizer_critic_kind(critic_temporal_difference.parameters(), **optimizer_critic_parameters)\n",
    "    losses = np.array(critic_epoch(optimizer_critic,\n",
    "                                   critic_temporal_difference,\n",
    "                                   critic_iterations,\n",
    "                                   env,\n",
    "                                   actor_batch_size))\n",
    "    actor_epoch(optimizer_actor,\n",
    "                actor_improved_value,\n",
    "                actor_iterations,\n",
    "                env,\n",
    "                actor_batch_size)\n",
    "    plt.plot(losses)\n",
    "    plt.show()"
   ]
  },
  {
   "cell_type": "code",
   "execution_count": null,
   "id": "81819dff",
   "metadata": {},
   "outputs": [],
   "source": []
  }
 ],
 "metadata": {
  "kernelspec": {
   "display_name": "Python 3 (ipykernel)",
   "language": "python",
   "name": "python3"
  },
  "language_info": {
   "codemirror_mode": {
    "name": "ipython",
    "version": 3
   },
   "file_extension": ".py",
   "mimetype": "text/x-python",
   "name": "python",
   "nbconvert_exporter": "python",
   "pygments_lexer": "ipython3",
   "version": "3.9.7"
  }
 },
 "nbformat": 4,
 "nbformat_minor": 5
}
