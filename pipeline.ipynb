{
 "cells": [
  {
   "cell_type": "markdown",
   "id": "c3e605dc",
   "metadata": {},
   "source": [
    "## Imports"
   ]
  },
  {
   "cell_type": "code",
   "execution_count": 29,
   "id": "d24facb1",
   "metadata": {},
   "outputs": [
    {
     "name": "stdout",
     "output_type": "stream",
     "text": [
      "The autoreload extension is already loaded. To reload it, use:\n",
      "  %reload_ext autoreload\n"
     ]
    }
   ],
   "source": [
    "%load_ext autoreload\n",
    "%autoreload 2\n",
    "\n",
    "from utils.prepare_data import prepare_short_data, prepare_full_data\n",
    "from environment import Environment\n",
    "from models.base_model import Base_model\n",
    "from models.DQN import DQN\n",
    "\n",
    "from datetime import timedelta, datetime\n",
    "from matplotlib import pyplot as plt\n",
    "\n",
    "import warnings\n",
    "warnings.filterwarnings('ignore')\n",
    "\n",
    "from models.TD import ActorModel, CriticModel, ActorImprovedValue, CriticTD, critic_epoch, actor_epoch\n",
    "import torch\n",
    "from tqdm import tqdm\n",
    "import numpy as np"
   ]
  },
  {
   "cell_type": "markdown",
   "id": "bb142982",
   "metadata": {},
   "source": [
    "## Constants"
   ]
  },
  {
   "cell_type": "code",
   "execution_count": 2,
   "id": "907ddbfa",
   "metadata": {
    "scrolled": true
   },
   "outputs": [],
   "source": [
    "df = prepare_full_data('data/Data_RU.xlsx')"
   ]
  },
  {
   "cell_type": "code",
   "execution_count": 3,
   "id": "776eb04f",
   "metadata": {
    "scrolled": true
   },
   "outputs": [
    {
     "data": {
      "text/html": [
       "<div>\n",
       "<style scoped>\n",
       "    .dataframe tbody tr th:only-of-type {\n",
       "        vertical-align: middle;\n",
       "    }\n",
       "\n",
       "    .dataframe tbody tr th {\n",
       "        vertical-align: top;\n",
       "    }\n",
       "\n",
       "    .dataframe thead th {\n",
       "        text-align: right;\n",
       "    }\n",
       "</style>\n",
       "<table border=\"1\" class=\"dataframe\">\n",
       "  <thead>\n",
       "    <tr style=\"text-align: right;\">\n",
       "      <th></th>\n",
       "      <th>Date</th>\n",
       "      <th>Weekday</th>\n",
       "      <th>AFKS_close</th>\n",
       "      <th>AFKS_high</th>\n",
       "      <th>AFKS_low</th>\n",
       "      <th>AFKS_open</th>\n",
       "      <th>AFKS_volume</th>\n",
       "      <th>AFKS_D1</th>\n",
       "      <th>AFKS_D2</th>\n",
       "      <th>AFKS_D3</th>\n",
       "      <th>AFKS_D4</th>\n",
       "    </tr>\n",
       "  </thead>\n",
       "  <tbody>\n",
       "    <tr>\n",
       "      <th>21</th>\n",
       "      <td>2018-02-01</td>\n",
       "      <td>3</td>\n",
       "      <td>12.265</td>\n",
       "      <td>12.265</td>\n",
       "      <td>12.105</td>\n",
       "      <td>12.140</td>\n",
       "      <td>10856600.0</td>\n",
       "      <td>0.011667</td>\n",
       "      <td>0.010297</td>\n",
       "      <td>0.010297</td>\n",
       "      <td>0.002891</td>\n",
       "    </tr>\n",
       "    <tr>\n",
       "      <th>22</th>\n",
       "      <td>2018-02-02</td>\n",
       "      <td>4</td>\n",
       "      <td>12.000</td>\n",
       "      <td>12.365</td>\n",
       "      <td>11.960</td>\n",
       "      <td>12.265</td>\n",
       "      <td>15760300.0</td>\n",
       "      <td>0.070244</td>\n",
       "      <td>-0.021606</td>\n",
       "      <td>0.008153</td>\n",
       "      <td>0.025502</td>\n",
       "    </tr>\n",
       "    <tr>\n",
       "      <th>24</th>\n",
       "      <td>2018-02-06</td>\n",
       "      <td>1</td>\n",
       "      <td>11.460</td>\n",
       "      <td>11.785</td>\n",
       "      <td>11.420</td>\n",
       "      <td>11.700</td>\n",
       "      <td>24278300.0</td>\n",
       "      <td>0.016949</td>\n",
       "      <td>-0.020513</td>\n",
       "      <td>0.007265</td>\n",
       "      <td>0.024518</td>\n",
       "    </tr>\n",
       "    <tr>\n",
       "      <th>26</th>\n",
       "      <td>2018-02-08</td>\n",
       "      <td>3</td>\n",
       "      <td>11.505</td>\n",
       "      <td>11.720</td>\n",
       "      <td>11.475</td>\n",
       "      <td>11.560</td>\n",
       "      <td>8508300.0</td>\n",
       "      <td>-0.061688</td>\n",
       "      <td>-0.004758</td>\n",
       "      <td>0.013841</td>\n",
       "      <td>0.007407</td>\n",
       "    </tr>\n",
       "    <tr>\n",
       "      <th>29</th>\n",
       "      <td>2018-02-13</td>\n",
       "      <td>1</td>\n",
       "      <td>12.320</td>\n",
       "      <td>12.715</td>\n",
       "      <td>12.250</td>\n",
       "      <td>12.660</td>\n",
       "      <td>19482300.0</td>\n",
       "      <td>0.033469</td>\n",
       "      <td>-0.026856</td>\n",
       "      <td>0.004344</td>\n",
       "      <td>0.033469</td>\n",
       "    </tr>\n",
       "  </tbody>\n",
       "</table>\n",
       "</div>"
      ],
      "text/plain": [
       "         Date  Weekday  AFKS_close  AFKS_high  AFKS_low  AFKS_open  \\\n",
       "21 2018-02-01        3      12.265     12.265    12.105     12.140   \n",
       "22 2018-02-02        4      12.000     12.365    11.960     12.265   \n",
       "24 2018-02-06        1      11.460     11.785    11.420     11.700   \n",
       "26 2018-02-08        3      11.505     11.720    11.475     11.560   \n",
       "29 2018-02-13        1      12.320     12.715    12.250     12.660   \n",
       "\n",
       "    AFKS_volume   AFKS_D1   AFKS_D2   AFKS_D3   AFKS_D4  \n",
       "21   10856600.0  0.011667  0.010297  0.010297  0.002891  \n",
       "22   15760300.0  0.070244 -0.021606  0.008153  0.025502  \n",
       "24   24278300.0  0.016949 -0.020513  0.007265  0.024518  \n",
       "26    8508300.0 -0.061688 -0.004758  0.013841  0.007407  \n",
       "29   19482300.0  0.033469 -0.026856  0.004344  0.033469  "
      ]
     },
     "execution_count": 3,
     "metadata": {},
     "output_type": "execute_result"
    }
   ],
   "source": [
    "env = Environment(data=df[df.Date < datetime(2022, 2, 1)], stock_name='AFKS', initial_money=1000)\n",
    "env.data.head()"
   ]
  },
  {
   "cell_type": "code",
   "execution_count": 4,
   "id": "43820e31",
   "metadata": {},
   "outputs": [],
   "source": [
    "start_date = env.first_date()"
   ]
  },
  {
   "cell_type": "markdown",
   "id": "26de886f",
   "metadata": {},
   "source": [
    "## DQN"
   ]
  },
  {
   "cell_type": "code",
   "execution_count": 5,
   "id": "376f7f4c",
   "metadata": {},
   "outputs": [
    {
     "name": "stderr",
     "output_type": "stream",
     "text": [
      "100%|██████████| 10000/10000 [02:24<00:00, 69.25it/s]\n"
     ]
    }
   ],
   "source": [
    "# 15 is random nummber in [10, days_count] here\n",
    "dqn = DQN(env.observation_tensor(15).shape[0], 3, env, batch_size=32)\n",
    "dqn.fit()"
   ]
  },
  {
   "cell_type": "code",
   "execution_count": 6,
   "id": "8bc236b4",
   "metadata": {},
   "outputs": [],
   "source": [
    "env.reset()\n",
    "for i in range(10, env.day_count-1):\n",
    "    obs = env.observation_tensor(i)\n",
    "    action = dqn.predict(obs)\n",
    "    \n",
    "    reward = env.reward(i, action)\n",
    "    state = env.observation_tensor(i)\n",
    "#     model.fit(state, action, reward)\n",
    "    \n",
    "    env.transition(i, action)"
   ]
  },
  {
   "cell_type": "code",
   "execution_count": 7,
   "id": "48c0ae87",
   "metadata": {
    "scrolled": true
   },
   "outputs": [
    {
     "data": {
      "text/plain": [
       "[<matplotlib.lines.Line2D at 0x250b4497b80>]"
      ]
     },
     "execution_count": 7,
     "metadata": {},
     "output_type": "execute_result"
    },
    {
     "data": {
      "image/png": "[encoded data removed]",
      "text/plain": [
       "<Figure size 432x288 with 1 Axes>"
      ]
     },
     "metadata": {
      "needs_background": "light"
     },
     "output_type": "display_data"
    }
   ],
   "source": [
    "plt.plot(range(10, env.day_count), env.money)"
   ]
  },
  {
   "cell_type": "code",
   "execution_count": 8,
   "id": "5aac5da0",
   "metadata": {
    "scrolled": true
   },
   "outputs": [
    {
     "data": {
      "text/plain": [
       "[<matplotlib.lines.Line2D at 0x250b44f1190>]"
      ]
     },
     "execution_count": 8,
     "metadata": {},
     "output_type": "execute_result"
    },
    {
     "data": {
      "image/png": "[encoded data removed]",
      "text/plain": [
       "<Figure size 432x288 with 1 Axes>"
      ]
     },
     "metadata": {
      "needs_background": "light"
     },
     "output_type": "display_data"
    }
   ],
   "source": [
    "plt.plot(range(10, env.day_count), env.stocks)"
   ]
  },
  {
   "cell_type": "code",
   "execution_count": 9,
   "id": "6d64d6d2",
   "metadata": {},
   "outputs": [
    {
     "data": {
      "text/plain": [
       "[<matplotlib.lines.Line2D at 0x250b50575e0>]"
      ]
     },
     "execution_count": 9,
     "metadata": {},
     "output_type": "execute_result"
    },
    {
     "data": {
      "image/png": "[encoded data removed]",
      "text/plain": [
       "<Figure size 432x288 with 1 Axes>"
      ]
     },
     "metadata": {
      "needs_background": "light"
     },
     "output_type": "display_data"
    }
   ],
   "source": [
    "plt.plot(range(10, env.day_count), env.total_cost())"
   ]
  },
  {
   "cell_type": "code",
   "execution_count": 10,
   "id": "5ee5b128",
   "metadata": {},
   "outputs": [
    {
     "data": {
      "text/plain": [
       "[<matplotlib.lines.Line2D at 0x250b52c1580>]"
      ]
     },
     "execution_count": 10,
     "metadata": {},
     "output_type": "execute_result"
    },
    {
     "data": {
      "image/png": "[encoded data removed]",
      "text/plain": [
       "<Figure size 432x288 with 1 Axes>"
      ]
     },
     "metadata": {
      "needs_background": "light"
     },
     "output_type": "display_data"
    }
   ],
   "source": [
    "plt.plot(range(10, env.day_count), env.stock_cost())"
   ]
  },
  {
   "cell_type": "markdown",
   "id": "d921b34d",
   "metadata": {},
   "source": [
    "### Add more stocks to train on"
   ]
  },
  {
   "cell_type": "code",
   "execution_count": 11,
   "id": "20bc2f33",
   "metadata": {},
   "outputs": [
    {
     "name": "stderr",
     "output_type": "stream",
     "text": [
      "100%|██████████| 10000/10000 [03:50<00:00, 43.40it/s]\n",
      "100%|██████████| 10000/10000 [03:46<00:00, 44.08it/s]\n",
      "100%|██████████| 10000/10000 [03:45<00:00, 44.33it/s]\n"
     ]
    }
   ],
   "source": [
    "env = Environment(data=df, stock_name='AFKS', initial_money=1000)\n",
    "dqn = DQN(env.observation_tensor(15).shape[0],\n",
    "          3,\n",
    "          env,\n",
    "          batch_size=128)\n",
    "for s in ['AFKS', \n",
    "          'SBER',\n",
    "          'YNDX',\n",
    "#           'GAZP'\n",
    "         ]:\n",
    "    state = dqn.state_dict()\n",
    "    env = Environment(data=df, stock_name=s, initial_money=1000)\n",
    "    dqn.fit(state)"
   ]
  },
  {
   "cell_type": "code",
   "execution_count": null,
   "id": "89fe5a69",
   "metadata": {},
   "outputs": [],
   "source": []
  },
  {
   "cell_type": "markdown",
   "id": "1f014b8b",
   "metadata": {},
   "source": [
    "## Testing"
   ]
  },
  {
   "cell_type": "code",
   "execution_count": 12,
   "id": "60e854a0",
   "metadata": {},
   "outputs": [],
   "source": [
    "test_env = Environment(data=df, stock_name='SBER', initial_money=1000)\n",
    "# test_env = Environment(data=df, stock_name='AFKS', initial_money=1000)"
   ]
  },
  {
   "cell_type": "code",
   "execution_count": 13,
   "id": "62588574",
   "metadata": {},
   "outputs": [],
   "source": [
    "test_env.reset()\n",
    "for i in range(10, test_env.day_count-1):\n",
    "    obs = test_env.observation_tensor(i)\n",
    "    action = dqn.predict(obs)\n",
    "    \n",
    "    reward = test_env.reward(i, action)\n",
    "    state = test_env.observation_tensor(i)\n",
    "#     model.fit(state, action, reward)\n",
    "    \n",
    "    test_env.transition(i, action)"
   ]
  },
  {
   "cell_type": "code",
   "execution_count": 14,
   "id": "9e0452d7",
   "metadata": {},
   "outputs": [
    {
     "data": {
      "text/plain": [
       "[<matplotlib.lines.Line2D at 0x250b43e4df0>]"
      ]
     },
     "execution_count": 14,
     "metadata": {},
     "output_type": "execute_result"
    },
    {
     "data": {
      "image/png": "[encoded data removed]",
      "text/plain": [
       "<Figure size 432x288 with 1 Axes>"
      ]
     },
     "metadata": {
      "needs_background": "light"
     },
     "output_type": "display_data"
    }
   ],
   "source": [
    "plt.plot(range(10, test_env.day_count), test_env.total_cost())"
   ]
  },
  {
   "cell_type": "code",
   "execution_count": 15,
   "id": "59ebca9d",
   "metadata": {},
   "outputs": [
    {
     "data": {
      "text/plain": [
       "[<matplotlib.lines.Line2D at 0x250b53e5f70>]"
      ]
     },
     "execution_count": 15,
     "metadata": {},
     "output_type": "execute_result"
    },
    {
     "data": {
      "image/png": "[encoded data removed]",
      "text/plain": [
       "<Figure size 432x288 with 1 Axes>"
      ]
     },
     "metadata": {
      "needs_background": "light"
     },
     "output_type": "display_data"
    }
   ],
   "source": [
    "plt.plot(range(10, test_env.day_count), test_env.money)"
   ]
  },
  {
   "cell_type": "code",
   "execution_count": 16,
   "id": "eaa24fd0",
   "metadata": {},
   "outputs": [
    {
     "data": {
      "text/plain": [
       "[<matplotlib.lines.Line2D at 0x250b4f9e2b0>]"
      ]
     },
     "execution_count": 16,
     "metadata": {},
     "output_type": "execute_result"
    },
    {
     "data": {
      "image/png": "[encoded data removed]",
      "text/plain": [
       "<Figure size 432x288 with 1 Axes>"
      ]
     },
     "metadata": {
      "needs_background": "light"
     },
     "output_type": "display_data"
    }
   ],
   "source": [
    "plt.plot(range(10, test_env.day_count), test_env.stocks)"
   ]
  },
  {
   "cell_type": "code",
   "execution_count": 17,
   "id": "5eaea418",
   "metadata": {},
   "outputs": [
    {
     "data": {
      "text/plain": [
       "[<matplotlib.lines.Line2D at 0x250b4842970>]"
      ]
     },
     "execution_count": 17,
     "metadata": {},
     "output_type": "execute_result"
    },
    {
     "data": {
      "image/png": "[encoded data removed]",
      "text/plain": [
       "<Figure size 432x288 with 1 Axes>"
      ]
     },
     "metadata": {
      "needs_background": "light"
     },
     "output_type": "display_data"
    }
   ],
   "source": [
    "plt.plot(range(10, test_env.day_count), test_env.stock_cost())"
   ]
  },
  {
   "cell_type": "markdown",
   "id": "c135e4e8",
   "metadata": {},
   "source": [
    "## TD model"
   ]
  },
  {
   "cell_type": "code",
   "execution_count": 60,
   "id": "e109762d",
   "metadata": {},
   "outputs": [],
   "source": [
    "from models.TD import TD"
   ]
  },
  {
   "cell_type": "code",
   "execution_count": 61,
   "id": "bafe66d4",
   "metadata": {},
   "outputs": [],
   "source": [
    "model = TD(128, env, 100)"
   ]
  },
  {
   "cell_type": "code",
   "execution_count": 62,
   "id": "81b0e286",
   "metadata": {},
   "outputs": [
    {
     "data": {
      "application/vnd.jupyter.widget-view+json": {
       "model_id": "",
       "version_major": 2,
       "version_minor": 0
      },
      "text/plain": [
       "Actor-Critic learning:   0%|          | 0/5 [00:00<?, ?it/s]"
      ]
     },
     "metadata": {},
     "output_type": "display_data"
    },
    {
     "data": {
      "application/vnd.jupyter.widget-view+json": {
       "model_id": "81d105787a9547228aa34f44a58f27b3",
       "version_major": 2,
       "version_minor": 0
      },
      "text/plain": [
       "Critic epoch:   0%|          | 0/100 [00:00<?, ?it/s]"
      ]
     },
     "metadata": {},
     "output_type": "display_data"
    },
    {
     "name": "stdout",
     "output_type": "stream",
     "text": [
      "Critic mean loss: 46104016.0\n"
     ]
    },
    {
     "data": {
      "application/vnd.jupyter.widget-view+json": {
       "model_id": "8e891e0f0c85426d8c8de90263984b37",
       "version_major": 2,
       "version_minor": 0
      },
      "text/plain": [
       "Actor epoch:   0%|          | 0/100 [00:00<?, ?it/s]"
      ]
     },
     "metadata": {},
     "output_type": "display_data"
    },
    {
     "name": "stdout",
     "output_type": "stream",
     "text": [
      "Actor mean value: -117.2208023071289\n"
     ]
    },
    {
     "data": {
      "application/vnd.jupyter.widget-view+json": {
       "model_id": "7b42fb0ed0084fa9953cdea862b0a5ad",
       "version_major": 2,
       "version_minor": 0
      },
      "text/plain": [
       "Critic epoch:   0%|          | 0/100 [00:00<?, ?it/s]"
      ]
     },
     "metadata": {},
     "output_type": "display_data"
    },
    {
     "name": "stdout",
     "output_type": "stream",
     "text": [
      "Critic mean loss: 70112080.0\n"
     ]
    },
    {
     "data": {
      "application/vnd.jupyter.widget-view+json": {
       "model_id": "0a08a6a946fa4995a52091ee8bc21d04",
       "version_major": 2,
       "version_minor": 0
      },
      "text/plain": [
       "Actor epoch:   0%|          | 0/100 [00:00<?, ?it/s]"
      ]
     },
     "metadata": {},
     "output_type": "display_data"
    },
    {
     "name": "stdout",
     "output_type": "stream",
     "text": [
      "Actor mean value: -186.4030303955078\n"
     ]
    },
    {
     "data": {
      "application/vnd.jupyter.widget-view+json": {
       "model_id": "ded6dfee082146f98fb0fbaf5e20ae0a",
       "version_major": 2,
       "version_minor": 0
      },
      "text/plain": [
       "Critic epoch:   0%|          | 0/100 [00:00<?, ?it/s]"
      ]
     },
     "metadata": {},
     "output_type": "display_data"
    },
    {
     "name": "stdout",
     "output_type": "stream",
     "text": [
      "Critic mean loss: 63028912.0\n"
     ]
    },
    {
     "data": {
      "application/vnd.jupyter.widget-view+json": {
       "model_id": "cacaf68cfe1b482a900cbdf23e40d05f",
       "version_major": 2,
       "version_minor": 0
      },
      "text/plain": [
       "Actor epoch:   0%|          | 0/100 [00:00<?, ?it/s]"
      ]
     },
     "metadata": {},
     "output_type": "display_data"
    },
    {
     "name": "stdout",
     "output_type": "stream",
     "text": [
      "Actor mean value: -346.5693054199219\n"
     ]
    },
    {
     "data": {
      "application/vnd.jupyter.widget-view+json": {
       "model_id": "228a935f72eb47e9bbe6fd3c9885fa73",
       "version_major": 2,
       "version_minor": 0
      },
      "text/plain": [
       "Critic epoch:   0%|          | 0/100 [00:00<?, ?it/s]"
      ]
     },
     "metadata": {},
     "output_type": "display_data"
    },
    {
     "name": "stdout",
     "output_type": "stream",
     "text": [
      "Critic mean loss: 74727800.0\n"
     ]
    },
    {
     "data": {
      "application/vnd.jupyter.widget-view+json": {
       "model_id": "36cf670e60764512af8c63258d2cb1ca",
       "version_major": 2,
       "version_minor": 0
      },
      "text/plain": [
       "Actor epoch:   0%|          | 0/100 [00:00<?, ?it/s]"
      ]
     },
     "metadata": {},
     "output_type": "display_data"
    },
    {
     "name": "stdout",
     "output_type": "stream",
     "text": [
      "Actor mean value: -88.81214904785156\n"
     ]
    },
    {
     "data": {
      "application/vnd.jupyter.widget-view+json": {
       "model_id": "48871ebd0192447095fbb55917cb90d7",
       "version_major": 2,
       "version_minor": 0
      },
      "text/plain": [
       "Critic epoch:   0%|          | 0/100 [00:00<?, ?it/s]"
      ]
     },
     "metadata": {},
     "output_type": "display_data"
    },
    {
     "name": "stdout",
     "output_type": "stream",
     "text": [
      "Critic mean loss: 67327944.0\n"
     ]
    },
    {
     "data": {
      "application/vnd.jupyter.widget-view+json": {
       "model_id": "20e8fee1bc2540b083066b896b9b0704",
       "version_major": 2,
       "version_minor": 0
      },
      "text/plain": [
       "Actor epoch:   0%|          | 0/100 [00:00<?, ?it/s]"
      ]
     },
     "metadata": {},
     "output_type": "display_data"
    },
    {
     "name": "stdout",
     "output_type": "stream",
     "text": [
      "Actor mean value: -201.9898681640625\n"
     ]
    }
   ],
   "source": [
    "model.fit()"
   ]
  },
  {
   "cell_type": "code",
   "execution_count": 64,
   "id": "42e54845",
   "metadata": {},
   "outputs": [],
   "source": [
    "test_env = Environment(data=df, stock_name='SBER', initial_money=1000)"
   ]
  },
  {
   "cell_type": "raw",
   "id": "6e992581",
   "metadata": {},
   "source": []
  },
  {
   "cell_type": "code",
   "execution_count": 65,
   "id": "b0c0c76e",
   "metadata": {},
   "outputs": [],
   "source": [
    "test_env.reset()\n",
    "for i in range(10, test_env.day_count-1):\n",
    "    obs = test_env.observation_tensor(i)\n",
    "    action = model.predict(obs)\n",
    "    \n",
    "    reward = test_env.reward(i, action)\n",
    "    state = test_env.observation_tensor(i)\n",
    "    \n",
    "    test_env.transition(i, action)"
   ]
  },
  {
   "cell_type": "code",
   "execution_count": 66,
   "id": "c04e376c",
   "metadata": {},
   "outputs": [
    {
     "data": {
      "text/plain": [
       "[<matplotlib.lines.Line2D at 0x250b52957f0>]"
      ]
     },
     "execution_count": 66,
     "metadata": {},
     "output_type": "execute_result"
    },
    {
     "data": {
      "image/png": "[encoded data removed]",
      "text/plain": [
       "<Figure size 432x288 with 1 Axes>"
      ]
     },
     "metadata": {
      "needs_background": "light"
     },
     "output_type": "display_data"
    }
   ],
   "source": [
    "plt.plot(range(10, test_env.day_count), test_env.total_cost())"
   ]
  },
  {
   "cell_type": "code",
   "execution_count": null,
   "id": "af54935e",
   "metadata": {},
   "outputs": [],
   "source": [
    "plt.plot(range(10, test_env.day_count), test_env.money)"
   ]
  },
  {
   "cell_type": "code",
   "execution_count": null,
   "id": "13bd6026",
   "metadata": {},
   "outputs": [],
   "source": [
    "plt.plot(range(10, test_env.day_count), test_env.stocks)"
   ]
  },
  {
   "cell_type": "markdown",
   "id": "2aaaf031",
   "metadata": {},
   "source": [
    "## RRT"
   ]
  },
  {
   "cell_type": "code",
   "execution_count": 67,
   "id": "dc0a65ca",
   "metadata": {},
   "outputs": [],
   "source": [
    "from models.RRT import Random_trees"
   ]
  },
  {
   "cell_type": "code",
   "execution_count": 68,
   "id": "1de14ed3",
   "metadata": {},
   "outputs": [],
   "source": [
    "stocks_names = ['AMEZ', 'AQUA', 'VTBR']\n",
    "env_dict ={}\n",
    "for name in stocks_names:\n",
    "    env_dict[name]=Environment(data=df, stock_name=name, initial_money=1000)"
   ]
  },
  {
   "cell_type": "code",
   "execution_count": 69,
   "id": "557e0161",
   "metadata": {},
   "outputs": [
    {
     "name": "stdout",
     "output_type": "stream",
     "text": [
      "N processed points: 3\n"
     ]
    },
    {
     "name": "stderr",
     "output_type": "stream",
     "text": [
      "100%|██████████| 3/3 [00:00<00:00, 41.66it/s]\n"
     ]
    },
    {
     "name": "stdout",
     "output_type": "stream",
     "text": [
      " Probabilities for step 10: action_probas, action: -1\n",
      "N processed points: 6\n"
     ]
    },
    {
     "name": "stderr",
     "output_type": "stream",
     "text": [
      "100%|██████████| 6/6 [00:00<00:00, 60.67it/s]\n"
     ]
    },
    {
     "name": "stdout",
     "output_type": "stream",
     "text": [
      " Probabilities for step 11: action_probas, action: -1\n",
      "N processed points: 9\n"
     ]
    },
    {
     "name": "stderr",
     "output_type": "stream",
     "text": [
      "100%|██████████| 9/9 [00:00<00:00, 55.88it/s]\n"
     ]
    },
    {
     "name": "stdout",
     "output_type": "stream",
     "text": [
      " Probabilities for step 12: action_probas, action: -1\n",
      "N processed points: 12\n"
     ]
    },
    {
     "name": "stderr",
     "output_type": "stream",
     "text": [
      "100%|██████████| 12/12 [00:00<00:00, 61.20it/s]\n"
     ]
    },
    {
     "name": "stdout",
     "output_type": "stream",
     "text": [
      " Probabilities for step 13: action_probas, action: -1\n",
      "N processed points: 15\n"
     ]
    },
    {
     "name": "stderr",
     "output_type": "stream",
     "text": [
      "100%|██████████| 15/15 [00:00<00:00, 58.23it/s]\n"
     ]
    },
    {
     "name": "stdout",
     "output_type": "stream",
     "text": [
      " Probabilities for step 14: action_probas, action: -1\n",
      "N processed points: 18\n"
     ]
    },
    {
     "name": "stderr",
     "output_type": "stream",
     "text": [
      "100%|██████████| 18/18 [00:00<00:00, 51.35it/s]\n"
     ]
    },
    {
     "name": "stdout",
     "output_type": "stream",
     "text": [
      " Probabilities for step 15: action_probas, action: -1\n",
      "N processed points: 21\n"
     ]
    },
    {
     "name": "stderr",
     "output_type": "stream",
     "text": [
      "100%|██████████| 21/21 [00:00<00:00, 54.12it/s]\n"
     ]
    },
    {
     "name": "stdout",
     "output_type": "stream",
     "text": [
      " Probabilities for step 16: action_probas, action: -1\n",
      "N processed points: 24\n"
     ]
    },
    {
     "name": "stderr",
     "output_type": "stream",
     "text": [
      "100%|██████████| 24/24 [00:00<00:00, 61.53it/s]\n"
     ]
    },
    {
     "name": "stdout",
     "output_type": "stream",
     "text": [
      " Probabilities for step 17: action_probas, action: -1\n",
      "N processed points: 27\n"
     ]
    },
    {
     "name": "stderr",
     "output_type": "stream",
     "text": [
      "100%|██████████| 27/27 [00:00<00:00, 59.93it/s]\n"
     ]
    },
    {
     "name": "stdout",
     "output_type": "stream",
     "text": [
      " Probabilities for step 18: action_probas, action: -1\n",
      "N processed points: 30\n"
     ]
    },
    {
     "name": "stderr",
     "output_type": "stream",
     "text": [
      "100%|██████████| 30/30 [00:00<00:00, 59.99it/s]"
     ]
    },
    {
     "name": "stdout",
     "output_type": "stream",
     "text": [
      " Probabilities for step 19: action_probas, action: -1\n"
     ]
    },
    {
     "name": "stderr",
     "output_type": "stream",
     "text": [
      "\n"
     ]
    }
   ],
   "source": [
    "test_stock_name = 'BELU'\n",
    "env = Environment(data=df, stock_name=test_stock_name, initial_money=1000)\n",
    "env.reset()\n",
    "day_count = 10\n",
    "stocks_dict = env_dict\n",
    "act_space = [-1, 0, 1]\n",
    "\n",
    "model = Random_trees()\n",
    "for i in range(10, 10+day_count):\n",
    "    obs = env.observation_tensor(i)\n",
    "    model.fit(stocks_dict, obs[-2:], obs[:-2], i)\n",
    "    action_probas = model.predict(obs, i, stocks_dict)\n",
    "    action = act_space[np.argmax(action_probas)]\n",
    "    print(f' Probabilities for step {i}: action_probas, action: {action}')\n",
    "    env.transition(action, i)"
   ]
  },
  {
   "cell_type": "code",
   "execution_count": 70,
   "id": "52021a55",
   "metadata": {},
   "outputs": [],
   "source": [
    "test_env = Environment(data=df, stock_name='SBER', initial_money=1000)"
   ]
  },
  {
   "cell_type": "code",
   "execution_count": 72,
   "id": "ce876689",
   "metadata": {},
   "outputs": [
    {
     "ename": "TypeError",
     "evalue": "predict() missing 2 required positional arguments: 'ind' and 'stocks_dict'",
     "output_type": "error",
     "traceback": [
      "\u001b[1;31m---------------------------------------------------------------------------\u001b[0m",
      "\u001b[1;31mTypeError\u001b[0m                                 Traceback (most recent call last)",
      "\u001b[1;32mC:\\Users\\SNIPER~1\\AppData\\Local\\Temp/ipykernel_10860/2409444938.py\u001b[0m in \u001b[0;36m<module>\u001b[1;34m\u001b[0m\n\u001b[0;32m      2\u001b[0m \u001b[1;32mfor\u001b[0m \u001b[0mi\u001b[0m \u001b[1;32min\u001b[0m \u001b[0mrange\u001b[0m\u001b[1;33m(\u001b[0m\u001b[1;36m10\u001b[0m\u001b[1;33m,\u001b[0m \u001b[0mtest_env\u001b[0m\u001b[1;33m.\u001b[0m\u001b[0mday_count\u001b[0m\u001b[1;33m-\u001b[0m\u001b[1;36m1\u001b[0m\u001b[1;33m)\u001b[0m\u001b[1;33m:\u001b[0m\u001b[1;33m\u001b[0m\u001b[1;33m\u001b[0m\u001b[0m\n\u001b[0;32m      3\u001b[0m     \u001b[0mobs\u001b[0m \u001b[1;33m=\u001b[0m \u001b[0mtest_env\u001b[0m\u001b[1;33m.\u001b[0m\u001b[0mobservation_tensor\u001b[0m\u001b[1;33m(\u001b[0m\u001b[0mi\u001b[0m\u001b[1;33m)\u001b[0m\u001b[1;33m\u001b[0m\u001b[1;33m\u001b[0m\u001b[0m\n\u001b[1;32m----> 4\u001b[1;33m     \u001b[0maction\u001b[0m \u001b[1;33m=\u001b[0m \u001b[0mmodel\u001b[0m\u001b[1;33m.\u001b[0m\u001b[0mpredict\u001b[0m\u001b[1;33m(\u001b[0m\u001b[0mobs\u001b[0m\u001b[1;33m)\u001b[0m\u001b[1;33m\u001b[0m\u001b[1;33m\u001b[0m\u001b[0m\n\u001b[0m\u001b[0;32m      5\u001b[0m \u001b[1;33m\u001b[0m\u001b[0m\n\u001b[0;32m      6\u001b[0m     \u001b[0mreward\u001b[0m \u001b[1;33m=\u001b[0m \u001b[0mtest_env\u001b[0m\u001b[1;33m.\u001b[0m\u001b[0mreward\u001b[0m\u001b[1;33m(\u001b[0m\u001b[0mi\u001b[0m\u001b[1;33m,\u001b[0m \u001b[0maction\u001b[0m\u001b[1;33m)\u001b[0m\u001b[1;33m\u001b[0m\u001b[1;33m\u001b[0m\u001b[0m\n",
      "\u001b[1;31mTypeError\u001b[0m: predict() missing 2 required positional arguments: 'ind' and 'stocks_dict'"
     ]
    }
   ],
   "source": [
    "test_env.reset()\n",
    "for i in range(10, test_env.day_count-1):\n",
    "    obs = test_env.observation_tensor(i)\n",
    "    action = model.predict(obs)\n",
    "    \n",
    "    reward = test_env.reward(i, action)\n",
    "    state = test_env.observation_tensor(i)\n",
    "    \n",
    "    test_env.transition(i, action)"
   ]
  },
  {
   "cell_type": "code",
   "execution_count": null,
   "id": "571568eb",
   "metadata": {},
   "outputs": [],
   "source": []
  },
  {
   "cell_type": "code",
   "execution_count": null,
   "id": "7dc27201",
   "metadata": {},
   "outputs": [],
   "source": []
  }
 ],
 "metadata": {
  "kernelspec": {
   "display_name": "Python 3 (ipykernel)",
   "language": "python",
   "name": "python3"
  },
  "language_info": {
   "codemirror_mode": {
    "name": "ipython",
    "version": 3
   },
   "file_extension": ".py",
   "mimetype": "text/x-python",
   "name": "python",
   "nbconvert_exporter": "python",
   "pygments_lexer": "ipython3",
   "version": "3.9.7"
  }
 },
 "nbformat": 4,
 "nbformat_minor": 5
}
